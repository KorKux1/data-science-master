{
 "cells": [
  {
   "cell_type": "markdown",
   "metadata": {},
   "source": [
    "<div align=\"center\">\n",
    "  <img width=\"600px\" src=\"https://www.collinsdictionary.com/images/full/baseball_557405302_1000.jpg\">\n",
    "</div>"
   ]
  },
  {
   "cell_type": "markdown",
   "metadata": {},
   "source": [
    "# Baseball Salary Predict"
   ]
  },
  {
   "cell_type": "markdown",
   "metadata": {
    "ExecuteTime": {
     "end_time": "2022-05-22T17:39:32.812624Z",
     "start_time": "2022-05-22T17:39:32.807515Z"
    }
   },
   "source": [
    "**Authors**:\n",
    "- Cristhian Castillo\n",
    "- Kevin Zarama"
   ]
  },
  {
   "cell_type": "markdown",
   "metadata": {},
   "source": [
    "In this notebook, we are going to work on building models to predict the salary of baseball players."
   ]
  },
  {
   "cell_type": "markdown",
   "metadata": {},
   "source": [
    "**Notebook Objetive**: Obtain a reliable model to predict the salary of baseball players."
   ]
  },
  {
   "cell_type": "markdown",
   "metadata": {
    "toc": true
   },
   "source": [
    "<h1>Table of Contents<span class=\"tocSkip\"></span></h1>\n",
    "<div class=\"toc\"><ul class=\"toc-item\"><li><span><a href=\"#Packages-and-Functions\" data-toc-modified-id=\"Packages-and-Functions-1\">Packages and Functions</a></span><ul class=\"toc-item\"><li><span><a href=\"#Packages\" data-toc-modified-id=\"Packages-1.1\">Packages</a></span></li><li><span><a href=\"#Custom-Functions\" data-toc-modified-id=\"Custom-Functions-1.2\">Custom Functions</a></span></li></ul></li><li><span><a href=\"#trabajo\" data-toc-modified-id=\"trabajo-2\">trabajo</a></span></li><li><span><a href=\"#Load-datasets\" data-toc-modified-id=\"Load-datasets-3\">Load datasets</a></span></li><li><span><a href=\"#Data-Preparation\" data-toc-modified-id=\"Data-Preparation-4\">Data Preparation</a></span><ul class=\"toc-item\"><li><span><a href=\"#Remove-Variables\" data-toc-modified-id=\"Remove-Variables-4.1\">Remove Variables</a></span></li><li><span><a href=\"#Separation-of-variables\" data-toc-modified-id=\"Separation-of-variables-4.2\">Separation of variables</a></span></li><li><span><a href=\"#One-Hot-Encoder\" data-toc-modified-id=\"One-Hot-Encoder-4.3\">One Hot Encoder</a></span></li></ul></li><li><span><a href=\"#Baseline\" data-toc-modified-id=\"Baseline-5\">Baseline</a></span></li><li><span><a href=\"#Pipelines\" data-toc-modified-id=\"Pipelines-6\">Pipelines</a></span><ul class=\"toc-item\"><li><span><a href=\"#PCA\" data-toc-modified-id=\"PCA-6.1\">PCA</a></span></li><li><span><a href=\"#Data-Scalling\" data-toc-modified-id=\"Data-Scalling-6.2\">Data Scalling</a></span></li></ul></li><li><span><a href=\"#Base-Model\" data-toc-modified-id=\"Base-Model-7\">Base Model</a></span></li></ul></div>"
   ]
  },
  {
   "cell_type": "markdown",
   "metadata": {},
   "source": [
    "## Packages and Functions"
   ]
  },
  {
   "cell_type": "markdown",
   "metadata": {},
   "source": [
    "### Packages"
   ]
  },
  {
   "cell_type": "code",
   "execution_count": 32,
   "metadata": {
    "ExecuteTime": {
     "end_time": "2022-05-25T23:38:31.329925Z",
     "start_time": "2022-05-25T23:38:31.309080Z"
    }
   },
   "outputs": [],
   "source": [
    "import pandas as pd\n",
    "import numpy as np\n",
    "import math\n",
    "\n",
    "\n",
    "from sklearn.preprocessing import StandardScaler\n",
    "\n",
    "# Models\n",
    "from sklearn.linear_model import LinearRegression, Ridge, Lasso, ElasticNet\n",
    "from sklearn.svm import SVR\n",
    "from sklearn.neighbors import KNeighborsRegressor\n",
    "from sklearn.tree import DecisionTreeRegressor\n",
    "from xgboost import XGBRegressor\n",
    "\n",
    "# Pipelines\n",
    "from sklearn.pipeline import Pipeline\n",
    "\n",
    "# Metrics\n",
    "from sklearn.model_selection import GridSearchCV, cross_val_score\n",
    "from sklearn.metrics import r2_score, mean_squared_error\n",
    "\n",
    "from sklearn.decomposition import PCA"
   ]
  },
  {
   "cell_type": "markdown",
   "metadata": {},
   "source": [
    "### Custom Functions "
   ]
  },
  {
   "cell_type": "code",
   "execution_count": 2,
   "metadata": {
    "ExecuteTime": {
     "end_time": "2022-05-25T21:06:17.320762Z",
     "start_time": "2022-05-25T21:06:17.316235Z"
    }
   },
   "outputs": [],
   "source": [
    "import sys\n",
    "sys.path.append(\"utils/\")"
   ]
  },
  {
   "cell_type": "code",
   "execution_count": 12,
   "metadata": {
    "ExecuteTime": {
     "end_time": "2022-05-25T21:13:26.183054Z",
     "start_time": "2022-05-25T21:13:26.179775Z"
    }
   },
   "outputs": [],
   "source": [
    "from custom_data_preprocessing import get_cols_by_type, one_hot_encoder\n",
    "from custom_metrics import get_linear_metrics"
   ]
  },
  {
   "cell_type": "markdown",
   "metadata": {},
   "source": [
    "## trabajo\n",
    "a.\tEntrenar con todas las variables – Kevin y Jesus\n",
    "\n",
    "b.\tEntrenamiento con solo las variables numéricas – Aura y Cristhian\n",
    "\n",
    "c.\tSin outliers – Kevin y Jesus\n",
    "\n",
    "d.\tAnálisis VIF -> Eliminar variables con alta colinealidad - Aura y Cristhian\n",
    "\n",
    "e.\tPCA -> Completo de todas las variables – Kevin y Jesus\t\n",
    "\n",
    "f.\tPCA -> Variables independientes correlacionadas - Aura y Cristhian\n",
    "\n",
    "g.\tFeatures Selecting"
   ]
  },
  {
   "cell_type": "markdown",
   "metadata": {},
   "source": [
    "## Load datasets"
   ]
  },
  {
   "cell_type": "code",
   "execution_count": 4,
   "metadata": {
    "ExecuteTime": {
     "end_time": "2022-05-25T21:06:23.077711Z",
     "start_time": "2022-05-25T21:06:23.050631Z"
    }
   },
   "outputs": [],
   "source": [
    "df = pd.read_csv(\"datasets/Baseball_Clean.csv\")"
   ]
  },
  {
   "cell_type": "code",
   "execution_count": 5,
   "metadata": {
    "ExecuteTime": {
     "end_time": "2022-05-25T21:06:24.725191Z",
     "start_time": "2022-05-25T21:06:24.715374Z"
    }
   },
   "outputs": [],
   "source": [
    "df_predict = pd.read_csv(\"datasets/Baseball_Predict.csv\")"
   ]
  },
  {
   "cell_type": "markdown",
   "metadata": {},
   "source": [
    "## Data Preparation"
   ]
  },
  {
   "cell_type": "markdown",
   "metadata": {},
   "source": [
    "### Remove Variables"
   ]
  },
  {
   "cell_type": "code",
   "execution_count": 6,
   "metadata": {
    "ExecuteTime": {
     "end_time": "2022-05-25T21:06:27.435125Z",
     "start_time": "2022-05-25T21:06:27.420121Z"
    }
   },
   "outputs": [],
   "source": [
    "df = df.drop([\"Player\", \"Unnamed: 0\"], axis=1)"
   ]
  },
  {
   "cell_type": "markdown",
   "metadata": {},
   "source": [
    "### Separation of variables"
   ]
  },
  {
   "cell_type": "code",
   "execution_count": 7,
   "metadata": {
    "ExecuteTime": {
     "end_time": "2022-05-25T21:06:28.435662Z",
     "start_time": "2022-05-25T21:06:28.428153Z"
    }
   },
   "outputs": [],
   "source": [
    "y = df[\"Salary\"]\n",
    "X = df.drop([\"Salary\"], axis=1)"
   ]
  },
  {
   "cell_type": "markdown",
   "metadata": {
    "ExecuteTime": {
     "end_time": "2022-05-24T15:28:51.825635Z",
     "start_time": "2022-05-24T15:28:51.814852Z"
    }
   },
   "source": [
    "### One Hot Encoder"
   ]
  },
  {
   "cell_type": "code",
   "execution_count": 10,
   "metadata": {
    "ExecuteTime": {
     "end_time": "2022-05-25T21:09:46.363976Z",
     "start_time": "2022-05-25T21:09:46.348383Z"
    }
   },
   "outputs": [],
   "source": [
    "cat_cols, num_cols =  get_cols_by_type(X)"
   ]
  },
  {
   "cell_type": "code",
   "execution_count": 11,
   "metadata": {
    "ExecuteTime": {
     "end_time": "2022-05-25T21:09:51.824296Z",
     "start_time": "2022-05-25T21:09:51.781201Z"
    }
   },
   "outputs": [],
   "source": [
    "X = one_hot_encoder(X, cat_cols, drop_first=True)"
   ]
  },
  {
   "cell_type": "markdown",
   "metadata": {},
   "source": [
    "## Baseline"
   ]
  },
  {
   "cell_type": "code",
   "execution_count": 13,
   "metadata": {
    "ExecuteTime": {
     "end_time": "2022-05-25T21:13:32.747127Z",
     "start_time": "2022-05-25T21:13:32.708095Z"
    }
   },
   "outputs": [
    {
     "data": {
      "text/plain": [
       "{'rmse': 450.26022382434286,\n",
       " 'r2': 0.0,\n",
       " 'r2_adjusted': 0.5,\n",
       " 'mae': 343.6183374633141}"
      ]
     },
     "execution_count": 13,
     "metadata": {},
     "output_type": "execute_result"
    }
   ],
   "source": [
    "baseline_predict = np.full(len(y), y.mean())\n",
    "baseline_metrics = get_linear_metrics(y, baseline_predict)\n",
    "baseline_metrics"
   ]
  },
  {
   "cell_type": "markdown",
   "metadata": {},
   "source": [
    "## Pipelines"
   ]
  },
  {
   "cell_type": "code",
   "execution_count": 28,
   "metadata": {
    "ExecuteTime": {
     "end_time": "2022-05-25T22:50:20.746847Z",
     "start_time": "2022-05-25T22:50:20.655466Z"
    }
   },
   "outputs": [],
   "source": [
    "base_models = {\n",
    "    \"LinearRegression\": {\n",
    "        \"model\": LinearRegression(),\n",
    "        \"steps\": [\n",
    "            (\"LinearRegression\", LinearRegression())\n",
    "        ]\n",
    "    },\n",
    "    \"Ridge\": {\n",
    "        \"model\": Ridge(),\n",
    "        \"steps\": [\n",
    "            (\"Ridge\", Ridge())\n",
    "        ]\n",
    "    },\n",
    "    \"Lasso\": {\n",
    "        \"model\": Lasso(),\n",
    "        \"steps\": [\n",
    "            (\"Ridge\", Lasso())\n",
    "        ]\n",
    "    },\n",
    "    \"KNN\": {\n",
    "        \"model\": KNeighborsRegressor(),\n",
    "        \"steps\": [\n",
    "            (\"KNN\", KNeighborsRegressor())\n",
    "        ]\n",
    "    },\n",
    "    \"CART\": {\n",
    "        \"model\": DecisionTreeRegressor(),\n",
    "        \"steps\": [\n",
    "            (\"CART\", DecisionTreeRegressor())\n",
    "        ]\n",
    "    },\n",
    "    \"SVR\": {\n",
    "        \"model\": SVR(),\n",
    "        \"steps\": [\n",
    "            (\"SVR\", SVR())\n",
    "        ]\n",
    "    },\n",
    "    \"XGBoost\": {\n",
    "        \"model\": XGBRegressor(objective='reg:squarederror'),\n",
    "        \"steps\": [\n",
    "            (\"XGBoost\", XGBRegressor(objective='reg:squarederror'))\n",
    "        ]\n",
    "    }\n",
    "}"
   ]
  },
  {
   "cell_type": "code",
   "execution_count": 26,
   "metadata": {
    "ExecuteTime": {
     "end_time": "2022-05-25T22:23:28.108244Z",
     "start_time": "2022-05-25T22:23:28.102735Z"
    }
   },
   "outputs": [],
   "source": [
    "def train_models(X, y, pipelines, cv=5):\n",
    "    df = pd.DataFrame(columns=[\"model\", \"rmse\"])\n",
    "    \n",
    "    for model in pipelines:\n",
    "        regressor = Pipeline(pipelines[model][\"steps\"])\n",
    "        \n",
    "        rmse = np.mean(\n",
    "            np.sqrt(-cross_val_score(regressor, X, y, cv=cv, scoring=\"neg_mean_squared_error\"))\n",
    "        )\n",
    "        \n",
    "        df = df.append(\n",
    "            {\n",
    "                \"model\": model,\n",
    "                \"rmse\": rmse\n",
    "            },\n",
    "            ignore_index=True\n",
    "        )\n",
    "    \n",
    "    return df"
   ]
  },
  {
   "cell_type": "code",
   "execution_count": 29,
   "metadata": {
    "ExecuteTime": {
     "end_time": "2022-05-25T22:51:05.839275Z",
     "start_time": "2022-05-25T22:51:04.055290Z"
    },
    "scrolled": false
   },
   "outputs": [
    {
     "name": "stderr",
     "output_type": "stream",
     "text": [
      "/opt/conda/lib/python3.8/site-packages/sklearn/linear_model/_coordinate_descent.py:529: ConvergenceWarning: Objective did not converge. You might want to increase the number of iterations. Duality gap: 10687119.0175745, tolerance: 5077.3603631314545\n",
      "  model = cd_fast.enet_coordinate_descent(\n",
      "/opt/conda/lib/python3.8/site-packages/sklearn/linear_model/_coordinate_descent.py:529: ConvergenceWarning: Objective did not converge. You might want to increase the number of iterations. Duality gap: 11592120.124070128, tolerance: 4957.926101024957\n",
      "  model = cd_fast.enet_coordinate_descent(\n",
      "/opt/conda/lib/python3.8/site-packages/sklearn/linear_model/_coordinate_descent.py:529: ConvergenceWarning: Objective did not converge. You might want to increase the number of iterations. Duality gap: 10168611.934071096, tolerance: 4119.306728055035\n",
      "  model = cd_fast.enet_coordinate_descent(\n",
      "/opt/conda/lib/python3.8/site-packages/sklearn/linear_model/_coordinate_descent.py:529: ConvergenceWarning: Objective did not converge. You might want to increase the number of iterations. Duality gap: 11069548.805421894, tolerance: 4838.771789136585\n",
      "  model = cd_fast.enet_coordinate_descent(\n",
      "/opt/conda/lib/python3.8/site-packages/sklearn/linear_model/_coordinate_descent.py:529: ConvergenceWarning: Objective did not converge. You might want to increase the number of iterations. Duality gap: 11145507.4409863, tolerance: 4652.294266532092\n",
      "  model = cd_fast.enet_coordinate_descent(\n",
      "/opt/conda/lib/python3.8/site-packages/sklearn/linear_model/_coordinate_descent.py:529: ConvergenceWarning: Objective did not converge. You might want to increase the number of iterations. Duality gap: 11225153.871443374, tolerance: 4816.155704333359\n",
      "  model = cd_fast.enet_coordinate_descent(\n",
      "/opt/conda/lib/python3.8/site-packages/sklearn/linear_model/_coordinate_descent.py:529: ConvergenceWarning: Objective did not converge. You might want to increase the number of iterations. Duality gap: 8719477.161902998, tolerance: 4637.712860074581\n",
      "  model = cd_fast.enet_coordinate_descent(\n",
      "/opt/conda/lib/python3.8/site-packages/sklearn/linear_model/_coordinate_descent.py:529: ConvergenceWarning: Objective did not converge. You might want to increase the number of iterations. Duality gap: 10494654.766270256, tolerance: 4976.191260952606\n",
      "  model = cd_fast.enet_coordinate_descent(\n",
      "/opt/conda/lib/python3.8/site-packages/sklearn/linear_model/_coordinate_descent.py:529: ConvergenceWarning: Objective did not converge. You might want to increase the number of iterations. Duality gap: 10703477.14882562, tolerance: 4971.958809825996\n",
      "  model = cd_fast.enet_coordinate_descent(\n",
      "/opt/conda/lib/python3.8/site-packages/sklearn/linear_model/_coordinate_descent.py:529: ConvergenceWarning: Objective did not converge. You might want to increase the number of iterations. Duality gap: 10987665.647696266, tolerance: 4912.86035504533\n",
      "  model = cd_fast.enet_coordinate_descent(\n"
     ]
    },
    {
     "data": {
      "text/html": [
       "<div>\n",
       "<style scoped>\n",
       "    .dataframe tbody tr th:only-of-type {\n",
       "        vertical-align: middle;\n",
       "    }\n",
       "\n",
       "    .dataframe tbody tr th {\n",
       "        vertical-align: top;\n",
       "    }\n",
       "\n",
       "    .dataframe thead th {\n",
       "        text-align: right;\n",
       "    }\n",
       "</style>\n",
       "<table border=\"1\" class=\"dataframe\">\n",
       "  <thead>\n",
       "    <tr style=\"text-align: right;\">\n",
       "      <th></th>\n",
       "      <th>model</th>\n",
       "      <th>rmse</th>\n",
       "    </tr>\n",
       "  </thead>\n",
       "  <tbody>\n",
       "    <tr>\n",
       "      <th>0</th>\n",
       "      <td>LinearRegression</td>\n",
       "      <td>331.004257</td>\n",
       "    </tr>\n",
       "    <tr>\n",
       "      <th>1</th>\n",
       "      <td>Ridge</td>\n",
       "      <td>330.725725</td>\n",
       "    </tr>\n",
       "    <tr>\n",
       "      <th>2</th>\n",
       "      <td>Lasso</td>\n",
       "      <td>330.004596</td>\n",
       "    </tr>\n",
       "    <tr>\n",
       "      <th>3</th>\n",
       "      <td>KNN</td>\n",
       "      <td>320.038077</td>\n",
       "    </tr>\n",
       "    <tr>\n",
       "      <th>4</th>\n",
       "      <td>CART</td>\n",
       "      <td>364.907450</td>\n",
       "    </tr>\n",
       "    <tr>\n",
       "      <th>5</th>\n",
       "      <td>SVR</td>\n",
       "      <td>436.323572</td>\n",
       "    </tr>\n",
       "    <tr>\n",
       "      <th>6</th>\n",
       "      <td>XGBoost</td>\n",
       "      <td>307.377538</td>\n",
       "    </tr>\n",
       "  </tbody>\n",
       "</table>\n",
       "</div>"
      ],
      "text/plain": [
       "              model        rmse\n",
       "0  LinearRegression  331.004257\n",
       "1             Ridge  330.725725\n",
       "2             Lasso  330.004596\n",
       "3               KNN  320.038077\n",
       "4              CART  364.907450\n",
       "5               SVR  436.323572\n",
       "6           XGBoost  307.377538"
      ]
     },
     "execution_count": 29,
     "metadata": {},
     "output_type": "execute_result"
    }
   ],
   "source": [
    "train_models(X, y, base_models, cv=10)"
   ]
  },
  {
   "cell_type": "code",
   "execution_count": 31,
   "metadata": {
    "ExecuteTime": {
     "end_time": "2022-05-25T23:19:43.682388Z",
     "start_time": "2022-05-25T23:19:42.384276Z"
    }
   },
   "outputs": [
    {
     "name": "stderr",
     "output_type": "stream",
     "text": [
      "/opt/conda/lib/python3.8/site-packages/sklearn/linear_model/_coordinate_descent.py:529: ConvergenceWarning: Objective did not converge. You might want to increase the number of iterations. Duality gap: 11242854.210965982, tolerance: 5077.3603631314545\n",
      "  model = cd_fast.enet_coordinate_descent(\n",
      "/opt/conda/lib/python3.8/site-packages/sklearn/linear_model/_coordinate_descent.py:529: ConvergenceWarning: Objective did not converge. You might want to increase the number of iterations. Duality gap: 12132230.120031906, tolerance: 4957.926101024957\n",
      "  model = cd_fast.enet_coordinate_descent(\n",
      "/opt/conda/lib/python3.8/site-packages/sklearn/linear_model/_coordinate_descent.py:529: ConvergenceWarning: Objective did not converge. You might want to increase the number of iterations. Duality gap: 10526979.791847743, tolerance: 4119.306728055035\n",
      "  model = cd_fast.enet_coordinate_descent(\n",
      "/opt/conda/lib/python3.8/site-packages/sklearn/linear_model/_coordinate_descent.py:529: ConvergenceWarning: Objective did not converge. You might want to increase the number of iterations. Duality gap: 11397980.643225897, tolerance: 4838.771789136585\n",
      "  model = cd_fast.enet_coordinate_descent(\n",
      "/opt/conda/lib/python3.8/site-packages/sklearn/linear_model/_coordinate_descent.py:529: ConvergenceWarning: Objective did not converge. You might want to increase the number of iterations. Duality gap: 11479115.45213002, tolerance: 4652.294266532092\n",
      "  model = cd_fast.enet_coordinate_descent(\n",
      "/opt/conda/lib/python3.8/site-packages/sklearn/linear_model/_coordinate_descent.py:529: ConvergenceWarning: Objective did not converge. You might want to increase the number of iterations. Duality gap: 11651122.037291704, tolerance: 4816.155704333359\n",
      "  model = cd_fast.enet_coordinate_descent(\n",
      "/opt/conda/lib/python3.8/site-packages/sklearn/linear_model/_coordinate_descent.py:529: ConvergenceWarning: Objective did not converge. You might want to increase the number of iterations. Duality gap: 9030533.289246479, tolerance: 4637.712860074581\n",
      "  model = cd_fast.enet_coordinate_descent(\n",
      "/opt/conda/lib/python3.8/site-packages/sklearn/linear_model/_coordinate_descent.py:529: ConvergenceWarning: Objective did not converge. You might want to increase the number of iterations. Duality gap: 10816212.784506971, tolerance: 4976.191260952606\n",
      "  model = cd_fast.enet_coordinate_descent(\n",
      "/opt/conda/lib/python3.8/site-packages/sklearn/linear_model/_coordinate_descent.py:529: ConvergenceWarning: Objective did not converge. You might want to increase the number of iterations. Duality gap: 11218231.04511557, tolerance: 4971.958809825996\n",
      "  model = cd_fast.enet_coordinate_descent(\n",
      "/opt/conda/lib/python3.8/site-packages/sklearn/linear_model/_coordinate_descent.py:529: ConvergenceWarning: Objective did not converge. You might want to increase the number of iterations. Duality gap: 11325691.371654077, tolerance: 4912.86035504533\n",
      "  model = cd_fast.enet_coordinate_descent(\n"
     ]
    },
    {
     "data": {
      "text/html": [
       "<div>\n",
       "<style scoped>\n",
       "    .dataframe tbody tr th:only-of-type {\n",
       "        vertical-align: middle;\n",
       "    }\n",
       "\n",
       "    .dataframe tbody tr th {\n",
       "        vertical-align: top;\n",
       "    }\n",
       "\n",
       "    .dataframe thead th {\n",
       "        text-align: right;\n",
       "    }\n",
       "</style>\n",
       "<table border=\"1\" class=\"dataframe\">\n",
       "  <thead>\n",
       "    <tr style=\"text-align: right;\">\n",
       "      <th></th>\n",
       "      <th>model</th>\n",
       "      <th>rmse</th>\n",
       "    </tr>\n",
       "  </thead>\n",
       "  <tbody>\n",
       "    <tr>\n",
       "      <th>0</th>\n",
       "      <td>LinearRegression</td>\n",
       "      <td>332.657182</td>\n",
       "    </tr>\n",
       "    <tr>\n",
       "      <th>1</th>\n",
       "      <td>Ridge</td>\n",
       "      <td>332.651830</td>\n",
       "    </tr>\n",
       "    <tr>\n",
       "      <th>2</th>\n",
       "      <td>Lasso</td>\n",
       "      <td>332.343035</td>\n",
       "    </tr>\n",
       "    <tr>\n",
       "      <th>3</th>\n",
       "      <td>KNN</td>\n",
       "      <td>320.038077</td>\n",
       "    </tr>\n",
       "    <tr>\n",
       "      <th>4</th>\n",
       "      <td>CART</td>\n",
       "      <td>361.628178</td>\n",
       "    </tr>\n",
       "    <tr>\n",
       "      <th>5</th>\n",
       "      <td>SVR</td>\n",
       "      <td>436.210544</td>\n",
       "    </tr>\n",
       "    <tr>\n",
       "      <th>6</th>\n",
       "      <td>XGBoost</td>\n",
       "      <td>296.673911</td>\n",
       "    </tr>\n",
       "  </tbody>\n",
       "</table>\n",
       "</div>"
      ],
      "text/plain": [
       "              model        rmse\n",
       "0  LinearRegression  332.657182\n",
       "1             Ridge  332.651830\n",
       "2             Lasso  332.343035\n",
       "3               KNN  320.038077\n",
       "4              CART  361.628178\n",
       "5               SVR  436.210544\n",
       "6           XGBoost  296.673911"
      ]
     },
     "execution_count": 31,
     "metadata": {},
     "output_type": "execute_result"
    }
   ],
   "source": [
    "train_models(X[num_cols], y, base_models, cv=10)"
   ]
  },
  {
   "cell_type": "markdown",
   "metadata": {},
   "source": [
    "### PCA"
   ]
  },
  {
   "cell_type": "code",
   "execution_count": 33,
   "metadata": {
    "ExecuteTime": {
     "end_time": "2022-05-25T23:39:38.032094Z",
     "start_time": "2022-05-25T23:39:38.017444Z"
    }
   },
   "outputs": [],
   "source": [
    "models_pca = {\n",
    "    \"LinearRegression\": {\n",
    "        \"model\": LinearRegression(),\n",
    "        \"steps\": [\n",
    "            (\"PCA\", PCA()),\n",
    "            (\"LinearRegression\", LinearRegression())\n",
    "        ]\n",
    "    },\n",
    "    \"Ridge\": {\n",
    "        \"model\": Ridge(),\n",
    "        \"steps\": [\n",
    "            (\"PCA\", PCA()),\n",
    "            (\"Ridge\", Ridge())\n",
    "        ]\n",
    "    },\n",
    "    \"Lasso\": {\n",
    "        \"model\": Lasso(),\n",
    "        \"steps\": [\n",
    "            (\"PCA\", PCA()),\n",
    "            (\"Ridge\", Lasso())\n",
    "        ]\n",
    "    },\n",
    "    \"KNN\": {\n",
    "        \"model\": KNeighborsRegressor(),\n",
    "        \"steps\": [\n",
    "            (\"PCA\", PCA()),\n",
    "            (\"KNN\", KNeighborsRegressor())\n",
    "        ]\n",
    "    },\n",
    "    \"CART\": {\n",
    "        \"model\": DecisionTreeRegressor(),\n",
    "        \"steps\": [\n",
    "            (\"PCA\", PCA()),\n",
    "            (\"CART\", DecisionTreeRegressor())\n",
    "        ]\n",
    "    },\n",
    "    \"SVR\": {\n",
    "        \"model\": SVR(),\n",
    "        \"steps\": [\n",
    "            (\"PCA\", PCA()),\n",
    "            (\"SVR\", SVR())\n",
    "        ]\n",
    "    },\n",
    "    \"XGBoost\": {\n",
    "        \"model\": XGBRegressor(objective='reg:squarederror'),\n",
    "        \"steps\": [\n",
    "            (\"PCA\", PCA()),\n",
    "            (\"XGBoost\", XGBRegressor(objective='reg:squarederror'))\n",
    "        ]\n",
    "    }\n",
    "}"
   ]
  },
  {
   "cell_type": "code",
   "execution_count": null,
   "metadata": {},
   "outputs": [],
   "source": []
  },
  {
   "cell_type": "code",
   "execution_count": null,
   "metadata": {},
   "outputs": [],
   "source": []
  },
  {
   "cell_type": "code",
   "execution_count": null,
   "metadata": {},
   "outputs": [],
   "source": []
  },
  {
   "cell_type": "code",
   "execution_count": null,
   "metadata": {},
   "outputs": [],
   "source": []
  },
  {
   "cell_type": "code",
   "execution_count": null,
   "metadata": {},
   "outputs": [],
   "source": []
  },
  {
   "cell_type": "code",
   "execution_count": null,
   "metadata": {},
   "outputs": [],
   "source": []
  },
  {
   "cell_type": "code",
   "execution_count": null,
   "metadata": {},
   "outputs": [],
   "source": [
    "def base_models(X, y, cv=5):\n",
    "    models = [\n",
    "        (\"LinearRegression\", LinearRegression()),\n",
    "        (\"Ridge\", Ridge()),\n",
    "        (\"Lasso\", Lasso()),\n",
    "        (\"ElasticNet\", ElasticNet()),\n",
    "        ('KNN', KNeighborsRegressor()),\n",
    "        ('CART', DecisionTreeRegressor()),\n",
    "        ('SVR', SVR()),\n",
    "        (\"XGBoost\", XGBRegressor(objective='reg:squarederror')) \n",
    "    ]\n",
    "    \n",
    "    df = pd.DataFrame(columns=[\"model\", \"rmse\"])\n",
    "    \n",
    "    for name, pipelines in models:\n",
    "        rmse = np.mean(np.sqrt(cross_val_score(regressor, X, y, cv=cv, scoring=\"neg_mean_squared_error\")))\n",
    "        df = df.append(\n",
    "            {\n",
    "            \"model\": name,\n",
    "            \"rmse\": rmse\n",
    "            },\n",
    "            ignore_index = True\n",
    "        )\n",
    "    \n",
    "    return df, models"
   ]
  },
  {
   "cell_type": "code",
   "execution_count": null,
   "metadata": {},
   "outputs": [],
   "source": []
  },
  {
   "cell_type": "code",
   "execution_count": null,
   "metadata": {},
   "outputs": [],
   "source": []
  },
  {
   "cell_type": "code",
   "execution_count": null,
   "metadata": {},
   "outputs": [],
   "source": []
  },
  {
   "cell_type": "code",
   "execution_count": null,
   "metadata": {},
   "outputs": [],
   "source": []
  },
  {
   "cell_type": "code",
   "execution_count": null,
   "metadata": {},
   "outputs": [],
   "source": [
    "linear_regression = Pipeline(base_models[\"LinearRegression\"][\"steps\"])"
   ]
  },
  {
   "cell_type": "markdown",
   "metadata": {},
   "source": [
    "### Data Scalling"
   ]
  },
  {
   "cell_type": "code",
   "execution_count": 152,
   "metadata": {
    "ExecuteTime": {
     "end_time": "2022-05-25T00:43:55.758875Z",
     "start_time": "2022-05-25T00:43:55.743390Z"
    }
   },
   "outputs": [],
   "source": []
  },
  {
   "cell_type": "code",
   "execution_count": 153,
   "metadata": {
    "ExecuteTime": {
     "end_time": "2022-05-25T00:43:56.754105Z",
     "start_time": "2022-05-25T00:43:56.726928Z"
    }
   },
   "outputs": [],
   "source": [
    "X_scaled = StandardScaler().fit_transform(X[num_cols])"
   ]
  },
  {
   "cell_type": "code",
   "execution_count": 156,
   "metadata": {
    "ExecuteTime": {
     "end_time": "2022-05-25T00:54:12.445042Z",
     "start_time": "2022-05-25T00:54:12.415912Z"
    }
   },
   "outputs": [],
   "source": [
    "X[num_cols] = pd.DataFrame(X_scaled, columns=X[num_cols].columns)"
   ]
  },
  {
   "cell_type": "markdown",
   "metadata": {},
   "source": [
    "## Base Model"
   ]
  },
  {
   "cell_type": "code",
   "execution_count": 163,
   "metadata": {
    "ExecuteTime": {
     "end_time": "2022-05-25T00:58:18.817853Z",
     "start_time": "2022-05-25T00:58:18.808173Z"
    }
   },
   "outputs": [],
   "source": [
    "y = df[\"Salary\"]\n"
   ]
  },
  {
   "cell_type": "code",
   "execution_count": 164,
   "metadata": {
    "ExecuteTime": {
     "end_time": "2022-05-25T00:58:19.881996Z",
     "start_time": "2022-05-25T00:58:19.832252Z"
    }
   },
   "outputs": [],
   "source": []
  },
  {
   "cell_type": "code",
   "execution_count": 165,
   "metadata": {
    "ExecuteTime": {
     "end_time": "2022-05-25T00:58:22.326401Z",
     "start_time": "2022-05-25T00:58:22.321068Z"
    }
   },
   "outputs": [],
   "source": [
    "baseline_metrics[\"model\"] = \"Baseline\""
   ]
  },
  {
   "cell_type": "code",
   "execution_count": 166,
   "metadata": {
    "ExecuteTime": {
     "end_time": "2022-05-25T00:58:23.552614Z",
     "start_time": "2022-05-25T00:58:23.544659Z"
    }
   },
   "outputs": [
    {
     "data": {
      "text/plain": [
       "{'rmse': 450.26022382434286,\n",
       " 'r2': 0.0,\n",
       " 'r2_adjusted': 0.5,\n",
       " 'mae': 343.6183374633141,\n",
       " 'model': 'Baseline'}"
      ]
     },
     "execution_count": 166,
     "metadata": {},
     "output_type": "execute_result"
    }
   ],
   "source": [
    "baseline_metrics"
   ]
  },
  {
   "cell_type": "code",
   "execution_count": 100,
   "metadata": {
    "ExecuteTime": {
     "end_time": "2022-05-24T19:47:16.870958Z",
     "start_time": "2022-05-24T19:47:16.864147Z"
    }
   },
   "outputs": [],
   "source": []
  },
  {
   "cell_type": "code",
   "execution_count": 101,
   "metadata": {
    "ExecuteTime": {
     "end_time": "2022-05-24T19:47:20.970844Z",
     "start_time": "2022-05-24T19:47:19.185846Z"
    },
    "scrolled": false
   },
   "outputs": [
    {
     "name": "stderr",
     "output_type": "stream",
     "text": [
      "/opt/conda/lib/python3.8/site-packages/sklearn/linear_model/_coordinate_descent.py:529: ConvergenceWarning: Objective did not converge. You might want to increase the number of iterations. Duality gap: 10015.893080014735, tolerance: 4637.712860074581\n",
      "  model = cd_fast.enet_coordinate_descent(\n",
      "/opt/conda/lib/python3.8/site-packages/sklearn/linear_model/_coordinate_descent.py:529: ConvergenceWarning: Objective did not converge. You might want to increase the number of iterations. Duality gap: 42829.53330546245, tolerance: 4976.191260952606\n",
      "  model = cd_fast.enet_coordinate_descent(\n"
     ]
    }
   ],
   "source": [
    "results, models = base_models(X, y, cv=10)"
   ]
  },
  {
   "cell_type": "code",
   "execution_count": 102,
   "metadata": {
    "ExecuteTime": {
     "end_time": "2022-05-24T19:47:21.669755Z",
     "start_time": "2022-05-24T19:47:21.657457Z"
    }
   },
   "outputs": [
    {
     "data": {
      "text/html": [
       "<div>\n",
       "<style scoped>\n",
       "    .dataframe tbody tr th:only-of-type {\n",
       "        vertical-align: middle;\n",
       "    }\n",
       "\n",
       "    .dataframe tbody tr th {\n",
       "        vertical-align: top;\n",
       "    }\n",
       "\n",
       "    .dataframe thead th {\n",
       "        text-align: right;\n",
       "    }\n",
       "</style>\n",
       "<table border=\"1\" class=\"dataframe\">\n",
       "  <thead>\n",
       "    <tr style=\"text-align: right;\">\n",
       "      <th></th>\n",
       "      <th>model</th>\n",
       "      <th>rmse</th>\n",
       "    </tr>\n",
       "  </thead>\n",
       "  <tbody>\n",
       "    <tr>\n",
       "      <th>0</th>\n",
       "      <td>LinearRegression</td>\n",
       "      <td>331.004257</td>\n",
       "    </tr>\n",
       "    <tr>\n",
       "      <th>1</th>\n",
       "      <td>Ridge</td>\n",
       "      <td>328.112709</td>\n",
       "    </tr>\n",
       "    <tr>\n",
       "      <th>2</th>\n",
       "      <td>Lasso</td>\n",
       "      <td>328.137471</td>\n",
       "    </tr>\n",
       "    <tr>\n",
       "      <th>3</th>\n",
       "      <td>ElasticNet</td>\n",
       "      <td>331.871482</td>\n",
       "    </tr>\n",
       "    <tr>\n",
       "      <th>4</th>\n",
       "      <td>KNN</td>\n",
       "      <td>300.680935</td>\n",
       "    </tr>\n",
       "    <tr>\n",
       "      <th>5</th>\n",
       "      <td>CART</td>\n",
       "      <td>371.588276</td>\n",
       "    </tr>\n",
       "    <tr>\n",
       "      <th>6</th>\n",
       "      <td>SVR</td>\n",
       "      <td>441.551393</td>\n",
       "    </tr>\n",
       "    <tr>\n",
       "      <th>7</th>\n",
       "      <td>XGBoost</td>\n",
       "      <td>308.386742</td>\n",
       "    </tr>\n",
       "  </tbody>\n",
       "</table>\n",
       "</div>"
      ],
      "text/plain": [
       "              model        rmse\n",
       "0  LinearRegression  331.004257\n",
       "1             Ridge  328.112709\n",
       "2             Lasso  328.137471\n",
       "3        ElasticNet  331.871482\n",
       "4               KNN  300.680935\n",
       "5              CART  371.588276\n",
       "6               SVR  441.551393\n",
       "7           XGBoost  308.386742"
      ]
     },
     "execution_count": 102,
     "metadata": {},
     "output_type": "execute_result"
    }
   ],
   "source": [
    "results"
   ]
  },
  {
   "cell_type": "code",
   "execution_count": 134,
   "metadata": {
    "ExecuteTime": {
     "end_time": "2022-05-25T00:07:24.792562Z",
     "start_time": "2022-05-25T00:07:24.780376Z"
    }
   },
   "outputs": [],
   "source": [
    "models_params = {\n",
    "    \"Ridge\": {\n",
    "        'alpha': np.linspace(0, 0.2, 21)\n",
    "    },\n",
    "    \"Lasso\": {\n",
    "        'alpha': np.linspace(0, 0.2, 21)\n",
    "    },\n",
    "    \"ElasticNet\": {\n",
    "        \"l1_ratio\": np.arange(0, 1, 0.01)\n",
    "    },\n",
    "    \"KNN\": {\n",
    "        \"n_neighbors\": np.arange(1, 30),\n",
    "        'weights': ['uniform', 'distance'],\n",
    "        'leaf_size': np.arange(1, 50),\n",
    "        'p': [1,2]\n",
    "    },\n",
    "    \"CART\": {\n",
    "        'max_depth': range(1, 20),\n",
    "        \"min_samples_split\": range(2, 30)        \n",
    "    },\n",
    "    \"SVR\": {\n",
    "        'kernel': ['rbf', 'linear'],\n",
    "        'gamma': np.logspace(-4, 0, 8),\n",
    "        'C':  np.logspace(-0, 4, 8),\n",
    "        'degree' : [3,8]\n",
    "    },\n",
    "    \"XGBoost\": {\n",
    "        \"max_depth\": [5, 8, 12, 20],\n",
    "        \"colsample_bytree\": [0.5, 0.8, 1]\n",
    "    }\n",
    "    \n",
    "}"
   ]
  },
  {
   "cell_type": "code",
   "execution_count": 135,
   "metadata": {
    "ExecuteTime": {
     "end_time": "2022-05-25T00:07:27.208682Z",
     "start_time": "2022-05-25T00:07:27.194981Z"
    }
   },
   "outputs": [],
   "source": [
    "def hyperparameter_optimization(X, y, models, models_params, cv=5, gs_cv=3, scoring=\"neg_mean_squared_error\"):\n",
    "    best_models = {}\n",
    "    for name, model in models:\n",
    "        print(f'{name} Hyperparameter Tuning...')\n",
    "        gs_best = GridSearchCV(model, models_params[name], cv=gs_cv, n_jobs=-1, verbose=False).fit(X, y)\n",
    "        final_model = model.set_params(**gs_best.best_params_)\n",
    "        rmse = np.mean(np.sqrt(-cross_val_score(final_model, X, y, cv=cv, scoring=scoring)))\n",
    "        print(f'RMSE: {rmse}')\n",
    "        print(f'{name} best params: {gs_best.best_params_}')\n",
    "       \n",
    "        best_models[name] = {\n",
    "            \"model\": final_model,\n",
    "            \"rmse\": rmse,\n",
    "            \"params\": gs_best.best_params_\n",
    "        }\n",
    "    return best_models"
   ]
  },
  {
   "cell_type": "code",
   "execution_count": 136,
   "metadata": {
    "ExecuteTime": {
     "end_time": "2022-05-25T00:08:55.546374Z",
     "start_time": "2022-05-25T00:07:28.938374Z"
    },
    "scrolled": false
   },
   "outputs": [
    {
     "name": "stdout",
     "output_type": "stream",
     "text": [
      "Ridge Hyperparameter Tuning...\n",
      "RMSE: 340.6216251974944\n",
      "Ridge best params: {'alpha': 0.2}\n",
      "Lasso Hyperparameter Tuning...\n"
     ]
    },
    {
     "name": "stderr",
     "output_type": "stream",
     "text": [
      "/opt/conda/lib/python3.8/site-packages/sklearn/linear_model/_coordinate_descent.py:529: ConvergenceWarning: Objective did not converge. You might want to increase the number of iterations. Duality gap: 64482.70996973291, tolerance: 5331.911278864535\n",
      "  model = cd_fast.enet_coordinate_descent(\n",
      "/opt/conda/lib/python3.8/site-packages/sklearn/linear_model/_coordinate_descent.py:529: ConvergenceWarning: Objective did not converge. You might want to increase the number of iterations. Duality gap: 17166.354645680636, tolerance: 4707.588082692419\n",
      "  model = cd_fast.enet_coordinate_descent(\n",
      "/opt/conda/lib/python3.8/site-packages/sklearn/linear_model/_coordinate_descent.py:529: ConvergenceWarning: Objective did not converge. You might want to increase the number of iterations. Duality gap: 81176.14760141075, tolerance: 4137.431910184222\n",
      "  model = cd_fast.enet_coordinate_descent(\n",
      "/opt/conda/lib/python3.8/site-packages/sklearn/linear_model/_coordinate_descent.py:529: ConvergenceWarning: Objective did not converge. You might want to increase the number of iterations. Duality gap: 7921.6631884183735, tolerance: 4281.420206925507\n",
      "  model = cd_fast.enet_coordinate_descent(\n",
      "/opt/conda/lib/python3.8/site-packages/sklearn/linear_model/_coordinate_descent.py:529: ConvergenceWarning: Objective did not converge. You might want to increase the number of iterations. Duality gap: 35016.576055549085, tolerance: 4558.316173584095\n",
      "  model = cd_fast.enet_coordinate_descent(\n"
     ]
    },
    {
     "name": "stdout",
     "output_type": "stream",
     "text": [
      "RMSE: 341.16706372769755\n",
      "Lasso best params: {'alpha': 0.2}\n",
      "ElasticNet Hyperparameter Tuning...\n",
      "RMSE: 338.7637987596942\n",
      "ElasticNet best params: {'l1_ratio': 0.9}\n",
      "KNN Hyperparameter Tuning...\n",
      "RMSE: 302.71186279586163\n",
      "KNN best params: {'leaf_size': 1, 'n_neighbors': 13, 'p': 1, 'weights': 'distance'}\n",
      "CART Hyperparameter Tuning...\n",
      "RMSE: 326.57697101862254\n",
      "CART best params: {'max_depth': 3, 'min_samples_split': 25}\n",
      "SVR Hyperparameter Tuning...\n",
      "RMSE: 292.7264338944361\n",
      "SVR best params: {'C': 2682.6957952797247, 'degree': 3, 'gamma': 0.019306977288832496, 'kernel': 'rbf'}\n"
     ]
    }
   ],
   "source": [
    "best_models = hyperparameter_optimization(X, y, models[1:-1], models_params)"
   ]
  },
  {
   "cell_type": "code",
   "execution_count": 144,
   "metadata": {
    "ExecuteTime": {
     "end_time": "2022-05-25T00:18:46.827622Z",
     "start_time": "2022-05-25T00:11:18.708188Z"
    }
   },
   "outputs": [
    {
     "name": "stdout",
     "output_type": "stream",
     "text": [
      "XGBoost Hyperparameter Tuning...\n",
      "RMSE: 284.7094100772666\n",
      "XGBoost best params: {'colsample_bytree': 1, 'max_depth': 5}\n"
     ]
    },
    {
     "data": {
      "text/plain": [
       "{'XGBoost': {'model': XGBRegressor(base_score=None, booster=None, colsample_bylevel=None,\n",
       "               colsample_bynode=None, colsample_bytree=1, gamma=None, gpu_id=None,\n",
       "               importance_type='gain', interaction_constraints=None,\n",
       "               learning_rate=None, max_delta_step=None, max_depth=5,\n",
       "               min_child_weight=None, missing=nan, monotone_constraints=None,\n",
       "               n_estimators=100, n_jobs=None, num_parallel_tree=None,\n",
       "               random_state=None, reg_alpha=None, reg_lambda=None,\n",
       "               scale_pos_weight=None, subsample=None, tree_method=None,\n",
       "               validate_parameters=None, verbosity=None),\n",
       "  'rmse': 284.7094100772666,\n",
       "  'params': {'colsample_bytree': 1, 'max_depth': 5}}}"
      ]
     },
     "execution_count": 144,
     "metadata": {},
     "output_type": "execute_result"
    }
   ],
   "source": [
    "hyperparameter_optimization(X, y, [models[-1]], models_params)"
   ]
  },
  {
   "cell_type": "code",
   "execution_count": 142,
   "metadata": {
    "ExecuteTime": {
     "end_time": "2022-05-25T00:10:14.241593Z",
     "start_time": "2022-05-25T00:10:14.234906Z"
    }
   },
   "outputs": [
    {
     "data": {
      "text/plain": [
       "('XGBoost',\n",
       " XGBRegressor(base_score=None, booster=None, colsample_bylevel=None,\n",
       "              colsample_bynode=None, colsample_bytree=None, gamma=None,\n",
       "              gpu_id=None, importance_type='gain', interaction_constraints=None,\n",
       "              learning_rate=None, max_delta_step=None, max_depth=None,\n",
       "              min_child_weight=None, missing=nan, monotone_constraints=None,\n",
       "              n_estimators=100, n_jobs=None, num_parallel_tree=None,\n",
       "              random_state=None, reg_alpha=None, reg_lambda=None,\n",
       "              scale_pos_weight=None, subsample=None, tree_method=None,\n",
       "              validate_parameters=None, verbosity=None))"
      ]
     },
     "execution_count": 142,
     "metadata": {},
     "output_type": "execute_result"
    }
   ],
   "source": [
    "models[-1]"
   ]
  }
 ],
 "metadata": {
  "hide_input": false,
  "kernelspec": {
   "display_name": "Python 3",
   "language": "python",
   "name": "python3"
  },
  "language_info": {
   "codemirror_mode": {
    "name": "ipython",
    "version": 3
   },
   "file_extension": ".py",
   "mimetype": "text/x-python",
   "name": "python",
   "nbconvert_exporter": "python",
   "pygments_lexer": "ipython3",
   "version": "3.8.5"
  },
  "toc": {
   "base_numbering": 1,
   "nav_menu": {},
   "number_sections": false,
   "sideBar": true,
   "skip_h1_title": true,
   "title_cell": "Table of Contents",
   "title_sidebar": "Contents",
   "toc_cell": true,
   "toc_position": {
    "height": "calc(100% - 180px)",
    "left": "10px",
    "top": "150px",
    "width": "231.79px"
   },
   "toc_section_display": true,
   "toc_window_display": true
  }
 },
 "nbformat": 4,
 "nbformat_minor": 4
}
