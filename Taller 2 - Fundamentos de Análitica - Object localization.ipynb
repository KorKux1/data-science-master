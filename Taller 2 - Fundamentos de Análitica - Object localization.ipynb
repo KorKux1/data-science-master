{
 "cells": [
  {
   "cell_type": "markdown",
   "metadata": {},
   "source": [
    "# Taller 2 - Fundamentos de Análitica: Object localization"
   ]
  },
  {
   "cell_type": "markdown",
   "metadata": {},
   "source": [
    "Integrantes: \n",
    "- Cristhian Castillo.\n",
    "- Kevin Zarama.\n",
    "\n",
    "**Objetivo**: El objetivo de este notebook es obtener un modelo que permita localizar un número del 0 al 9, dentro de una imagen y predecir de que número se trata. Las imagenes contienen un solo número."
   ]
  },
  {
   "cell_type": "markdown",
   "metadata": {
    "toc": true
   },
   "source": [
    "<h1>Tabla de Contenido<span class=\"tocSkip\"></span></h1>\n",
    "<div class=\"toc\"><ul class=\"toc-item\"><li><span><a href=\"#Información-del-taller\" data-toc-modified-id=\"Información-del-taller-1\"><span class=\"toc-item-num\">1&nbsp;&nbsp;</span>Información del taller</a></span><ul class=\"toc-item\"><li><span><a href=\"#Puntos-a-Evaluar\" data-toc-modified-id=\"Puntos-a-Evaluar-1.1\"><span class=\"toc-item-num\">1.1&nbsp;&nbsp;</span>Puntos a Evaluar</a></span></li><li><span><a href=\"#Submission-Format\" data-toc-modified-id=\"Submission-Format-1.2\"><span class=\"toc-item-num\">1.2&nbsp;&nbsp;</span>Submission Format</a></span></li></ul></li><li><span><a href=\"#Packages-and-Functions\" data-toc-modified-id=\"Packages-and-Functions-2\"><span class=\"toc-item-num\">2&nbsp;&nbsp;</span>Packages and Functions</a></span><ul class=\"toc-item\"><li><span><a href=\"#Packages\" data-toc-modified-id=\"Packages-2.1\"><span class=\"toc-item-num\">2.1&nbsp;&nbsp;</span>Packages</a></span></li><li><span><a href=\"#Functions\" data-toc-modified-id=\"Functions-2.2\"><span class=\"toc-item-num\">2.2&nbsp;&nbsp;</span>Functions</a></span></li></ul></li><li><span><a href=\"#Project-Config\" data-toc-modified-id=\"Project-Config-3\"><span class=\"toc-item-num\">3&nbsp;&nbsp;</span>Project Config</a></span><ul class=\"toc-item\"><li><span><a href=\"#Configuring-GPU-or-CPU-usage-based-on-available-resources\" data-toc-modified-id=\"Configuring-GPU-or-CPU-usage-based-on-available-resources-3.1\"><span class=\"toc-item-num\">3.1&nbsp;&nbsp;</span>Configuring GPU or CPU usage based on available resources</a></span></li><li><span><a href=\"#Seed-Config\" data-toc-modified-id=\"Seed-Config-3.2\"><span class=\"toc-item-num\">3.2&nbsp;&nbsp;</span>Seed Config</a></span></li></ul></li><li><span><a href=\"#Creating-Dataset-Structure\" data-toc-modified-id=\"Creating-Dataset-Structure-4\"><span class=\"toc-item-num\">4&nbsp;&nbsp;</span>Creating Dataset Structure</a></span><ul class=\"toc-item\"><li><span><a href=\"#Load-dataset\" data-toc-modified-id=\"Load-dataset-4.1\"><span class=\"toc-item-num\">4.1&nbsp;&nbsp;</span>Load dataset</a></span></li><li><span><a href=\"#Data-Overview\" data-toc-modified-id=\"Data-Overview-4.2\"><span class=\"toc-item-num\">4.2&nbsp;&nbsp;</span>Data Overview</a></span></li><li><span><a href=\"#Train-test-split\" data-toc-modified-id=\"Train-test-split-4.3\"><span class=\"toc-item-num\">4.3&nbsp;&nbsp;</span>Train test split</a></span></li><li><span><a href=\"#Constantes-del-proyecto\" data-toc-modified-id=\"Constantes-del-proyecto-4.4\"><span class=\"toc-item-num\">4.4&nbsp;&nbsp;</span>Constantes del proyecto</a></span></li><li><span><a href=\"#Manejo-de-las-imagenes-(Clases-y-Bounding-Boxes)\" data-toc-modified-id=\"Manejo-de-las-imagenes-(Clases-y-Bounding-Boxes)-4.5\"><span class=\"toc-item-num\">4.5&nbsp;&nbsp;</span>Manejo de las imagenes (Clases y Bounding Boxes)</a></span></li><li><span><a href=\"#Image-Normalization\" data-toc-modified-id=\"Image-Normalization-4.6\"><span class=\"toc-item-num\">4.6&nbsp;&nbsp;</span>Image Normalization</a></span></li><li><span><a href=\"#Image-To-Tensor\" data-toc-modified-id=\"Image-To-Tensor-4.7\"><span class=\"toc-item-num\">4.7&nbsp;&nbsp;</span>Image To Tensor</a></span></li></ul></li><li><span><a href=\"#Feature-Extractor-Model-(Backbone)\" data-toc-modified-id=\"Feature-Extractor-Model-(Backbone)-5\"><span class=\"toc-item-num\">5&nbsp;&nbsp;</span>Feature Extractor Model (Backbone)</a></span></li><li><span><a href=\"#Object-classification-Model\" data-toc-modified-id=\"Object-classification-Model-6\"><span class=\"toc-item-num\">6&nbsp;&nbsp;</span>Object classification Model</a></span></li><li><span><a href=\"#Bounding-box-prediction-Model\" data-toc-modified-id=\"Bounding-box-prediction-Model-7\"><span class=\"toc-item-num\">7&nbsp;&nbsp;</span>Bounding box prediction Model</a></span></li><li><span><a href=\"#Model-for-classification-and-objects-location\" data-toc-modified-id=\"Model-for-classification-and-objects-location-8\"><span class=\"toc-item-num\">8&nbsp;&nbsp;</span>Model for classification and objects location</a></span></li><li><span><a href=\"#Methods-for-training-the-model\" data-toc-modified-id=\"Methods-for-training-the-model-9\"><span class=\"toc-item-num\">9&nbsp;&nbsp;</span>Methods for training the model</a></span><ul class=\"toc-item\"><li><span><a href=\"#Loss-Function\" data-toc-modified-id=\"Loss-Function-9.1\"><span class=\"toc-item-num\">9.1&nbsp;&nbsp;</span>Loss Function</a></span></li><li><span><a href=\"#Metrics\" data-toc-modified-id=\"Metrics-9.2\"><span class=\"toc-item-num\">9.2&nbsp;&nbsp;</span>Metrics</a></span><ul class=\"toc-item\"><li><span><a href=\"#Accurancy-Metrics\" data-toc-modified-id=\"Accurancy-Metrics-9.2.1\"><span class=\"toc-item-num\">9.2.1&nbsp;&nbsp;</span>Accurancy Metrics</a></span></li><li><span><a href=\"#Intersection-over-Union-(IoU)-Metric\" data-toc-modified-id=\"Intersection-over-Union-(IoU)-Metric-9.2.2\"><span class=\"toc-item-num\">9.2.2&nbsp;&nbsp;</span>Intersection over Union (IoU) Metric</a></span></li></ul></li><li><span><a href=\"#Callbacks\" data-toc-modified-id=\"Callbacks-9.3\"><span class=\"toc-item-num\">9.3&nbsp;&nbsp;</span>Callbacks</a></span></li><li><span><a href=\"#Optimizer\" data-toc-modified-id=\"Optimizer-9.4\"><span class=\"toc-item-num\">9.4&nbsp;&nbsp;</span>Optimizer</a></span></li></ul></li><li><span><a href=\"#Base-Model\" data-toc-modified-id=\"Base-Model-10\"><span class=\"toc-item-num\">10&nbsp;&nbsp;</span>Base Model</a></span></li><li><span><a href=\"#Predictions-Visualization\" data-toc-modified-id=\"Predictions-Visualization-11\"><span class=\"toc-item-num\">11&nbsp;&nbsp;</span>Predictions Visualization</a></span></li><li><span><a href=\"#Transfer-Learning\" data-toc-modified-id=\"Transfer-Learning-12\"><span class=\"toc-item-num\">12&nbsp;&nbsp;</span>Transfer Learning</a></span><ul class=\"toc-item\"><li><span><a href=\"#Image-normalization-transforms\" data-toc-modified-id=\"Image-normalization-transforms-12.1\"><span class=\"toc-item-num\">12.1&nbsp;&nbsp;</span>Image normalization transforms</a></span></li><li><span><a href=\"#ResNet152\" data-toc-modified-id=\"ResNet152-12.2\"><span class=\"toc-item-num\">12.2&nbsp;&nbsp;</span>ResNet152</a></span></li><li><span><a href=\"#Model-for-classification-and-regression-using-transfer-learning\" data-toc-modified-id=\"Model-for-classification-and-regression-using-transfer-learning-12.3\"><span class=\"toc-item-num\">12.3&nbsp;&nbsp;</span>Model for classification and regression using transfer learning</a></span></li><li><span><a href=\"#Train-Model\" data-toc-modified-id=\"Train-Model-12.4\"><span class=\"toc-item-num\">12.4&nbsp;&nbsp;</span>Train Model</a></span></li><li><span><a href=\"#AlexNet\" data-toc-modified-id=\"AlexNet-12.5\"><span class=\"toc-item-num\">12.5&nbsp;&nbsp;</span>AlexNet</a></span></li><li><span><a href=\"#Model-for-classification-and-regression-using-transfer-learning\" data-toc-modified-id=\"Model-for-classification-and-regression-using-transfer-learning-12.6\"><span class=\"toc-item-num\">12.6&nbsp;&nbsp;</span>Model for classification and regression using transfer learning</a></span></li><li><span><a href=\"#Train-Model\" data-toc-modified-id=\"Train-Model-12.7\"><span class=\"toc-item-num\">12.7&nbsp;&nbsp;</span>Train Model</a></span></li></ul></li><li><span><a href=\"#Data-Augmentation\" data-toc-modified-id=\"Data-Augmentation-13\"><span class=\"toc-item-num\">13&nbsp;&nbsp;</span>Data Augmentation</a></span><ul class=\"toc-item\"><li><span><a href=\"#AlbumentationsWrapper\" data-toc-modified-id=\"AlbumentationsWrapper-13.1\"><span class=\"toc-item-num\">13.1&nbsp;&nbsp;</span>AlbumentationsWrapper</a></span></li><li><span><a href=\"#Train-data-augmentation\" data-toc-modified-id=\"Train-data-augmentation-13.2\"><span class=\"toc-item-num\">13.2&nbsp;&nbsp;</span>Train data augmentation</a></span></li></ul></li><li><span><a href=\"#Train-Models-with-Data-augmentation\" data-toc-modified-id=\"Train-Models-with-Data-augmentation-14\"><span class=\"toc-item-num\">14&nbsp;&nbsp;</span>Train Models with Data augmentation</a></span></li><li><span><a href=\"#Image-To-Tensor\" data-toc-modified-id=\"Image-To-Tensor-15\"><span class=\"toc-item-num\">15&nbsp;&nbsp;</span>Image To Tensor</a></span><ul class=\"toc-item\"><li><span><a href=\"#Image-normalization\" data-toc-modified-id=\"Image-normalization-15.1\"><span class=\"toc-item-num\">15.1&nbsp;&nbsp;</span>Image normalization</a></span></li><li><span><a href=\"#Data-augmentations\" data-toc-modified-id=\"Data-augmentations-15.2\"><span class=\"toc-item-num\">15.2&nbsp;&nbsp;</span>Data augmentations</a></span></li></ul></li><li><span><a href=\"#Model-for-classification-and-objects-location\" data-toc-modified-id=\"Model-for-classification-and-objects-location-16\"><span class=\"toc-item-num\">16&nbsp;&nbsp;</span>Model for classification and objects location</a></span></li><li><span><a href=\"#Metrics\" data-toc-modified-id=\"Metrics-17\"><span class=\"toc-item-num\">17&nbsp;&nbsp;</span>Metrics</a></span></li><li><span><a href=\"#Callbacks\" data-toc-modified-id=\"Callbacks-18\"><span class=\"toc-item-num\">18&nbsp;&nbsp;</span>Callbacks</a></span></li><li><span><a href=\"#Training-loop\" data-toc-modified-id=\"Training-loop-19\"><span class=\"toc-item-num\">19&nbsp;&nbsp;</span>Training loop</a></span></li><li><span><a href=\"#Run\" data-toc-modified-id=\"Run-20\"><span class=\"toc-item-num\">20&nbsp;&nbsp;</span>Run</a></span></li><li><span><a href=\"#Predictions-visualization\" data-toc-modified-id=\"Predictions-visualization-21\"><span class=\"toc-item-num\">21&nbsp;&nbsp;</span>Predictions visualization</a></span></li><li><span><a href=\"#Save-Model\" data-toc-modified-id=\"Save-Model-22\"><span class=\"toc-item-num\">22&nbsp;&nbsp;</span>Save Model</a></span></li><li><span><a href=\"#Submission\" data-toc-modified-id=\"Submission-23\"><span class=\"toc-item-num\">23&nbsp;&nbsp;</span>Submission</a></span></li></ul></div>"
   ]
  },
  {
   "cell_type": "markdown",
   "metadata": {},
   "source": [
    "## Información del taller"
   ]
  },
  {
   "cell_type": "markdown",
   "metadata": {},
   "source": [
    "### Puntos a Evaluar\n",
    "- **Custom CNN**: Create a custom Convolutional Neural Network model as a backbone (feature extractor) and train it from scratch (1.5 points)\n",
    "\n",
    "- **Bounding box prediction**: Implement a regression head that is fed with the features extracted from the convolutional backbone. (1 point)\n",
    "\n",
    "- **Object classification**: Implement a classification head that is fed with the features extracted from the convolutional backbone (1 point)\n",
    "\n",
    "- **Transfer learning**: Use two pretrained models as backbones and connect the previously created classification and regression heads in order to receive inputs from them. (1 point)\n",
    "\n",
    "- **Data augmentation**: Compare the use of different data augmentation techniques in order to see their impact in the performance of both tasks (classification and regression) (0.5 points)\n",
    "\n",
    "Be aware that you must follow a correct evaluation protocol in order to avoid data leakage from the test sets on the data processing steps. Mistakes will be punished (-0.5 points each).\n",
    "\n",
    "The evaluation metric for this competition is the dice coefficient for the bounding box regression task and accuracy for the object classification task.\n",
    "\n",
    "### Submission Format\n",
    "For every set in the dataset, submission files should contain the following columns:\n",
    "\n",
    "filename, the filename of the image\n",
    "class, the predicted class"
   ]
  },
  {
   "cell_type": "markdown",
   "metadata": {},
   "source": [
    "## Packages and Functions"
   ]
  },
  {
   "cell_type": "markdown",
   "metadata": {},
   "source": [
    "### Packages"
   ]
  },
  {
   "cell_type": "code",
   "execution_count": 1,
   "metadata": {
    "ExecuteTime": {
     "end_time": "2022-12-10T21:22:00.035334Z",
     "start_time": "2022-12-10T21:21:57.589116Z"
    },
    "scrolled": true
   },
   "outputs": [],
   "source": [
    "# General\n",
    "import numpy as np\n",
    "import pandas as pd\n",
    "import sys\n",
    "import matplotlib.pyplot as plt\n",
    "import copy\n",
    "import typing as ty\n",
    "from multiprocessing import cpu_count\n",
    "import math\n",
    "import time\n",
    "\n",
    "\n",
    "# Sklearn\n",
    "from sklearn.model_selection import train_test_split\n",
    "\n",
    "# Images\n",
    "from skimage import io\n",
    "import albumentations as A\n",
    "import torchvision\n",
    "import cv2\n",
    "from torchvision import ops, transforms\n",
    "from torchvision.models import resnet152, alexnet\n",
    "\n",
    "\n",
    "\n",
    "# Neural Networks\n",
    "import torch\n",
    "from torchsummary import summary\n",
    "from torch import nn\n",
    "from torchvision.transforms.functional import resize\n",
    "from torch import Tensor\n",
    "import torch.nn.functional as F\n",
    "from torch.optim import Optimizer\n",
    "from torch.utils.data import DataLoader\n",
    "from torch.nn import CrossEntropyLoss\n",
    "from torch.utils.data import SubsetRandomSampler"
   ]
  },
  {
   "cell_type": "code",
   "execution_count": 2,
   "metadata": {
    "ExecuteTime": {
     "end_time": "2022-12-10T21:22:00.042697Z",
     "start_time": "2022-12-10T21:22:00.039456Z"
    },
    "scrolled": true
   },
   "outputs": [
    {
     "data": {
      "text/plain": [
       "<matplotlib.pyplot._IonContext at 0x7f9208921700>"
      ]
     },
     "execution_count": 2,
     "metadata": {},
     "output_type": "execute_result"
    }
   ],
   "source": [
    "plt.ion()   # matplotlib interactive mode"
   ]
  },
  {
   "cell_type": "markdown",
   "metadata": {},
   "source": [
    "### Functions"
   ]
  },
  {
   "cell_type": "code",
   "execution_count": 3,
   "metadata": {
    "ExecuteTime": {
     "end_time": "2022-12-10T21:22:00.049235Z",
     "start_time": "2022-12-10T21:22:00.047396Z"
    }
   },
   "outputs": [],
   "source": [
    "sys.path.append(\"custom_utils/\")"
   ]
  },
  {
   "cell_type": "code",
   "execution_count": 4,
   "metadata": {
    "ExecuteTime": {
     "end_time": "2022-12-10T21:22:00.063220Z",
     "start_time": "2022-12-10T21:22:00.053247Z"
    }
   },
   "outputs": [],
   "source": [
    "from bounding_boxes import MNISTDataset, normalize_bbox, draw_predictions, draw_bbox\n",
    "from models import FeatureExtractor, ClassificationHead, RegressionHead, train\n",
    "from constants import load_config"
   ]
  },
  {
   "cell_type": "code",
   "execution_count": 5,
   "metadata": {
    "ExecuteTime": {
     "end_time": "2022-12-10T21:22:00.071582Z",
     "start_time": "2022-12-10T21:22:00.067532Z"
    }
   },
   "outputs": [
    {
     "data": {
      "text/plain": [
       "<module 'constants' from '/workspace/study/datascience_master/Analytics Fundamentals 2/challenges/second_challange/constants.py'>"
      ]
     },
     "execution_count": 5,
     "metadata": {},
     "output_type": "execute_result"
    }
   ],
   "source": [
    "import importlib\n",
    "\n",
    "importlib.reload(sys.modules[\"bounding_boxes\"])\n",
    "importlib.reload(sys.modules[\"models\"])\n",
    "importlib.reload(sys.modules[\"constants\"])"
   ]
  },
  {
   "cell_type": "markdown",
   "metadata": {},
   "source": [
    "## Project Config"
   ]
  },
  {
   "cell_type": "markdown",
   "metadata": {},
   "source": [
    "### Configuring GPU or CPU usage based on available resources"
   ]
  },
  {
   "cell_type": "markdown",
   "metadata": {},
   "source": [
    "Usaremos GPU en caso de que esté disponible, sino se usará la GPU para el procesamiento."
   ]
  },
  {
   "cell_type": "code",
   "execution_count": 6,
   "metadata": {
    "ExecuteTime": {
     "end_time": "2022-12-10T21:22:00.176912Z",
     "start_time": "2022-12-10T21:22:00.075583Z"
    }
   },
   "outputs": [
    {
     "name": "stdout",
     "output_type": "stream",
     "text": [
      "Using cuda\n"
     ]
    }
   ],
   "source": [
    "device = 'cuda' if torch.cuda.is_available() else 'cpu'\n",
    "print(f'Using {device}')"
   ]
  },
  {
   "cell_type": "markdown",
   "metadata": {},
   "source": [
    "Probamos que funcione correctamente el uso del device."
   ]
  },
  {
   "cell_type": "code",
   "execution_count": 7,
   "metadata": {
    "ExecuteTime": {
     "end_time": "2022-12-10T21:22:03.716243Z",
     "start_time": "2022-12-10T21:22:00.181071Z"
    }
   },
   "outputs": [],
   "source": [
    "test = torch.ones((100, 100)).to(device)\n",
    "del test\n",
    "torch.cuda.empty_cache()"
   ]
  },
  {
   "cell_type": "markdown",
   "metadata": {},
   "source": [
    "### Seed Config"
   ]
  },
  {
   "cell_type": "markdown",
   "metadata": {},
   "source": [
    "Definimos una semilla para obtener los mismos resultados siempre que el notebook sea corrido. Esto nos ayudará a darnos una idea más clara de como el modelo va mejorando realmente."
   ]
  },
  {
   "cell_type": "code",
   "execution_count": 8,
   "metadata": {
    "ExecuteTime": {
     "end_time": "2022-12-10T21:22:03.723501Z",
     "start_time": "2022-12-10T21:22:03.721118Z"
    }
   },
   "outputs": [],
   "source": [
    "seed = 42\n",
    "\n",
    "torch.backends.cudnn.enabled = True\n",
    "torch.manual_seed(seed)\n",
    "np.random.seed(seed)\n",
    "\n",
    "if(device == 'cuda'):\n",
    "    torch.cuda.manual_seed(seed)\n",
    "    torch.cuda.manual_seed_all(seed)\n",
    "    torch.backends.cudnn.deterministic = True\n",
    "    torch.backends.cudnn.benchmark = False"
   ]
  },
  {
   "cell_type": "markdown",
   "metadata": {},
   "source": [
    "## Creating Dataset Structure"
   ]
  },
  {
   "cell_type": "markdown",
   "metadata": {},
   "source": [
    "### Load dataset"
   ]
  },
  {
   "cell_type": "code",
   "execution_count": 9,
   "metadata": {
    "ExecuteTime": {
     "end_time": "2022-12-10T21:22:03.736577Z",
     "start_time": "2022-12-10T21:22:03.727747Z"
    }
   },
   "outputs": [],
   "source": [
    "df = pd.read_csv(\"datasets/train.csv\")"
   ]
  },
  {
   "cell_type": "markdown",
   "metadata": {},
   "source": [
    "### Data Overview"
   ]
  },
  {
   "cell_type": "code",
   "execution_count": 10,
   "metadata": {
    "ExecuteTime": {
     "end_time": "2022-12-10T21:22:03.754865Z",
     "start_time": "2022-12-10T21:22:03.746328Z"
    }
   },
   "outputs": [
    {
     "data": {
      "text/html": [
       "<div>\n",
       "<style scoped>\n",
       "    .dataframe tbody tr th:only-of-type {\n",
       "        vertical-align: middle;\n",
       "    }\n",
       "\n",
       "    .dataframe tbody tr th {\n",
       "        vertical-align: top;\n",
       "    }\n",
       "\n",
       "    .dataframe thead th {\n",
       "        text-align: right;\n",
       "    }\n",
       "</style>\n",
       "<table border=\"1\" class=\"dataframe\">\n",
       "  <thead>\n",
       "    <tr style=\"text-align: right;\">\n",
       "      <th></th>\n",
       "      <th>filename</th>\n",
       "      <th>class</th>\n",
       "      <th>xmin</th>\n",
       "      <th>ymin</th>\n",
       "      <th>xmax</th>\n",
       "      <th>ymax</th>\n",
       "    </tr>\n",
       "  </thead>\n",
       "  <tbody>\n",
       "    <tr>\n",
       "      <th>0</th>\n",
       "      <td>converted_training12629.png</td>\n",
       "      <td>0</td>\n",
       "      <td>0.34</td>\n",
       "      <td>0.28</td>\n",
       "      <td>0.62</td>\n",
       "      <td>0.56</td>\n",
       "    </tr>\n",
       "    <tr>\n",
       "      <th>1</th>\n",
       "      <td>converted_training37731.png</td>\n",
       "      <td>7</td>\n",
       "      <td>0.16</td>\n",
       "      <td>0.67</td>\n",
       "      <td>0.44</td>\n",
       "      <td>0.95</td>\n",
       "    </tr>\n",
       "    <tr>\n",
       "      <th>2</th>\n",
       "      <td>converted_training39992.png</td>\n",
       "      <td>1</td>\n",
       "      <td>0.47</td>\n",
       "      <td>0.30</td>\n",
       "      <td>0.75</td>\n",
       "      <td>0.58</td>\n",
       "    </tr>\n",
       "    <tr>\n",
       "      <th>3</th>\n",
       "      <td>converted_training8526.png</td>\n",
       "      <td>4</td>\n",
       "      <td>0.17</td>\n",
       "      <td>0.16</td>\n",
       "      <td>0.45</td>\n",
       "      <td>0.44</td>\n",
       "    </tr>\n",
       "    <tr>\n",
       "      <th>4</th>\n",
       "      <td>converted_training8280.png</td>\n",
       "      <td>4</td>\n",
       "      <td>0.17</td>\n",
       "      <td>0.22</td>\n",
       "      <td>0.45</td>\n",
       "      <td>0.50</td>\n",
       "    </tr>\n",
       "    <tr>\n",
       "      <th>...</th>\n",
       "      <td>...</td>\n",
       "      <td>...</td>\n",
       "      <td>...</td>\n",
       "      <td>...</td>\n",
       "      <td>...</td>\n",
       "      <td>...</td>\n",
       "    </tr>\n",
       "    <tr>\n",
       "      <th>7995</th>\n",
       "      <td>converted_training31907.png</td>\n",
       "      <td>9</td>\n",
       "      <td>0.58</td>\n",
       "      <td>0.10</td>\n",
       "      <td>0.86</td>\n",
       "      <td>0.38</td>\n",
       "    </tr>\n",
       "    <tr>\n",
       "      <th>7996</th>\n",
       "      <td>converted_training22702.png</td>\n",
       "      <td>0</td>\n",
       "      <td>0.20</td>\n",
       "      <td>0.54</td>\n",
       "      <td>0.48</td>\n",
       "      <td>0.82</td>\n",
       "    </tr>\n",
       "    <tr>\n",
       "      <th>7997</th>\n",
       "      <td>converted_training24097.png</td>\n",
       "      <td>5</td>\n",
       "      <td>0.07</td>\n",
       "      <td>0.57</td>\n",
       "      <td>0.35</td>\n",
       "      <td>0.85</td>\n",
       "    </tr>\n",
       "    <tr>\n",
       "      <th>7998</th>\n",
       "      <td>converted_training52223.png</td>\n",
       "      <td>9</td>\n",
       "      <td>0.08</td>\n",
       "      <td>0.41</td>\n",
       "      <td>0.36</td>\n",
       "      <td>0.69</td>\n",
       "    </tr>\n",
       "    <tr>\n",
       "      <th>7999</th>\n",
       "      <td>converted_training20994.png</td>\n",
       "      <td>9</td>\n",
       "      <td>0.19</td>\n",
       "      <td>0.50</td>\n",
       "      <td>0.47</td>\n",
       "      <td>0.78</td>\n",
       "    </tr>\n",
       "  </tbody>\n",
       "</table>\n",
       "<p>8000 rows × 6 columns</p>\n",
       "</div>"
      ],
      "text/plain": [
       "                         filename  class  xmin  ymin  xmax  ymax\n",
       "0     converted_training12629.png      0  0.34  0.28  0.62  0.56\n",
       "1     converted_training37731.png      7  0.16  0.67  0.44  0.95\n",
       "2     converted_training39992.png      1  0.47  0.30  0.75  0.58\n",
       "3      converted_training8526.png      4  0.17  0.16  0.45  0.44\n",
       "4      converted_training8280.png      4  0.17  0.22  0.45  0.50\n",
       "...                           ...    ...   ...   ...   ...   ...\n",
       "7995  converted_training31907.png      9  0.58  0.10  0.86  0.38\n",
       "7996  converted_training22702.png      0  0.20  0.54  0.48  0.82\n",
       "7997  converted_training24097.png      5  0.07  0.57  0.35  0.85\n",
       "7998  converted_training52223.png      9  0.08  0.41  0.36  0.69\n",
       "7999  converted_training20994.png      9  0.19  0.50  0.47  0.78\n",
       "\n",
       "[8000 rows x 6 columns]"
      ]
     },
     "execution_count": 10,
     "metadata": {},
     "output_type": "execute_result"
    }
   ],
   "source": [
    "df"
   ]
  },
  {
   "cell_type": "code",
   "execution_count": 11,
   "metadata": {
    "ExecuteTime": {
     "end_time": "2022-12-10T21:22:03.764744Z",
     "start_time": "2022-12-10T21:22:03.762192Z"
    }
   },
   "outputs": [
    {
     "data": {
      "text/plain": [
       "Index(['filename', 'class', 'xmin', 'ymin', 'xmax', 'ymax'], dtype='object')"
      ]
     },
     "execution_count": 11,
     "metadata": {},
     "output_type": "execute_result"
    }
   ],
   "source": [
    "df.columns"
   ]
  },
  {
   "cell_type": "markdown",
   "metadata": {},
   "source": [
    "El dataset cuenta con 6 columnas:\n",
    "\n",
    "1. **filename**: Nombre del archivo que contiene la imagen del digito.\n",
    "2. **class:**: digito que aparece en la imagen.\n",
    "3. **xmin**: coordenada x del punto más cercano.\n",
    "4. **ymin**: coordenada del punto y más cercano.\n",
    "5. **xmax**: coordenada x del punto más alejado.\n",
    "6. **ymax**: coordenada y del punto más alejado.\n",
    "\n",
    "Con los dos puntos podemos generar el recuadro para encerrar los digitos dentro de un cuadrado."
   ]
  },
  {
   "cell_type": "markdown",
   "metadata": {},
   "source": [
    "Renombramos la variable class a class_id que es el nombre que manejaremos a lo largo del proyecto."
   ]
  },
  {
   "cell_type": "code",
   "execution_count": 12,
   "metadata": {
    "ExecuteTime": {
     "end_time": "2022-12-10T21:22:03.774545Z",
     "start_time": "2022-12-10T21:22:03.772494Z"
    }
   },
   "outputs": [],
   "source": [
    "df.rename(columns={\"class\": \"class_id\"}, inplace=True)"
   ]
  },
  {
   "cell_type": "markdown",
   "metadata": {
    "ExecuteTime": {
     "end_time": "2022-12-04T20:09:14.418349Z",
     "start_time": "2022-12-04T20:09:14.406390Z"
    }
   },
   "source": [
    "### Train test split"
   ]
  },
  {
   "cell_type": "markdown",
   "metadata": {},
   "source": [
    "Separamos el dataset en datos de entrenamiento y prueba. Y estratificamos los datos para que cuenten con una cantidad de clases similar en los conjuntos de datos que obtendremos.\n",
    "\n",
    "Usaremos el 15% como datos de prueba."
   ]
  },
  {
   "cell_type": "code",
   "execution_count": 13,
   "metadata": {
    "ExecuteTime": {
     "end_time": "2022-12-10T21:22:03.787856Z",
     "start_time": "2022-12-10T21:22:03.782899Z"
    }
   },
   "outputs": [],
   "source": [
    "train_df, test_df = train_test_split(\n",
    "    df, stratify=df['class_id'], test_size=0.15, random_state=seed\n",
    ")"
   ]
  },
  {
   "cell_type": "code",
   "execution_count": 14,
   "metadata": {
    "ExecuteTime": {
     "end_time": "2022-12-10T21:22:03.803857Z",
     "start_time": "2022-12-10T21:22:03.801432Z"
    }
   },
   "outputs": [
    {
     "name": "stdout",
     "output_type": "stream",
     "text": [
      "(6800, 6)\n",
      "(1200, 6)\n"
     ]
    }
   ],
   "source": [
    "print(train_df.shape)\n",
    "print(test_df.shape)"
   ]
  },
  {
   "cell_type": "markdown",
   "metadata": {},
   "source": [
    "Revisamos como quedó la estratificación de los datos de entrenamiento"
   ]
  },
  {
   "cell_type": "code",
   "execution_count": 15,
   "metadata": {
    "ExecuteTime": {
     "end_time": "2022-12-10T21:22:04.729147Z",
     "start_time": "2022-12-10T21:22:04.723903Z"
    },
    "scrolled": true
   },
   "outputs": [
    {
     "data": {
      "text/plain": [
       "1    730\n",
       "7    709\n",
       "9    698\n",
       "3    696\n",
       "2    678\n",
       "0    674\n",
       "6    671\n",
       "4    652\n",
       "5    649\n",
       "8    643\n",
       "Name: class_id, dtype: int64"
      ]
     },
     "execution_count": 15,
     "metadata": {},
     "output_type": "execute_result"
    }
   ],
   "source": [
    "pd.value_counts(train_df['class_id'])"
   ]
  },
  {
   "cell_type": "code",
   "execution_count": 16,
   "metadata": {
    "ExecuteTime": {
     "end_time": "2022-12-10T21:22:05.136899Z",
     "start_time": "2022-12-10T21:22:05.126678Z"
    }
   },
   "outputs": [
    {
     "data": {
      "text/plain": [
       "1    10.735294\n",
       "7    10.426471\n",
       "9    10.264706\n",
       "3    10.235294\n",
       "2     9.970588\n",
       "0     9.911765\n",
       "6     9.867647\n",
       "4     9.588235\n",
       "5     9.544118\n",
       "8     9.455882\n",
       "Name: class_id, dtype: float64"
      ]
     },
     "execution_count": 16,
     "metadata": {},
     "output_type": "execute_result"
    }
   ],
   "source": [
    "train_df['class_id'].value_counts(1) * 100"
   ]
  },
  {
   "cell_type": "markdown",
   "metadata": {},
   "source": [
    "Vemos que cada clase ronda entre un 9.4% y 10.7% de los datos en el conjunto de entrenamiento."
   ]
  },
  {
   "cell_type": "markdown",
   "metadata": {},
   "source": [
    "Revisemos ahora los datos de prueba"
   ]
  },
  {
   "cell_type": "code",
   "execution_count": 17,
   "metadata": {
    "ExecuteTime": {
     "end_time": "2022-12-10T21:22:06.798085Z",
     "start_time": "2022-12-10T21:22:06.794220Z"
    }
   },
   "outputs": [
    {
     "data": {
      "text/plain": [
       "1    129\n",
       "7    125\n",
       "3    123\n",
       "9    123\n",
       "2    120\n",
       "0    119\n",
       "6    118\n",
       "4    115\n",
       "5    114\n",
       "8    114\n",
       "Name: class_id, dtype: int64"
      ]
     },
     "execution_count": 17,
     "metadata": {},
     "output_type": "execute_result"
    }
   ],
   "source": [
    "pd.value_counts(test_df['class_id'])"
   ]
  },
  {
   "cell_type": "code",
   "execution_count": 18,
   "metadata": {
    "ExecuteTime": {
     "end_time": "2022-12-10T21:22:07.300137Z",
     "start_time": "2022-12-10T21:22:07.295848Z"
    },
    "scrolled": false
   },
   "outputs": [
    {
     "data": {
      "text/plain": [
       "1    10.750000\n",
       "7    10.416667\n",
       "3    10.250000\n",
       "9    10.250000\n",
       "2    10.000000\n",
       "0     9.916667\n",
       "6     9.833333\n",
       "4     9.583333\n",
       "5     9.500000\n",
       "8     9.500000\n",
       "Name: class_id, dtype: float64"
      ]
     },
     "execution_count": 18,
     "metadata": {},
     "output_type": "execute_result"
    }
   ],
   "source": [
    "test_df['class_id'].value_counts(1) * 100"
   ]
  },
  {
   "cell_type": "markdown",
   "metadata": {},
   "source": [
    "Para el conjunto de datos de prueba tenemos un caso muy similar, por lo que la estratificación es adecuada ya que contamos con clases balanceadas en cada uno de los datasets."
   ]
  },
  {
   "cell_type": "markdown",
   "metadata": {},
   "source": [
    "### Constantes del proyecto"
   ]
  },
  {
   "cell_type": "markdown",
   "metadata": {},
   "source": [
    "Cargamos las constantes del proyecto"
   ]
  },
  {
   "cell_type": "code",
   "execution_count": 19,
   "metadata": {
    "ExecuteTime": {
     "end_time": "2022-12-10T21:22:10.331753Z",
     "start_time": "2022-12-10T21:22:10.330015Z"
    }
   },
   "outputs": [],
   "source": [
    "config_dict = load_config()"
   ]
  },
  {
   "cell_type": "code",
   "execution_count": 20,
   "metadata": {
    "ExecuteTime": {
     "end_time": "2022-12-10T21:22:10.635258Z",
     "start_time": "2022-12-10T21:22:10.633426Z"
    }
   },
   "outputs": [],
   "source": [
    "config_dict['gray_scale'] = True if config_dict['num_channels'] == 1 else False"
   ]
  },
  {
   "cell_type": "markdown",
   "metadata": {},
   "source": [
    "### Manejo de las imagenes (Clases y Bounding Boxes)"
   ]
  },
  {
   "cell_type": "markdown",
   "metadata": {},
   "source": [
    "Haremos uso de la clase que se encarga de cargar las imagenes, los bounding boxes y transformarlas (en caso que se le pase un transformador), a modo de ejemplo de la tarea que se realiza en este notebook."
   ]
  },
  {
   "cell_type": "code",
   "execution_count": 21,
   "metadata": {
    "ExecuteTime": {
     "end_time": "2022-12-10T21:22:30.448267Z",
     "start_time": "2022-12-10T21:22:30.431990Z"
    }
   },
   "outputs": [],
   "source": [
    "train_ds = MNISTDataset(train_df, root_dir=config_dict['train_images_dir'])\n",
    "\n",
    "# Mostraremos las 10 primeras imagenes\n",
    "num_imgs = 10\n",
    "start_idx = 0\n",
    "\n",
    "samples = [train_ds[i] for i in range(start_idx, num_imgs)]\n",
    "\n",
    "# Obtenemos las imagenes del conjunto.\n",
    "imgs = [s['image'] for s in samples]"
   ]
  },
  {
   "cell_type": "markdown",
   "metadata": {
    "ExecuteTime": {
     "end_time": "2022-12-04T21:44:06.990304Z",
     "start_time": "2022-12-04T21:44:06.930989Z"
    }
   },
   "source": [
    "Visualizamos las imagenes antes de ser transformadas"
   ]
  },
  {
   "cell_type": "code",
   "execution_count": 22,
   "metadata": {
    "ExecuteTime": {
     "end_time": "2022-12-10T21:22:31.539136Z",
     "start_time": "2022-12-10T21:22:31.174197Z"
    }
   },
   "outputs": [
    {
     "data": {
      "image/png": "[encoded data removed]",
      "text/plain": [
       "<Figure size 2160x720 with 10 Axes>"
      ]
     },
     "metadata": {
      "needs_background": "light"
     },
     "output_type": "display_data"
    }
   ],
   "source": [
    "fig = plt.figure(figsize=(30, num_imgs))\n",
    "\n",
    "for i, img in enumerate(imgs):\n",
    "    fig.add_subplot(1, num_imgs, i+1)\n",
    "    plt.imshow(img)\n",
    "\n",
    "plt.show()"
   ]
  },
  {
   "cell_type": "markdown",
   "metadata": {},
   "source": [
    "Obtenemos las clases y los boxes a las imagenes"
   ]
  },
  {
   "cell_type": "code",
   "execution_count": 23,
   "metadata": {
    "ExecuteTime": {
     "end_time": "2022-12-10T21:22:32.236339Z",
     "start_time": "2022-12-10T21:22:32.234114Z"
    }
   },
   "outputs": [],
   "source": [
    "bboxes = [normalize_bbox(s['bbox'].squeeze()) for s in samples]\n",
    "classes = [s['class_id'] for s in samples]"
   ]
  },
  {
   "cell_type": "markdown",
   "metadata": {},
   "source": [
    "Agregamos los boxes y las clases a las imagenes"
   ]
  },
  {
   "cell_type": "code",
   "execution_count": 24,
   "metadata": {
    "ExecuteTime": {
     "end_time": "2022-12-10T21:22:33.118112Z",
     "start_time": "2022-12-10T21:22:33.114853Z"
    }
   },
   "outputs": [],
   "source": [
    "imgs = draw_predictions(imgs, classes, bboxes, [(0, 150, 0)], (90, 95))"
   ]
  },
  {
   "cell_type": "code",
   "execution_count": 25,
   "metadata": {
    "ExecuteTime": {
     "end_time": "2022-12-10T21:22:34.099553Z",
     "start_time": "2022-12-10T21:22:33.695950Z"
    },
    "scrolled": true
   },
   "outputs": [
    {
     "data": {
      "image/png": "[encoded data removed]",
      "text/plain": [
       "<Figure size 2160x720 with 10 Axes>"
      ]
     },
     "metadata": {
      "needs_background": "light"
     },
     "output_type": "display_data"
    }
   ],
   "source": [
    "fig = plt.figure(figsize=(30, num_imgs))\n",
    "\n",
    "for i, img in enumerate(imgs):\n",
    "    fig.add_subplot(1, num_imgs, i+1)\n",
    "    plt.imshow(img)\n",
    "\n",
    "plt.show()"
   ]
  },
  {
   "cell_type": "markdown",
   "metadata": {},
   "source": [
    "### Image Normalization"
   ]
  },
  {
   "cell_type": "markdown",
   "metadata": {},
   "source": [
    "Sacamos la media y la desviación de las imagenes que nos ayudará a normalizar las imagenes antes de pasarlas al modelo."
   ]
  },
  {
   "cell_type": "code",
   "execution_count": 26,
   "metadata": {
    "ExecuteTime": {
     "end_time": "2022-12-10T21:22:58.806369Z",
     "start_time": "2022-12-10T21:22:34.892655Z"
    }
   },
   "outputs": [],
   "source": [
    "means = None\n",
    "stds = None\n",
    "\n",
    "if means is None and stds is None:\n",
    "    means, stds = [], []\n",
    "    pixel_values = [\n",
    "        [], # R, size = H * W * num_images \n",
    "        [], # G size = H * W * num_images\n",
    "        [], # B size = H * W * num_images\n",
    "    ]\n",
    "\n",
    "    for x in train_ds:\n",
    "        img = x['image']\n",
    "\n",
    "        for channel in range(3):\n",
    "            channel_pixel_values = list(img[..., channel].flatten())\n",
    "            pixel_values[channel].extend(channel_pixel_values)\n",
    "\n",
    "    for channel in range(3):\n",
    "        means.append(np.mean(pixel_values[channel]))\n",
    "        stds.append(np.std(pixel_values[channel]))\n",
    "    \n",
    "    del pixel_values"
   ]
  },
  {
   "cell_type": "code",
   "execution_count": 27,
   "metadata": {
    "ExecuteTime": {
     "end_time": "2022-12-10T21:22:58.839924Z",
     "start_time": "2022-12-10T21:22:58.837521Z"
    }
   },
   "outputs": [
    {
     "name": "stdout",
     "output_type": "stream",
     "text": [
      "[2.619323970588235, 2.619323970588235, 2.619323970588235]\n",
      "[23.784977604424643, 23.784977604424643, 23.784977604424643]\n"
     ]
    }
   ],
   "source": [
    "print(means)\n",
    "print(stds)"
   ]
  },
  {
   "cell_type": "markdown",
   "metadata": {},
   "source": [
    "Definimos nuestro normalizador, que luego usaremos en las imagenes antes de pasarlas por los modelos."
   ]
  },
  {
   "cell_type": "code",
   "execution_count": 28,
   "metadata": {
    "ExecuteTime": {
     "end_time": "2022-12-10T21:22:58.865457Z",
     "start_time": "2022-12-10T21:22:58.862854Z"
    }
   },
   "outputs": [],
   "source": [
    "class Normalizer(object):\n",
    "    \n",
    "    def __init__(self, stds, means):\n",
    "        \"\"\"\n",
    "        Arguments:\n",
    "        \n",
    "            stds: array of length 3 containing the standard deviation of each channel in RGB order.\n",
    "            means: array of length 3 containing the meeans of each channel in RGB order.\n",
    "        \"\"\"\n",
    "        self.stds = stds\n",
    "        self.means = means\n",
    "    \n",
    "    def __call__(self, sample):\n",
    "        \"\"\"\n",
    "        Sample: a dicitonary containing:\n",
    "            image: sample image in format (C, H, W)\n",
    "        Returns:\n",
    "            the image in (C, H, W) format with the channels normalized.\n",
    "        \"\"\"\n",
    "        image = sample['image']\n",
    "        \n",
    "        for channel in range(config_dict['num_channels']):\n",
    "            image[channel] = (image[channel] - means[channel]) / stds[channel]\n",
    "\n",
    "        sample['image'] = image\n",
    "        \n",
    "        return sample"
   ]
  },
  {
   "cell_type": "markdown",
   "metadata": {},
   "source": [
    "### Image To Tensor"
   ]
  },
  {
   "cell_type": "markdown",
   "metadata": {},
   "source": [
    "Definimos un transformador que se encarga de convertir las imagenes en tensores. Este transformador reordena los canales de entrada y hace un resize de las imagenes, con este transformador las imagenes ya podrán pasar por nuestro modelo."
   ]
  },
  {
   "cell_type": "code",
   "execution_count": 29,
   "metadata": {
    "ExecuteTime": {
     "end_time": "2022-12-10T21:22:58.893500Z",
     "start_time": "2022-12-10T21:22:58.890334Z"
    }
   },
   "outputs": [],
   "source": [
    "class ToTensor(object):\n",
    "    \"\"\"Convert ndarrays in sample to Tensors.\"\"\"\n",
    "    \n",
    "    def __init__(self, img_size, gray: False):\n",
    "        self.img_size = img_size\n",
    "        self.gray = gray\n",
    "\n",
    "    def __call__(self, sample):\n",
    "        image = sample['image']\n",
    "        # swap color axis because\n",
    "        # numpy image: H x W x C\n",
    "        # torch image: C x H x W\n",
    "        if(self.gray):\n",
    "            image = np.expand_dims(image, axis=2)\n",
    "            \n",
    "        image = image.transpose((2, 0, 1))\n",
    "        image = torch.from_numpy(image).float()\n",
    "        image = resize(image, (self.img_size, self.img_size))\n",
    "        sample.update({'image': image})\n",
    "        return sample\n"
   ]
  },
  {
   "cell_type": "markdown",
   "metadata": {},
   "source": [
    "Definimos el conjunto de datos que usaremos para un primer entrenamiento del modelo, el cual recibirá las imagenes originales (redimensionadas) y transfer learning.\n",
    "\n",
    "Para las siguientes etapas agregaremos transfer learning y haremos un proceso de data augmentation para comparar los resultados."
   ]
  },
  {
   "cell_type": "code",
   "execution_count": 30,
   "metadata": {
    "ExecuteTime": {
     "end_time": "2022-12-10T21:22:58.957361Z",
     "start_time": "2022-12-10T21:22:58.916876Z"
    }
   },
   "outputs": [
    {
     "name": "stdout",
     "output_type": "stream",
     "text": [
      "torch.Size([32, 1, 28, 28])\n"
     ]
    }
   ],
   "source": [
    "train_ds = MNISTDataset(train_df,gray=config_dict['gray_scale'], root_dir=config_dict['train_images_dir'], transform=ToTensor(img_size=config_dict['img_size'], gray=config_dict['gray_scale']))\n",
    "train_data = torch.utils.data.DataLoader(train_ds, batch_size=config_dict['batch_size'])\n",
    "for x in train_data:\n",
    "    print(x['image'].size())\n",
    "    break"
   ]
  },
  {
   "cell_type": "markdown",
   "metadata": {},
   "source": [
    "## Feature Extractor Model (Backbone)"
   ]
  },
  {
   "cell_type": "markdown",
   "metadata": {},
   "source": [
    "Para construir la arquitectura nos basaremos en la información encontrada en las siguiente fuente:\n",
    "- [25 Million Images! [0.99757] MNIST](https://www.kaggle.com/code/cdeotte/25-million-images-0-99757-mnist/notebook)\n",
    "En este articulo se mencionan varias arquitecturas que estaremos probando, en cada una de ellas dejaremos los créditos correspondientes. Revisamos los articulos de las arquitecturas que se mencionan, con el proposito de compreender como y porqué fueron construidas de esa forma.\n",
    "Algo importante de este articulo es que mencionan como aumentan un dataset de 42000 imagenes a 25 millones rotandolas, escalandolas y haciendo otro tipo de transformaciones.\n",
    "- [How to choose CNN Architecture MNIST](https://www.kaggle.com/code/cdeotte/how-to-choose-cnn-architecture-mnist/notebook) acá se realizan varios experimentos de arquitectura y se menciona \n",
    "- [MNIST Handwritten Digits Classification using a Convolutional Neural Network (CNN)](https://towardsdatascience.com/mnist-handwritten-digits-classification-using-a-convolutional-neural-network-cnn-af5fafbc35e9)"
   ]
  },
  {
   "cell_type": "code",
   "execution_count": 31,
   "metadata": {
    "ExecuteTime": {
     "end_time": "2022-12-10T21:22:58.997734Z",
     "start_time": "2022-12-10T21:22:58.990123Z"
    }
   },
   "outputs": [],
   "source": [
    "feature_extractor_model = FeatureExtractor(channels=config_dict['num_channels']).to(device)"
   ]
  },
  {
   "cell_type": "code",
   "execution_count": 32,
   "metadata": {
    "ExecuteTime": {
     "end_time": "2022-12-10T21:22:59.104969Z",
     "start_time": "2022-12-10T21:22:59.020256Z"
    },
    "scrolled": false
   },
   "outputs": [
    {
     "name": "stdout",
     "output_type": "stream",
     "text": [
      "----------------------------------------------------------------\n",
      "        Layer (type)               Output Shape         Param #\n",
      "================================================================\n",
      "            Conv2d-1           [-1, 32, 26, 26]             320\n",
      "              ReLU-2           [-1, 32, 26, 26]               0\n",
      "       BatchNorm2d-3           [-1, 32, 26, 26]              64\n",
      "            Conv2d-4           [-1, 32, 24, 24]           9,248\n",
      "              ReLU-5           [-1, 32, 24, 24]               0\n",
      "       BatchNorm2d-6           [-1, 32, 24, 24]              64\n",
      "            Conv2d-7           [-1, 32, 12, 12]          25,632\n",
      "              ReLU-8           [-1, 32, 12, 12]               0\n",
      "       BatchNorm2d-9           [-1, 32, 12, 12]              64\n",
      "          Dropout-10           [-1, 32, 12, 12]               0\n",
      "           Conv2d-11           [-1, 64, 10, 10]          18,496\n",
      "             ReLU-12           [-1, 64, 10, 10]               0\n",
      "      BatchNorm2d-13           [-1, 64, 10, 10]             128\n",
      "           Conv2d-14             [-1, 64, 8, 8]          36,928\n",
      "             ReLU-15             [-1, 64, 8, 8]               0\n",
      "      BatchNorm2d-16             [-1, 64, 8, 8]             128\n",
      "           Conv2d-17             [-1, 64, 4, 4]         102,464\n",
      "             ReLU-18             [-1, 64, 4, 4]               0\n",
      "      BatchNorm2d-19             [-1, 64, 4, 4]             128\n",
      "          Dropout-20             [-1, 64, 4, 4]               0\n",
      "          Flatten-21                 [-1, 1024]               0\n",
      "================================================================\n",
      "Total params: 193,664\n",
      "Trainable params: 193,664\n",
      "Non-trainable params: 0\n",
      "----------------------------------------------------------------\n",
      "Input size (MB): 0.00\n",
      "Forward/backward pass size (MB): 1.34\n",
      "Params size (MB): 0.74\n",
      "Estimated Total Size (MB): 2.08\n",
      "----------------------------------------------------------------\n"
     ]
    }
   ],
   "source": [
    "summary(feature_extractor_model, input_size=(config_dict['num_channels'], config_dict['img_size'], config_dict['img_size']), device=device)"
   ]
  },
  {
   "cell_type": "code",
   "execution_count": 33,
   "metadata": {
    "ExecuteTime": {
     "end_time": "2022-12-10T21:22:59.130050Z",
     "start_time": "2022-12-10T21:22:59.128441Z"
    }
   },
   "outputs": [],
   "source": [
    "feature_extractor_output_shape = 1024"
   ]
  },
  {
   "cell_type": "markdown",
   "metadata": {},
   "source": [
    "## Object classification Model"
   ]
  },
  {
   "cell_type": "markdown",
   "metadata": {},
   "source": [
    "Definimos la cabeza de clasificación que tomará las salidas de nuestro feature extractor y clasificará las imagen según la probabilidad de que pertenezcan a una clase dada."
   ]
  },
  {
   "cell_type": "code",
   "execution_count": 34,
   "metadata": {
    "ExecuteTime": {
     "end_time": "2022-12-10T21:22:59.155231Z",
     "start_time": "2022-12-10T21:22:59.152187Z"
    }
   },
   "outputs": [],
   "source": [
    "classifier = ClassificationHead(input_size=feature_extractor_output_shape, n_classes=config_dict['num_classes']).to(device)"
   ]
  },
  {
   "cell_type": "code",
   "execution_count": 35,
   "metadata": {
    "ExecuteTime": {
     "end_time": "2022-12-10T21:22:59.188040Z",
     "start_time": "2022-12-10T21:22:59.176973Z"
    }
   },
   "outputs": [
    {
     "name": "stdout",
     "output_type": "stream",
     "text": [
      "----------------------------------------------------------------\n",
      "        Layer (type)               Output Shape         Param #\n",
      "================================================================\n",
      "            Linear-1                  [-1, 128]         131,200\n",
      "              ReLU-2                  [-1, 128]               0\n",
      "       BatchNorm1d-3                  [-1, 128]             256\n",
      "           Dropout-4                  [-1, 128]               0\n",
      "            Linear-5                   [-1, 10]           1,290\n",
      "================================================================\n",
      "Total params: 132,746\n",
      "Trainable params: 132,746\n",
      "Non-trainable params: 0\n",
      "----------------------------------------------------------------\n",
      "Input size (MB): 0.00\n",
      "Forward/backward pass size (MB): 0.00\n",
      "Params size (MB): 0.51\n",
      "Estimated Total Size (MB): 0.51\n",
      "----------------------------------------------------------------\n"
     ]
    }
   ],
   "source": [
    "summary(classifier, input_size=(feature_extractor_output_shape,), device=device)"
   ]
  },
  {
   "cell_type": "markdown",
   "metadata": {},
   "source": [
    "## Bounding box prediction Model"
   ]
  },
  {
   "cell_type": "markdown",
   "metadata": {},
   "source": [
    "Ahora definimos nuestra cabeza de regresión, que también tomara las salidas del feature extractor y calculará las coordenadas de los puntos para encerrar los digitos en un recuadro."
   ]
  },
  {
   "cell_type": "code",
   "execution_count": 36,
   "metadata": {
    "ExecuteTime": {
     "end_time": "2022-12-10T21:22:59.217096Z",
     "start_time": "2022-12-10T21:22:59.210484Z"
    }
   },
   "outputs": [],
   "source": [
    "regressor = RegressionHead(input_size=feature_extractor_output_shape).to(device)"
   ]
  },
  {
   "cell_type": "code",
   "execution_count": 37,
   "metadata": {
    "ExecuteTime": {
     "end_time": "2022-12-10T21:22:59.246337Z",
     "start_time": "2022-12-10T21:22:59.241339Z"
    }
   },
   "outputs": [
    {
     "name": "stdout",
     "output_type": "stream",
     "text": [
      "----------------------------------------------------------------\n",
      "        Layer (type)               Output Shape         Param #\n",
      "================================================================\n",
      "            Linear-1                  [-1, 768]         787,200\n",
      "              ReLU-2                  [-1, 768]               0\n",
      "            Linear-3                  [-1, 256]         196,864\n",
      "              ReLU-4                  [-1, 256]               0\n",
      "            Linear-5                    [-1, 4]           1,028\n",
      "================================================================\n",
      "Total params: 985,092\n",
      "Trainable params: 985,092\n",
      "Non-trainable params: 0\n",
      "----------------------------------------------------------------\n",
      "Input size (MB): 0.00\n",
      "Forward/backward pass size (MB): 0.02\n",
      "Params size (MB): 3.76\n",
      "Estimated Total Size (MB): 3.78\n",
      "----------------------------------------------------------------\n"
     ]
    }
   ],
   "source": [
    "summary(regressor, input_size=(feature_extractor_output_shape,), device=device)"
   ]
  },
  {
   "cell_type": "markdown",
   "metadata": {},
   "source": [
    "## Model for classification and objects location"
   ]
  },
  {
   "cell_type": "markdown",
   "metadata": {},
   "source": [
    "Ahora definimos el modelo que se encargará de clasificar y localizar las imagenes apoyandose del feature extractor, la cabeza de regresión y la cabeza de clasificación."
   ]
  },
  {
   "cell_type": "code",
   "execution_count": 38,
   "metadata": {
    "ExecuteTime": {
     "end_time": "2022-12-10T21:23:05.850454Z",
     "start_time": "2022-12-10T21:23:05.847923Z"
    }
   },
   "outputs": [],
   "source": [
    "class Model(nn.Module):\n",
    "    def __init__(self, backbone: FeatureExtractor, classifier: ClassificationHead, regressor: RegressionHead):\n",
    "        super().__init__()\n",
    "        self.backbone = backbone\n",
    "        self.cls_head = classifier\n",
    "        self.reg_head = regressor\n",
    "        \n",
    "    def forward(self, x):\n",
    "        features = self.backbone(x)\n",
    "        cls_logits = self.cls_head(features)\n",
    "        pred_bbox = self.reg_head(features)\n",
    "        predictions = {'bbox': pred_bbox, 'class_id': cls_logits}\n",
    "        return predictions"
   ]
  },
  {
   "cell_type": "code",
   "execution_count": 39,
   "metadata": {
    "ExecuteTime": {
     "end_time": "2022-12-10T21:23:06.227745Z",
     "start_time": "2022-12-10T21:23:06.224638Z"
    }
   },
   "outputs": [],
   "source": [
    "model = Model(feature_extractor_model, classifier, regressor).to(device)"
   ]
  },
  {
   "cell_type": "code",
   "execution_count": 40,
   "metadata": {
    "ExecuteTime": {
     "end_time": "2022-12-10T21:23:06.730606Z",
     "start_time": "2022-12-10T21:23:06.719621Z"
    }
   },
   "outputs": [
    {
     "name": "stdout",
     "output_type": "stream",
     "text": [
      "----------------------------------------------------------------\n",
      "        Layer (type)               Output Shape         Param #\n",
      "================================================================\n",
      "            Conv2d-1           [-1, 32, 26, 26]             320\n",
      "              ReLU-2           [-1, 32, 26, 26]               0\n",
      "       BatchNorm2d-3           [-1, 32, 26, 26]              64\n",
      "            Conv2d-4           [-1, 32, 24, 24]           9,248\n",
      "              ReLU-5           [-1, 32, 24, 24]               0\n",
      "       BatchNorm2d-6           [-1, 32, 24, 24]              64\n",
      "            Conv2d-7           [-1, 32, 12, 12]          25,632\n",
      "              ReLU-8           [-1, 32, 12, 12]               0\n",
      "       BatchNorm2d-9           [-1, 32, 12, 12]              64\n",
      "          Dropout-10           [-1, 32, 12, 12]               0\n",
      "           Conv2d-11           [-1, 64, 10, 10]          18,496\n",
      "             ReLU-12           [-1, 64, 10, 10]               0\n",
      "      BatchNorm2d-13           [-1, 64, 10, 10]             128\n",
      "           Conv2d-14             [-1, 64, 8, 8]          36,928\n",
      "             ReLU-15             [-1, 64, 8, 8]               0\n",
      "      BatchNorm2d-16             [-1, 64, 8, 8]             128\n",
      "           Conv2d-17             [-1, 64, 4, 4]         102,464\n",
      "             ReLU-18             [-1, 64, 4, 4]               0\n",
      "      BatchNorm2d-19             [-1, 64, 4, 4]             128\n",
      "          Dropout-20             [-1, 64, 4, 4]               0\n",
      "          Flatten-21                 [-1, 1024]               0\n",
      " FeatureExtractor-22                 [-1, 1024]               0\n",
      "           Linear-23                  [-1, 128]         131,200\n",
      "             ReLU-24                  [-1, 128]               0\n",
      "      BatchNorm1d-25                  [-1, 128]             256\n",
      "          Dropout-26                  [-1, 128]               0\n",
      "           Linear-27                   [-1, 10]           1,290\n",
      "ClassificationHead-28                   [-1, 10]               0\n",
      "           Linear-29                  [-1, 768]         787,200\n",
      "             ReLU-30                  [-1, 768]               0\n",
      "           Linear-31                  [-1, 256]         196,864\n",
      "             ReLU-32                  [-1, 256]               0\n",
      "           Linear-33                    [-1, 4]           1,028\n",
      "   RegressionHead-34                    [-1, 4]               0\n",
      "================================================================\n",
      "Total params: 1,311,502\n",
      "Trainable params: 1,311,502\n",
      "Non-trainable params: 0\n",
      "----------------------------------------------------------------\n",
      "Input size (MB): 0.00\n",
      "Forward/backward pass size (MB): 1.36\n",
      "Params size (MB): 5.00\n",
      "Estimated Total Size (MB): 6.37\n",
      "----------------------------------------------------------------\n"
     ]
    }
   ],
   "source": [
    "summary(model, input_size=(config_dict['num_channels'], config_dict['img_size'], config_dict['img_size']), device=device)"
   ]
  },
  {
   "cell_type": "markdown",
   "metadata": {},
   "source": [
    "## Methods for training the model"
   ]
  },
  {
   "cell_type": "markdown",
   "metadata": {},
   "source": [
    "### Loss Function"
   ]
  },
  {
   "cell_type": "markdown",
   "metadata": {},
   "source": [
    "La función de perdida es muy importante puesto que el modelo debe tanto clasificar como localizar los números. Para esto usamos dos funciones de perdidas una para la clasificación y otra para la regresión, luego de calculadas ambas funciones de perdida se ponderan para obtener una función de perdida que calcula el total, con esto podemos optimizar ambas tareas al mismo tiempo."
   ]
  },
  {
   "cell_type": "code",
   "execution_count": 41,
   "metadata": {
    "ExecuteTime": {
     "end_time": "2022-12-10T21:23:09.818498Z",
     "start_time": "2022-12-10T21:23:09.815631Z"
    }
   },
   "outputs": [],
   "source": [
    "def loss_fn(\n",
    "    y_true, \n",
    "    y_preds, \n",
    "    cls_loss_fn: CrossEntropyLoss, \n",
    "    bbox_loss_fn: ty.Callable[[ty.Dict[str, torch.Tensor]], torch.Tensor],  \n",
    "    alpha: float = 0.5\n",
    "):\n",
    "    cls_y_true, cls_y_pred = y_true['class_id'].long(), y_preds['class_id'].float().unsqueeze(-1)\n",
    "    reg_y_true, reg_y_pred = y_true['bbox'].float().squeeze(), y_preds['bbox'].float().squeeze()\n",
    "    \n",
    "    cls_loss = cls_loss_fn(cls_y_pred, cls_y_true)\n",
    "    # Play!!!\n",
    "    reg_loss = bbox_loss_fn(reg_y_pred, reg_y_true)\n",
    "    # Adds weights to both tasks\n",
    "    total_loss = (1 - alpha) * cls_loss + alpha * reg_loss\n",
    "    return dict(loss=total_loss, reg_loss=reg_loss,cls_loss=cls_loss)"
   ]
  },
  {
   "cell_type": "markdown",
   "metadata": {},
   "source": [
    "### Metrics"
   ]
  },
  {
   "cell_type": "markdown",
   "metadata": {},
   "source": [
    "Definimos dos funciones para calcular las metricas de nuestros modelos que para el caso de la clasificación la metrica que se usa es el accuracy y para el caso de la regresión es el Intersection over Union."
   ]
  },
  {
   "cell_type": "markdown",
   "metadata": {},
   "source": [
    "#### Accurancy Metrics "
   ]
  },
  {
   "cell_type": "code",
   "execution_count": 42,
   "metadata": {
    "ExecuteTime": {
     "end_time": "2022-12-10T21:23:10.944704Z",
     "start_time": "2022-12-10T21:23:10.942352Z"
    }
   },
   "outputs": [],
   "source": [
    "def accuracy(y_true: Tensor, y_pred: Tensor):\n",
    "    pred = torch.argmax(y_pred, axis=-1)\n",
    "    y_true = y_true.squeeze()\n",
    "    correct = torch.eq(pred, y_true).float()\n",
    "    total = torch.ones_like(correct)\n",
    "    result = torch.divide(torch.sum(correct), torch.sum(total))\n",
    "    return result"
   ]
  },
  {
   "cell_type": "markdown",
   "metadata": {},
   "source": [
    "#### Intersection over Union (IoU) Metric"
   ]
  },
  {
   "cell_type": "code",
   "execution_count": 43,
   "metadata": {
    "ExecuteTime": {
     "end_time": "2022-12-10T21:23:11.403395Z",
     "start_time": "2022-12-10T21:23:11.400977Z"
    }
   },
   "outputs": [],
   "source": [
    "def iou(y_true: Tensor, y_pred: Tensor):\n",
    "    pairwise_iou = torchvision.ops.box_iou(y_true.squeeze(), y_pred.squeeze())\n",
    "    result = torch.trace(pairwise_iou) / pairwise_iou.size()[0]\n",
    "    return result"
   ]
  },
  {
   "cell_type": "markdown",
   "metadata": {},
   "source": [
    "### Callbacks"
   ]
  },
  {
   "cell_type": "code",
   "execution_count": 44,
   "metadata": {
    "ExecuteTime": {
     "end_time": "2022-12-10T21:27:53.302228Z",
     "start_time": "2022-12-10T21:27:53.298764Z"
    }
   },
   "outputs": [],
   "source": [
    "def printer(logs: ty.Dict[str, ty.Any]):\n",
    "    # print every 5 steps\n",
    "    if logs['iters'] % 5 != 0:\n",
    "        return\n",
    "    print('Iteration #: ',logs['iters'])\n",
    "    for name, value in logs.items():\n",
    "        if name == 'iters':\n",
    "            continue\n",
    "        \n",
    "        if type(value) in [float, int]:\n",
    "            value = round(value, 4)\n",
    "        elif type(value) is torch.Tensor:\n",
    "            value = value.detach().cpu().numpy()\n",
    "            value = np.round(value, 4)\n",
    "            value = torch.from_numpy(np.asarray(value))\n",
    "            value.to(device)\n",
    "            \n",
    "#             value = torch.round(value, decimals=4)\n",
    "        \n",
    "        print(f'\\t{name} = {value}')\n",
    "    print()"
   ]
  },
  {
   "cell_type": "markdown",
   "metadata": {},
   "source": [
    "### Optimizer"
   ]
  },
  {
   "cell_type": "code",
   "execution_count": 45,
   "metadata": {
    "ExecuteTime": {
     "end_time": "2022-12-10T21:27:53.945111Z",
     "start_time": "2022-12-10T21:27:53.942958Z"
    }
   },
   "outputs": [],
   "source": [
    "optimizer = torch.optim.Adam(lr=config_dict['learning_rate'], params=model.parameters(), weight_decay=config_dict['weight_decay'])"
   ]
  },
  {
   "cell_type": "markdown",
   "metadata": {},
   "source": [
    "## Base Model"
   ]
  },
  {
   "cell_type": "markdown",
   "metadata": {},
   "source": [
    "Corremos nuestro primer modelo que no tiene data augmentation y tampoco Transfer learning. También creamos un arreglo donde iremos guardando nuestros modelos."
   ]
  },
  {
   "cell_type": "markdown",
   "metadata": {},
   "source": [
    "Cargamos los datos para el entrenamiento"
   ]
  },
  {
   "cell_type": "code",
   "execution_count": 46,
   "metadata": {
    "ExecuteTime": {
     "end_time": "2022-12-10T21:27:56.025615Z",
     "start_time": "2022-12-10T21:27:56.021751Z"
    },
    "code_folding": []
   },
   "outputs": [
    {
     "name": "stderr",
     "output_type": "stream",
     "text": [
      "/opt/conda/lib/python3.8/site-packages/torch/utils/data/dataloader.py:478: UserWarning: This DataLoader will create 24 worker processes in total. Our suggested max number of worker in current system is 1, which is smaller than what this DataLoader is going to create. Please be aware that excessive worker creation might get DataLoader running slow or even freeze, lower the worker number to avoid potential slowness/freeze if necessary.\n",
      "  warnings.warn(_create_warning_msg(\n"
     ]
    }
   ],
   "source": [
    "base_transform = torchvision.transforms.Compose(\n",
    "    [ToTensor(img_size=config_dict['img_size'], gray=config_dict['gray_scale'])]\n",
    ")\n",
    "\n",
    "train_ds = MNISTDataset(train_df, gray=config_dict['gray_scale'], root_dir=config_dict['train_images_dir'], transform=base_transform)\n",
    "test_ds = MNISTDataset(test_df, gray=config_dict['gray_scale'], root_dir=config_dict['train_images_dir'], transform=base_transform)\n",
    "\n",
    "train_data = DataLoader(train_ds, batch_size=config_dict['batch_size'], shuffle=True, num_workers=cpu_count())\n",
    "test_data = DataLoader(test_ds, batch_size=config_dict['batch_size'], num_workers=cpu_count())"
   ]
  },
  {
   "cell_type": "code",
   "execution_count": null,
   "metadata": {
    "ExecuteTime": {
     "start_time": "2022-12-10T18:08:42.973Z"
    },
    "scrolled": false
   },
   "outputs": [],
   "source": [
    "train_result = train(\n",
    "    model,\n",
    "    optimizer,\n",
    "    train_data,\n",
    "    eval_datasets=[('val', test_data)],\n",
    "    loss_fn=loss_fn,\n",
    "    metrics={\n",
    "        'bbox': [('iou', iou)],\n",
    "        'class_id': [('accuracy', accuracy)]\n",
    "    },\n",
    "    callbacks=[printer],\n",
    "    device=device,\n",
    "    train_steps=config_dict['num_epochs'],\n",
    "    eval_steps=5,\n",
    ")\n",
    "\n",
    "model = train_result['model']"
   ]
  },
  {
   "cell_type": "markdown",
   "metadata": {},
   "source": [
    "## Predictions Visualization"
   ]
  },
  {
   "cell_type": "code",
   "execution_count": 48,
   "metadata": {
    "ExecuteTime": {
     "end_time": "2022-12-10T01:50:37.958445Z",
     "start_time": "2022-12-10T01:50:37.369689Z"
    }
   },
   "outputs": [],
   "source": [
    "num_imgs = 20\n",
    "ncols = 10\n",
    "nrows = math.ceil(num_imgs / ncols)\n",
    "\n",
    "start_idx = 0\n",
    "\n",
    "inference_ds = MNISTDataset(test_df.iloc[start_idx:start_idx+num_imgs], gray=config_dict['gray_scale'], root_dir='datasets/images/train/')\n",
    "inference_data = DataLoader(inference_ds, batch_size=num_imgs, num_workers=1, shuffle=False)\n",
    "inference_batch = next(iter(inference_data))\n",
    "inference_imgs = np.empty((num_imgs, 1, 28, 28))\n",
    "\n",
    "transform = base_transform\n",
    "\n",
    "for i, img in enumerate(inference_batch['image']):\n",
    "    inference_imgs[i] = transform(dict(image=img.numpy()))['image'].numpy()\n",
    "\n",
    "preds = model(torch.tensor(inference_imgs).float().to(device))\n",
    "\n",
    "samples = [inference_ds[i] for i in range(start_idx, num_imgs)]\n",
    "\n",
    "imgs = [s['image'] for s in samples]\n",
    "bboxes = [normalize_bbox(s['bbox'].squeeze()) for s in samples]\n",
    "classes = [s['class_id'] for s in samples]\n",
    "\n",
    "pred_bboxes = preds['bbox'].detach().cpu().numpy()\n",
    "pred_bboxes = [normalize_bbox(bbox) for bbox in pred_bboxes]\n",
    "pred_classes = preds['class_id'].argmax(-1).detach().cpu().numpy()"
   ]
  },
  {
   "cell_type": "code",
   "execution_count": 49,
   "metadata": {
    "ExecuteTime": {
     "end_time": "2022-12-10T01:50:38.843099Z",
     "start_time": "2022-12-10T01:50:37.959787Z"
    },
    "scrolled": false
   },
   "outputs": [
    {
     "data": {
      "image/png": "[encoded data removed]",
      "text/plain": [
       "<Figure size 4320x1440 with 20 Axes>"
      ]
     },
     "metadata": {
      "needs_background": "light"
     },
     "output_type": "display_data"
    }
   ],
   "source": [
    "imgs = draw_predictions(imgs, classes, bboxes, [(0, 150, 0)], (90, 95))\n",
    "# Red: predicted\n",
    "imgs = draw_predictions(imgs, pred_classes, pred_bboxes, [(200, 0, 0)], (10, 95))\n",
    "\n",
    "fig = plt.figure(figsize=(30*nrows, num_imgs))\n",
    "k, j = 1, 1\n",
    "\n",
    "for img in imgs:\n",
    "    if j > ncols and k < nrows:\n",
    "        k += 1\n",
    "        j = 1\n",
    "    fig.add_subplot(k, num_imgs, j)\n",
    "    plt.imshow(img)\n",
    "    j += 1\n",
    "\n",
    "plt.show()"
   ]
  },
  {
   "cell_type": "markdown",
   "metadata": {},
   "source": [
    "## Transfer Learning"
   ]
  },
  {
   "cell_type": "markdown",
   "metadata": {},
   "source": [
    "Usaremos modelos preentrenados como backbone para realizar la clasificación y regresión. Usaremos el modelo de RestNet y AlexNet para compararlo. "
   ]
  },
  {
   "cell_type": "markdown",
   "metadata": {},
   "source": [
    "Los modelos deben recibir imagenes de entrada normalizadas con RGB de 3 canales de la forma  (3 x H x W) donde H y W deben ser de por lo menos 224. Las imagenes deben estar en un rango de [0,1] y normalizarse usando y."
   ]
  },
  {
   "cell_type": "markdown",
   "metadata": {},
   "source": [
    "### Image normalization transforms"
   ]
  },
  {
   "cell_type": "markdown",
   "metadata": {},
   "source": [
    "Definimos un transformador para normalizar y tener las imagenes en el tamaño que se necesitan para el modelo."
   ]
  },
  {
   "cell_type": "code",
   "execution_count": 67,
   "metadata": {
    "ExecuteTime": {
     "end_time": "2022-12-10T22:05:19.691252Z",
     "start_time": "2022-12-10T22:05:19.689086Z"
    }
   },
   "outputs": [],
   "source": [
    "config_dict['img_size'] = 224"
   ]
  },
  {
   "cell_type": "code",
   "execution_count": 49,
   "metadata": {
    "ExecuteTime": {
     "end_time": "2022-12-10T21:29:52.916969Z",
     "start_time": "2022-12-10T21:29:52.914863Z"
    }
   },
   "outputs": [],
   "source": [
    "common_transforms = [\n",
    "    Normalizer(means=means, stds=stds) ,\n",
    "    ToTensor(img_size=config_dict['img_size'], gray=False),\n",
    "]\n",
    "\n",
    "train_transforms = torchvision.transforms.Compose(\n",
    "        common_transforms\n",
    ")\n",
    "\n",
    "eval_transforms = torchvision.transforms.Compose(common_transforms)"
   ]
  },
  {
   "cell_type": "markdown",
   "metadata": {},
   "source": [
    "### ResNet152"
   ]
  },
  {
   "cell_type": "code",
   "execution_count": 51,
   "metadata": {
    "ExecuteTime": {
     "end_time": "2022-12-10T01:50:39.758442Z",
     "start_time": "2022-12-10T01:50:38.848639Z"
    }
   },
   "outputs": [],
   "source": [
    "resnet_pretrained = resnet152(pretrained=True, progress=True).to(device)"
   ]
  },
  {
   "cell_type": "code",
   "execution_count": 52,
   "metadata": {
    "ExecuteTime": {
     "end_time": "2022-12-10T01:50:39.931062Z",
     "start_time": "2022-12-10T01:50:39.759909Z"
    },
    "scrolled": true
   },
   "outputs": [
    {
     "name": "stdout",
     "output_type": "stream",
     "text": [
      "----------------------------------------------------------------\n",
      "        Layer (type)               Output Shape         Param #\n",
      "================================================================\n",
      "            Conv2d-1         [-1, 64, 112, 112]           9,408\n",
      "       BatchNorm2d-2         [-1, 64, 112, 112]             128\n",
      "              ReLU-3         [-1, 64, 112, 112]               0\n",
      "         MaxPool2d-4           [-1, 64, 56, 56]               0\n",
      "            Conv2d-5           [-1, 64, 56, 56]           4,096\n",
      "       BatchNorm2d-6           [-1, 64, 56, 56]             128\n",
      "              ReLU-7           [-1, 64, 56, 56]               0\n",
      "            Conv2d-8           [-1, 64, 56, 56]          36,864\n",
      "       BatchNorm2d-9           [-1, 64, 56, 56]             128\n",
      "             ReLU-10           [-1, 64, 56, 56]               0\n",
      "           Conv2d-11          [-1, 256, 56, 56]          16,384\n",
      "      BatchNorm2d-12          [-1, 256, 56, 56]             512\n",
      "           Conv2d-13          [-1, 256, 56, 56]          16,384\n",
      "      BatchNorm2d-14          [-1, 256, 56, 56]             512\n",
      "             ReLU-15          [-1, 256, 56, 56]               0\n",
      "       Bottleneck-16          [-1, 256, 56, 56]               0\n",
      "           Conv2d-17           [-1, 64, 56, 56]          16,384\n",
      "      BatchNorm2d-18           [-1, 64, 56, 56]             128\n",
      "             ReLU-19           [-1, 64, 56, 56]               0\n",
      "           Conv2d-20           [-1, 64, 56, 56]          36,864\n",
      "      BatchNorm2d-21           [-1, 64, 56, 56]             128\n",
      "             ReLU-22           [-1, 64, 56, 56]               0\n",
      "           Conv2d-23          [-1, 256, 56, 56]          16,384\n",
      "      BatchNorm2d-24          [-1, 256, 56, 56]             512\n",
      "             ReLU-25          [-1, 256, 56, 56]               0\n",
      "       Bottleneck-26          [-1, 256, 56, 56]               0\n",
      "           Conv2d-27           [-1, 64, 56, 56]          16,384\n",
      "      BatchNorm2d-28           [-1, 64, 56, 56]             128\n",
      "             ReLU-29           [-1, 64, 56, 56]               0\n",
      "           Conv2d-30           [-1, 64, 56, 56]          36,864\n",
      "      BatchNorm2d-31           [-1, 64, 56, 56]             128\n",
      "             ReLU-32           [-1, 64, 56, 56]               0\n",
      "           Conv2d-33          [-1, 256, 56, 56]          16,384\n",
      "      BatchNorm2d-34          [-1, 256, 56, 56]             512\n",
      "             ReLU-35          [-1, 256, 56, 56]               0\n",
      "       Bottleneck-36          [-1, 256, 56, 56]               0\n",
      "           Conv2d-37          [-1, 128, 56, 56]          32,768\n",
      "      BatchNorm2d-38          [-1, 128, 56, 56]             256\n",
      "             ReLU-39          [-1, 128, 56, 56]               0\n",
      "           Conv2d-40          [-1, 128, 28, 28]         147,456\n",
      "      BatchNorm2d-41          [-1, 128, 28, 28]             256\n",
      "             ReLU-42          [-1, 128, 28, 28]               0\n",
      "           Conv2d-43          [-1, 512, 28, 28]          65,536\n",
      "      BatchNorm2d-44          [-1, 512, 28, 28]           1,024\n",
      "           Conv2d-45          [-1, 512, 28, 28]         131,072\n",
      "      BatchNorm2d-46          [-1, 512, 28, 28]           1,024\n",
      "             ReLU-47          [-1, 512, 28, 28]               0\n",
      "       Bottleneck-48          [-1, 512, 28, 28]               0\n",
      "           Conv2d-49          [-1, 128, 28, 28]          65,536\n",
      "      BatchNorm2d-50          [-1, 128, 28, 28]             256\n",
      "             ReLU-51          [-1, 128, 28, 28]               0\n",
      "           Conv2d-52          [-1, 128, 28, 28]         147,456\n",
      "      BatchNorm2d-53          [-1, 128, 28, 28]             256\n",
      "             ReLU-54          [-1, 128, 28, 28]               0\n",
      "           Conv2d-55          [-1, 512, 28, 28]          65,536\n",
      "      BatchNorm2d-56          [-1, 512, 28, 28]           1,024\n",
      "             ReLU-57          [-1, 512, 28, 28]               0\n",
      "       Bottleneck-58          [-1, 512, 28, 28]               0\n",
      "           Conv2d-59          [-1, 128, 28, 28]          65,536\n",
      "      BatchNorm2d-60          [-1, 128, 28, 28]             256\n",
      "             ReLU-61          [-1, 128, 28, 28]               0\n",
      "           Conv2d-62          [-1, 128, 28, 28]         147,456\n",
      "      BatchNorm2d-63          [-1, 128, 28, 28]             256\n",
      "             ReLU-64          [-1, 128, 28, 28]               0\n",
      "           Conv2d-65          [-1, 512, 28, 28]          65,536\n",
      "      BatchNorm2d-66          [-1, 512, 28, 28]           1,024\n",
      "             ReLU-67          [-1, 512, 28, 28]               0\n",
      "       Bottleneck-68          [-1, 512, 28, 28]               0\n",
      "           Conv2d-69          [-1, 128, 28, 28]          65,536\n",
      "      BatchNorm2d-70          [-1, 128, 28, 28]             256\n",
      "             ReLU-71          [-1, 128, 28, 28]               0\n",
      "           Conv2d-72          [-1, 128, 28, 28]         147,456\n",
      "      BatchNorm2d-73          [-1, 128, 28, 28]             256\n",
      "             ReLU-74          [-1, 128, 28, 28]               0\n",
      "           Conv2d-75          [-1, 512, 28, 28]          65,536\n",
      "      BatchNorm2d-76          [-1, 512, 28, 28]           1,024\n",
      "             ReLU-77          [-1, 512, 28, 28]               0\n",
      "       Bottleneck-78          [-1, 512, 28, 28]               0\n",
      "           Conv2d-79          [-1, 128, 28, 28]          65,536\n",
      "      BatchNorm2d-80          [-1, 128, 28, 28]             256\n",
      "             ReLU-81          [-1, 128, 28, 28]               0\n",
      "           Conv2d-82          [-1, 128, 28, 28]         147,456\n",
      "      BatchNorm2d-83          [-1, 128, 28, 28]             256\n",
      "             ReLU-84          [-1, 128, 28, 28]               0\n",
      "           Conv2d-85          [-1, 512, 28, 28]          65,536\n",
      "      BatchNorm2d-86          [-1, 512, 28, 28]           1,024\n",
      "             ReLU-87          [-1, 512, 28, 28]               0\n",
      "       Bottleneck-88          [-1, 512, 28, 28]               0\n",
      "           Conv2d-89          [-1, 128, 28, 28]          65,536\n",
      "      BatchNorm2d-90          [-1, 128, 28, 28]             256\n",
      "             ReLU-91          [-1, 128, 28, 28]               0\n",
      "           Conv2d-92          [-1, 128, 28, 28]         147,456\n",
      "      BatchNorm2d-93          [-1, 128, 28, 28]             256\n",
      "             ReLU-94          [-1, 128, 28, 28]               0\n",
      "           Conv2d-95          [-1, 512, 28, 28]          65,536\n",
      "      BatchNorm2d-96          [-1, 512, 28, 28]           1,024\n",
      "             ReLU-97          [-1, 512, 28, 28]               0\n",
      "       Bottleneck-98          [-1, 512, 28, 28]               0\n",
      "           Conv2d-99          [-1, 128, 28, 28]          65,536\n",
      "     BatchNorm2d-100          [-1, 128, 28, 28]             256\n",
      "            ReLU-101          [-1, 128, 28, 28]               0\n",
      "          Conv2d-102          [-1, 128, 28, 28]         147,456\n",
      "     BatchNorm2d-103          [-1, 128, 28, 28]             256\n",
      "            ReLU-104          [-1, 128, 28, 28]               0\n",
      "          Conv2d-105          [-1, 512, 28, 28]          65,536\n",
      "     BatchNorm2d-106          [-1, 512, 28, 28]           1,024\n",
      "            ReLU-107          [-1, 512, 28, 28]               0\n",
      "      Bottleneck-108          [-1, 512, 28, 28]               0\n",
      "          Conv2d-109          [-1, 128, 28, 28]          65,536\n",
      "     BatchNorm2d-110          [-1, 128, 28, 28]             256\n",
      "            ReLU-111          [-1, 128, 28, 28]               0\n",
      "          Conv2d-112          [-1, 128, 28, 28]         147,456\n",
      "     BatchNorm2d-113          [-1, 128, 28, 28]             256\n",
      "            ReLU-114          [-1, 128, 28, 28]               0\n",
      "          Conv2d-115          [-1, 512, 28, 28]          65,536\n",
      "     BatchNorm2d-116          [-1, 512, 28, 28]           1,024\n",
      "            ReLU-117          [-1, 512, 28, 28]               0\n",
      "      Bottleneck-118          [-1, 512, 28, 28]               0\n",
      "          Conv2d-119          [-1, 256, 28, 28]         131,072\n",
      "     BatchNorm2d-120          [-1, 256, 28, 28]             512\n",
      "            ReLU-121          [-1, 256, 28, 28]               0\n",
      "          Conv2d-122          [-1, 256, 14, 14]         589,824\n",
      "     BatchNorm2d-123          [-1, 256, 14, 14]             512\n",
      "            ReLU-124          [-1, 256, 14, 14]               0\n",
      "          Conv2d-125         [-1, 1024, 14, 14]         262,144\n",
      "     BatchNorm2d-126         [-1, 1024, 14, 14]           2,048\n",
      "          Conv2d-127         [-1, 1024, 14, 14]         524,288\n",
      "     BatchNorm2d-128         [-1, 1024, 14, 14]           2,048\n",
      "            ReLU-129         [-1, 1024, 14, 14]               0\n",
      "      Bottleneck-130         [-1, 1024, 14, 14]               0\n",
      "          Conv2d-131          [-1, 256, 14, 14]         262,144\n",
      "     BatchNorm2d-132          [-1, 256, 14, 14]             512\n",
      "            ReLU-133          [-1, 256, 14, 14]               0\n",
      "          Conv2d-134          [-1, 256, 14, 14]         589,824\n",
      "     BatchNorm2d-135          [-1, 256, 14, 14]             512\n",
      "            ReLU-136          [-1, 256, 14, 14]               0\n",
      "          Conv2d-137         [-1, 1024, 14, 14]         262,144\n",
      "     BatchNorm2d-138         [-1, 1024, 14, 14]           2,048\n",
      "            ReLU-139         [-1, 1024, 14, 14]               0\n",
      "      Bottleneck-140         [-1, 1024, 14, 14]               0\n",
      "          Conv2d-141          [-1, 256, 14, 14]         262,144\n",
      "     BatchNorm2d-142          [-1, 256, 14, 14]             512\n",
      "            ReLU-143          [-1, 256, 14, 14]               0\n",
      "          Conv2d-144          [-1, 256, 14, 14]         589,824\n",
      "     BatchNorm2d-145          [-1, 256, 14, 14]             512\n",
      "            ReLU-146          [-1, 256, 14, 14]               0\n",
      "          Conv2d-147         [-1, 1024, 14, 14]         262,144\n",
      "     BatchNorm2d-148         [-1, 1024, 14, 14]           2,048\n",
      "            ReLU-149         [-1, 1024, 14, 14]               0\n",
      "      Bottleneck-150         [-1, 1024, 14, 14]               0\n",
      "          Conv2d-151          [-1, 256, 14, 14]         262,144\n",
      "     BatchNorm2d-152          [-1, 256, 14, 14]             512\n",
      "            ReLU-153          [-1, 256, 14, 14]               0\n",
      "          Conv2d-154          [-1, 256, 14, 14]         589,824\n",
      "     BatchNorm2d-155          [-1, 256, 14, 14]             512\n",
      "            ReLU-156          [-1, 256, 14, 14]               0\n",
      "          Conv2d-157         [-1, 1024, 14, 14]         262,144\n",
      "     BatchNorm2d-158         [-1, 1024, 14, 14]           2,048\n",
      "            ReLU-159         [-1, 1024, 14, 14]               0\n",
      "      Bottleneck-160         [-1, 1024, 14, 14]               0\n",
      "          Conv2d-161          [-1, 256, 14, 14]         262,144\n",
      "     BatchNorm2d-162          [-1, 256, 14, 14]             512\n",
      "            ReLU-163          [-1, 256, 14, 14]               0\n",
      "          Conv2d-164          [-1, 256, 14, 14]         589,824\n",
      "     BatchNorm2d-165          [-1, 256, 14, 14]             512\n",
      "            ReLU-166          [-1, 256, 14, 14]               0\n",
      "          Conv2d-167         [-1, 1024, 14, 14]         262,144\n",
      "     BatchNorm2d-168         [-1, 1024, 14, 14]           2,048\n",
      "            ReLU-169         [-1, 1024, 14, 14]               0\n",
      "      Bottleneck-170         [-1, 1024, 14, 14]               0\n",
      "          Conv2d-171          [-1, 256, 14, 14]         262,144\n",
      "     BatchNorm2d-172          [-1, 256, 14, 14]             512\n",
      "            ReLU-173          [-1, 256, 14, 14]               0\n",
      "          Conv2d-174          [-1, 256, 14, 14]         589,824\n",
      "     BatchNorm2d-175          [-1, 256, 14, 14]             512\n",
      "            ReLU-176          [-1, 256, 14, 14]               0\n",
      "          Conv2d-177         [-1, 1024, 14, 14]         262,144\n",
      "     BatchNorm2d-178         [-1, 1024, 14, 14]           2,048\n",
      "            ReLU-179         [-1, 1024, 14, 14]               0\n",
      "      Bottleneck-180         [-1, 1024, 14, 14]               0\n",
      "          Conv2d-181          [-1, 256, 14, 14]         262,144\n",
      "     BatchNorm2d-182          [-1, 256, 14, 14]             512\n",
      "            ReLU-183          [-1, 256, 14, 14]               0\n",
      "          Conv2d-184          [-1, 256, 14, 14]         589,824\n",
      "     BatchNorm2d-185          [-1, 256, 14, 14]             512\n",
      "            ReLU-186          [-1, 256, 14, 14]               0\n",
      "          Conv2d-187         [-1, 1024, 14, 14]         262,144\n",
      "     BatchNorm2d-188         [-1, 1024, 14, 14]           2,048\n",
      "            ReLU-189         [-1, 1024, 14, 14]               0\n",
      "      Bottleneck-190         [-1, 1024, 14, 14]               0\n",
      "          Conv2d-191          [-1, 256, 14, 14]         262,144\n",
      "     BatchNorm2d-192          [-1, 256, 14, 14]             512\n",
      "            ReLU-193          [-1, 256, 14, 14]               0\n",
      "          Conv2d-194          [-1, 256, 14, 14]         589,824\n",
      "     BatchNorm2d-195          [-1, 256, 14, 14]             512\n",
      "            ReLU-196          [-1, 256, 14, 14]               0\n",
      "          Conv2d-197         [-1, 1024, 14, 14]         262,144\n",
      "     BatchNorm2d-198         [-1, 1024, 14, 14]           2,048\n",
      "            ReLU-199         [-1, 1024, 14, 14]               0\n",
      "      Bottleneck-200         [-1, 1024, 14, 14]               0\n",
      "          Conv2d-201          [-1, 256, 14, 14]         262,144\n",
      "     BatchNorm2d-202          [-1, 256, 14, 14]             512\n",
      "            ReLU-203          [-1, 256, 14, 14]               0\n",
      "          Conv2d-204          [-1, 256, 14, 14]         589,824\n",
      "     BatchNorm2d-205          [-1, 256, 14, 14]             512\n",
      "            ReLU-206          [-1, 256, 14, 14]               0\n",
      "          Conv2d-207         [-1, 1024, 14, 14]         262,144\n",
      "     BatchNorm2d-208         [-1, 1024, 14, 14]           2,048\n",
      "            ReLU-209         [-1, 1024, 14, 14]               0\n",
      "      Bottleneck-210         [-1, 1024, 14, 14]               0\n",
      "          Conv2d-211          [-1, 256, 14, 14]         262,144\n",
      "     BatchNorm2d-212          [-1, 256, 14, 14]             512\n",
      "            ReLU-213          [-1, 256, 14, 14]               0\n",
      "          Conv2d-214          [-1, 256, 14, 14]         589,824\n",
      "     BatchNorm2d-215          [-1, 256, 14, 14]             512\n",
      "            ReLU-216          [-1, 256, 14, 14]               0\n",
      "          Conv2d-217         [-1, 1024, 14, 14]         262,144\n",
      "     BatchNorm2d-218         [-1, 1024, 14, 14]           2,048\n",
      "            ReLU-219         [-1, 1024, 14, 14]               0\n",
      "      Bottleneck-220         [-1, 1024, 14, 14]               0\n",
      "          Conv2d-221          [-1, 256, 14, 14]         262,144\n",
      "     BatchNorm2d-222          [-1, 256, 14, 14]             512\n",
      "            ReLU-223          [-1, 256, 14, 14]               0\n",
      "          Conv2d-224          [-1, 256, 14, 14]         589,824\n",
      "     BatchNorm2d-225          [-1, 256, 14, 14]             512\n",
      "            ReLU-226          [-1, 256, 14, 14]               0\n",
      "          Conv2d-227         [-1, 1024, 14, 14]         262,144\n",
      "     BatchNorm2d-228         [-1, 1024, 14, 14]           2,048\n",
      "            ReLU-229         [-1, 1024, 14, 14]               0\n",
      "      Bottleneck-230         [-1, 1024, 14, 14]               0\n",
      "          Conv2d-231          [-1, 256, 14, 14]         262,144\n",
      "     BatchNorm2d-232          [-1, 256, 14, 14]             512\n",
      "            ReLU-233          [-1, 256, 14, 14]               0\n",
      "          Conv2d-234          [-1, 256, 14, 14]         589,824\n",
      "     BatchNorm2d-235          [-1, 256, 14, 14]             512\n",
      "            ReLU-236          [-1, 256, 14, 14]               0\n",
      "          Conv2d-237         [-1, 1024, 14, 14]         262,144\n",
      "     BatchNorm2d-238         [-1, 1024, 14, 14]           2,048\n",
      "            ReLU-239         [-1, 1024, 14, 14]               0\n",
      "      Bottleneck-240         [-1, 1024, 14, 14]               0\n",
      "          Conv2d-241          [-1, 256, 14, 14]         262,144\n",
      "     BatchNorm2d-242          [-1, 256, 14, 14]             512\n",
      "            ReLU-243          [-1, 256, 14, 14]               0\n",
      "          Conv2d-244          [-1, 256, 14, 14]         589,824\n",
      "     BatchNorm2d-245          [-1, 256, 14, 14]             512\n",
      "            ReLU-246          [-1, 256, 14, 14]               0\n",
      "          Conv2d-247         [-1, 1024, 14, 14]         262,144\n",
      "     BatchNorm2d-248         [-1, 1024, 14, 14]           2,048\n",
      "            ReLU-249         [-1, 1024, 14, 14]               0\n",
      "      Bottleneck-250         [-1, 1024, 14, 14]               0\n",
      "          Conv2d-251          [-1, 256, 14, 14]         262,144\n",
      "     BatchNorm2d-252          [-1, 256, 14, 14]             512\n",
      "            ReLU-253          [-1, 256, 14, 14]               0\n",
      "          Conv2d-254          [-1, 256, 14, 14]         589,824\n",
      "     BatchNorm2d-255          [-1, 256, 14, 14]             512\n",
      "            ReLU-256          [-1, 256, 14, 14]               0\n",
      "          Conv2d-257         [-1, 1024, 14, 14]         262,144\n",
      "     BatchNorm2d-258         [-1, 1024, 14, 14]           2,048\n",
      "            ReLU-259         [-1, 1024, 14, 14]               0\n",
      "      Bottleneck-260         [-1, 1024, 14, 14]               0\n",
      "          Conv2d-261          [-1, 256, 14, 14]         262,144\n",
      "     BatchNorm2d-262          [-1, 256, 14, 14]             512\n",
      "            ReLU-263          [-1, 256, 14, 14]               0\n",
      "          Conv2d-264          [-1, 256, 14, 14]         589,824\n",
      "     BatchNorm2d-265          [-1, 256, 14, 14]             512\n",
      "            ReLU-266          [-1, 256, 14, 14]               0\n",
      "          Conv2d-267         [-1, 1024, 14, 14]         262,144\n",
      "     BatchNorm2d-268         [-1, 1024, 14, 14]           2,048\n",
      "            ReLU-269         [-1, 1024, 14, 14]               0\n",
      "      Bottleneck-270         [-1, 1024, 14, 14]               0\n",
      "          Conv2d-271          [-1, 256, 14, 14]         262,144\n",
      "     BatchNorm2d-272          [-1, 256, 14, 14]             512\n",
      "            ReLU-273          [-1, 256, 14, 14]               0\n",
      "          Conv2d-274          [-1, 256, 14, 14]         589,824\n",
      "     BatchNorm2d-275          [-1, 256, 14, 14]             512\n",
      "            ReLU-276          [-1, 256, 14, 14]               0\n",
      "          Conv2d-277         [-1, 1024, 14, 14]         262,144\n",
      "     BatchNorm2d-278         [-1, 1024, 14, 14]           2,048\n",
      "            ReLU-279         [-1, 1024, 14, 14]               0\n",
      "      Bottleneck-280         [-1, 1024, 14, 14]               0\n",
      "          Conv2d-281          [-1, 256, 14, 14]         262,144\n",
      "     BatchNorm2d-282          [-1, 256, 14, 14]             512\n",
      "            ReLU-283          [-1, 256, 14, 14]               0\n",
      "          Conv2d-284          [-1, 256, 14, 14]         589,824\n",
      "     BatchNorm2d-285          [-1, 256, 14, 14]             512\n",
      "            ReLU-286          [-1, 256, 14, 14]               0\n",
      "          Conv2d-287         [-1, 1024, 14, 14]         262,144\n",
      "     BatchNorm2d-288         [-1, 1024, 14, 14]           2,048\n",
      "            ReLU-289         [-1, 1024, 14, 14]               0\n",
      "      Bottleneck-290         [-1, 1024, 14, 14]               0\n",
      "          Conv2d-291          [-1, 256, 14, 14]         262,144\n",
      "     BatchNorm2d-292          [-1, 256, 14, 14]             512\n",
      "            ReLU-293          [-1, 256, 14, 14]               0\n",
      "          Conv2d-294          [-1, 256, 14, 14]         589,824\n",
      "     BatchNorm2d-295          [-1, 256, 14, 14]             512\n",
      "            ReLU-296          [-1, 256, 14, 14]               0\n",
      "          Conv2d-297         [-1, 1024, 14, 14]         262,144\n",
      "     BatchNorm2d-298         [-1, 1024, 14, 14]           2,048\n",
      "            ReLU-299         [-1, 1024, 14, 14]               0\n",
      "      Bottleneck-300         [-1, 1024, 14, 14]               0\n",
      "          Conv2d-301          [-1, 256, 14, 14]         262,144\n",
      "     BatchNorm2d-302          [-1, 256, 14, 14]             512\n",
      "            ReLU-303          [-1, 256, 14, 14]               0\n",
      "          Conv2d-304          [-1, 256, 14, 14]         589,824\n",
      "     BatchNorm2d-305          [-1, 256, 14, 14]             512\n",
      "            ReLU-306          [-1, 256, 14, 14]               0\n",
      "          Conv2d-307         [-1, 1024, 14, 14]         262,144\n",
      "     BatchNorm2d-308         [-1, 1024, 14, 14]           2,048\n",
      "            ReLU-309         [-1, 1024, 14, 14]               0\n",
      "      Bottleneck-310         [-1, 1024, 14, 14]               0\n",
      "          Conv2d-311          [-1, 256, 14, 14]         262,144\n",
      "     BatchNorm2d-312          [-1, 256, 14, 14]             512\n",
      "            ReLU-313          [-1, 256, 14, 14]               0\n",
      "          Conv2d-314          [-1, 256, 14, 14]         589,824\n",
      "     BatchNorm2d-315          [-1, 256, 14, 14]             512\n",
      "            ReLU-316          [-1, 256, 14, 14]               0\n",
      "          Conv2d-317         [-1, 1024, 14, 14]         262,144\n",
      "     BatchNorm2d-318         [-1, 1024, 14, 14]           2,048\n",
      "            ReLU-319         [-1, 1024, 14, 14]               0\n",
      "      Bottleneck-320         [-1, 1024, 14, 14]               0\n",
      "          Conv2d-321          [-1, 256, 14, 14]         262,144\n",
      "     BatchNorm2d-322          [-1, 256, 14, 14]             512\n",
      "            ReLU-323          [-1, 256, 14, 14]               0\n",
      "          Conv2d-324          [-1, 256, 14, 14]         589,824\n",
      "     BatchNorm2d-325          [-1, 256, 14, 14]             512\n",
      "            ReLU-326          [-1, 256, 14, 14]               0\n",
      "          Conv2d-327         [-1, 1024, 14, 14]         262,144\n",
      "     BatchNorm2d-328         [-1, 1024, 14, 14]           2,048\n",
      "            ReLU-329         [-1, 1024, 14, 14]               0\n",
      "      Bottleneck-330         [-1, 1024, 14, 14]               0\n",
      "          Conv2d-331          [-1, 256, 14, 14]         262,144\n",
      "     BatchNorm2d-332          [-1, 256, 14, 14]             512\n",
      "            ReLU-333          [-1, 256, 14, 14]               0\n",
      "          Conv2d-334          [-1, 256, 14, 14]         589,824\n",
      "     BatchNorm2d-335          [-1, 256, 14, 14]             512\n",
      "            ReLU-336          [-1, 256, 14, 14]               0\n",
      "          Conv2d-337         [-1, 1024, 14, 14]         262,144\n",
      "     BatchNorm2d-338         [-1, 1024, 14, 14]           2,048\n",
      "            ReLU-339         [-1, 1024, 14, 14]               0\n",
      "      Bottleneck-340         [-1, 1024, 14, 14]               0\n",
      "          Conv2d-341          [-1, 256, 14, 14]         262,144\n",
      "     BatchNorm2d-342          [-1, 256, 14, 14]             512\n",
      "            ReLU-343          [-1, 256, 14, 14]               0\n",
      "          Conv2d-344          [-1, 256, 14, 14]         589,824\n",
      "     BatchNorm2d-345          [-1, 256, 14, 14]             512\n",
      "            ReLU-346          [-1, 256, 14, 14]               0\n",
      "          Conv2d-347         [-1, 1024, 14, 14]         262,144\n",
      "     BatchNorm2d-348         [-1, 1024, 14, 14]           2,048\n",
      "            ReLU-349         [-1, 1024, 14, 14]               0\n",
      "      Bottleneck-350         [-1, 1024, 14, 14]               0\n",
      "          Conv2d-351          [-1, 256, 14, 14]         262,144\n",
      "     BatchNorm2d-352          [-1, 256, 14, 14]             512\n",
      "            ReLU-353          [-1, 256, 14, 14]               0\n",
      "          Conv2d-354          [-1, 256, 14, 14]         589,824\n",
      "     BatchNorm2d-355          [-1, 256, 14, 14]             512\n",
      "            ReLU-356          [-1, 256, 14, 14]               0\n",
      "          Conv2d-357         [-1, 1024, 14, 14]         262,144\n",
      "     BatchNorm2d-358         [-1, 1024, 14, 14]           2,048\n",
      "            ReLU-359         [-1, 1024, 14, 14]               0\n",
      "      Bottleneck-360         [-1, 1024, 14, 14]               0\n",
      "          Conv2d-361          [-1, 256, 14, 14]         262,144\n",
      "     BatchNorm2d-362          [-1, 256, 14, 14]             512\n",
      "            ReLU-363          [-1, 256, 14, 14]               0\n",
      "          Conv2d-364          [-1, 256, 14, 14]         589,824\n",
      "     BatchNorm2d-365          [-1, 256, 14, 14]             512\n",
      "            ReLU-366          [-1, 256, 14, 14]               0\n",
      "          Conv2d-367         [-1, 1024, 14, 14]         262,144\n",
      "     BatchNorm2d-368         [-1, 1024, 14, 14]           2,048\n",
      "            ReLU-369         [-1, 1024, 14, 14]               0\n",
      "      Bottleneck-370         [-1, 1024, 14, 14]               0\n",
      "          Conv2d-371          [-1, 256, 14, 14]         262,144\n",
      "     BatchNorm2d-372          [-1, 256, 14, 14]             512\n",
      "            ReLU-373          [-1, 256, 14, 14]               0\n",
      "          Conv2d-374          [-1, 256, 14, 14]         589,824\n",
      "     BatchNorm2d-375          [-1, 256, 14, 14]             512\n",
      "            ReLU-376          [-1, 256, 14, 14]               0\n",
      "          Conv2d-377         [-1, 1024, 14, 14]         262,144\n",
      "     BatchNorm2d-378         [-1, 1024, 14, 14]           2,048\n",
      "            ReLU-379         [-1, 1024, 14, 14]               0\n",
      "      Bottleneck-380         [-1, 1024, 14, 14]               0\n",
      "          Conv2d-381          [-1, 256, 14, 14]         262,144\n",
      "     BatchNorm2d-382          [-1, 256, 14, 14]             512\n",
      "            ReLU-383          [-1, 256, 14, 14]               0\n",
      "          Conv2d-384          [-1, 256, 14, 14]         589,824\n",
      "     BatchNorm2d-385          [-1, 256, 14, 14]             512\n",
      "            ReLU-386          [-1, 256, 14, 14]               0\n",
      "          Conv2d-387         [-1, 1024, 14, 14]         262,144\n",
      "     BatchNorm2d-388         [-1, 1024, 14, 14]           2,048\n",
      "            ReLU-389         [-1, 1024, 14, 14]               0\n",
      "      Bottleneck-390         [-1, 1024, 14, 14]               0\n",
      "          Conv2d-391          [-1, 256, 14, 14]         262,144\n",
      "     BatchNorm2d-392          [-1, 256, 14, 14]             512\n",
      "            ReLU-393          [-1, 256, 14, 14]               0\n",
      "          Conv2d-394          [-1, 256, 14, 14]         589,824\n",
      "     BatchNorm2d-395          [-1, 256, 14, 14]             512\n",
      "            ReLU-396          [-1, 256, 14, 14]               0\n",
      "          Conv2d-397         [-1, 1024, 14, 14]         262,144\n",
      "     BatchNorm2d-398         [-1, 1024, 14, 14]           2,048\n",
      "            ReLU-399         [-1, 1024, 14, 14]               0\n",
      "      Bottleneck-400         [-1, 1024, 14, 14]               0\n",
      "          Conv2d-401          [-1, 256, 14, 14]         262,144\n",
      "     BatchNorm2d-402          [-1, 256, 14, 14]             512\n",
      "            ReLU-403          [-1, 256, 14, 14]               0\n",
      "          Conv2d-404          [-1, 256, 14, 14]         589,824\n",
      "     BatchNorm2d-405          [-1, 256, 14, 14]             512\n",
      "            ReLU-406          [-1, 256, 14, 14]               0\n",
      "          Conv2d-407         [-1, 1024, 14, 14]         262,144\n",
      "     BatchNorm2d-408         [-1, 1024, 14, 14]           2,048\n",
      "            ReLU-409         [-1, 1024, 14, 14]               0\n",
      "      Bottleneck-410         [-1, 1024, 14, 14]               0\n",
      "          Conv2d-411          [-1, 256, 14, 14]         262,144\n",
      "     BatchNorm2d-412          [-1, 256, 14, 14]             512\n",
      "            ReLU-413          [-1, 256, 14, 14]               0\n",
      "          Conv2d-414          [-1, 256, 14, 14]         589,824\n",
      "     BatchNorm2d-415          [-1, 256, 14, 14]             512\n",
      "            ReLU-416          [-1, 256, 14, 14]               0\n",
      "          Conv2d-417         [-1, 1024, 14, 14]         262,144\n",
      "     BatchNorm2d-418         [-1, 1024, 14, 14]           2,048\n",
      "            ReLU-419         [-1, 1024, 14, 14]               0\n",
      "      Bottleneck-420         [-1, 1024, 14, 14]               0\n",
      "          Conv2d-421          [-1, 256, 14, 14]         262,144\n",
      "     BatchNorm2d-422          [-1, 256, 14, 14]             512\n",
      "            ReLU-423          [-1, 256, 14, 14]               0\n",
      "          Conv2d-424          [-1, 256, 14, 14]         589,824\n",
      "     BatchNorm2d-425          [-1, 256, 14, 14]             512\n",
      "            ReLU-426          [-1, 256, 14, 14]               0\n",
      "          Conv2d-427         [-1, 1024, 14, 14]         262,144\n",
      "     BatchNorm2d-428         [-1, 1024, 14, 14]           2,048\n",
      "            ReLU-429         [-1, 1024, 14, 14]               0\n",
      "      Bottleneck-430         [-1, 1024, 14, 14]               0\n",
      "          Conv2d-431          [-1, 256, 14, 14]         262,144\n",
      "     BatchNorm2d-432          [-1, 256, 14, 14]             512\n",
      "            ReLU-433          [-1, 256, 14, 14]               0\n",
      "          Conv2d-434          [-1, 256, 14, 14]         589,824\n",
      "     BatchNorm2d-435          [-1, 256, 14, 14]             512\n",
      "            ReLU-436          [-1, 256, 14, 14]               0\n",
      "          Conv2d-437         [-1, 1024, 14, 14]         262,144\n",
      "     BatchNorm2d-438         [-1, 1024, 14, 14]           2,048\n",
      "            ReLU-439         [-1, 1024, 14, 14]               0\n",
      "      Bottleneck-440         [-1, 1024, 14, 14]               0\n",
      "          Conv2d-441          [-1, 256, 14, 14]         262,144\n",
      "     BatchNorm2d-442          [-1, 256, 14, 14]             512\n",
      "            ReLU-443          [-1, 256, 14, 14]               0\n",
      "          Conv2d-444          [-1, 256, 14, 14]         589,824\n",
      "     BatchNorm2d-445          [-1, 256, 14, 14]             512\n",
      "            ReLU-446          [-1, 256, 14, 14]               0\n",
      "          Conv2d-447         [-1, 1024, 14, 14]         262,144\n",
      "     BatchNorm2d-448         [-1, 1024, 14, 14]           2,048\n",
      "            ReLU-449         [-1, 1024, 14, 14]               0\n",
      "      Bottleneck-450         [-1, 1024, 14, 14]               0\n",
      "          Conv2d-451          [-1, 256, 14, 14]         262,144\n",
      "     BatchNorm2d-452          [-1, 256, 14, 14]             512\n",
      "            ReLU-453          [-1, 256, 14, 14]               0\n",
      "          Conv2d-454          [-1, 256, 14, 14]         589,824\n",
      "     BatchNorm2d-455          [-1, 256, 14, 14]             512\n",
      "            ReLU-456          [-1, 256, 14, 14]               0\n",
      "          Conv2d-457         [-1, 1024, 14, 14]         262,144\n",
      "     BatchNorm2d-458         [-1, 1024, 14, 14]           2,048\n",
      "            ReLU-459         [-1, 1024, 14, 14]               0\n",
      "      Bottleneck-460         [-1, 1024, 14, 14]               0\n",
      "          Conv2d-461          [-1, 256, 14, 14]         262,144\n",
      "     BatchNorm2d-462          [-1, 256, 14, 14]             512\n",
      "            ReLU-463          [-1, 256, 14, 14]               0\n",
      "          Conv2d-464          [-1, 256, 14, 14]         589,824\n",
      "     BatchNorm2d-465          [-1, 256, 14, 14]             512\n",
      "            ReLU-466          [-1, 256, 14, 14]               0\n",
      "          Conv2d-467         [-1, 1024, 14, 14]         262,144\n",
      "     BatchNorm2d-468         [-1, 1024, 14, 14]           2,048\n",
      "            ReLU-469         [-1, 1024, 14, 14]               0\n",
      "      Bottleneck-470         [-1, 1024, 14, 14]               0\n",
      "          Conv2d-471          [-1, 256, 14, 14]         262,144\n",
      "     BatchNorm2d-472          [-1, 256, 14, 14]             512\n",
      "            ReLU-473          [-1, 256, 14, 14]               0\n",
      "          Conv2d-474          [-1, 256, 14, 14]         589,824\n",
      "     BatchNorm2d-475          [-1, 256, 14, 14]             512\n",
      "            ReLU-476          [-1, 256, 14, 14]               0\n",
      "          Conv2d-477         [-1, 1024, 14, 14]         262,144\n",
      "     BatchNorm2d-478         [-1, 1024, 14, 14]           2,048\n",
      "            ReLU-479         [-1, 1024, 14, 14]               0\n",
      "      Bottleneck-480         [-1, 1024, 14, 14]               0\n",
      "          Conv2d-481          [-1, 512, 14, 14]         524,288\n",
      "     BatchNorm2d-482          [-1, 512, 14, 14]           1,024\n",
      "            ReLU-483          [-1, 512, 14, 14]               0\n",
      "          Conv2d-484            [-1, 512, 7, 7]       2,359,296\n",
      "     BatchNorm2d-485            [-1, 512, 7, 7]           1,024\n",
      "            ReLU-486            [-1, 512, 7, 7]               0\n",
      "          Conv2d-487           [-1, 2048, 7, 7]       1,048,576\n",
      "     BatchNorm2d-488           [-1, 2048, 7, 7]           4,096\n",
      "          Conv2d-489           [-1, 2048, 7, 7]       2,097,152\n",
      "     BatchNorm2d-490           [-1, 2048, 7, 7]           4,096\n",
      "            ReLU-491           [-1, 2048, 7, 7]               0\n",
      "      Bottleneck-492           [-1, 2048, 7, 7]               0\n",
      "          Conv2d-493            [-1, 512, 7, 7]       1,048,576\n",
      "     BatchNorm2d-494            [-1, 512, 7, 7]           1,024\n",
      "            ReLU-495            [-1, 512, 7, 7]               0\n",
      "          Conv2d-496            [-1, 512, 7, 7]       2,359,296\n",
      "     BatchNorm2d-497            [-1, 512, 7, 7]           1,024\n",
      "            ReLU-498            [-1, 512, 7, 7]               0\n",
      "          Conv2d-499           [-1, 2048, 7, 7]       1,048,576\n",
      "     BatchNorm2d-500           [-1, 2048, 7, 7]           4,096\n",
      "            ReLU-501           [-1, 2048, 7, 7]               0\n",
      "      Bottleneck-502           [-1, 2048, 7, 7]               0\n",
      "          Conv2d-503            [-1, 512, 7, 7]       1,048,576\n",
      "     BatchNorm2d-504            [-1, 512, 7, 7]           1,024\n",
      "            ReLU-505            [-1, 512, 7, 7]               0\n",
      "          Conv2d-506            [-1, 512, 7, 7]       2,359,296\n",
      "     BatchNorm2d-507            [-1, 512, 7, 7]           1,024\n",
      "            ReLU-508            [-1, 512, 7, 7]               0\n",
      "          Conv2d-509           [-1, 2048, 7, 7]       1,048,576\n",
      "     BatchNorm2d-510           [-1, 2048, 7, 7]           4,096\n",
      "            ReLU-511           [-1, 2048, 7, 7]               0\n",
      "      Bottleneck-512           [-1, 2048, 7, 7]               0\n",
      "AdaptiveAvgPool2d-513           [-1, 2048, 1, 1]               0\n",
      "          Linear-514                 [-1, 1000]       2,049,000\n",
      "================================================================\n",
      "Total params: 60,192,808\n",
      "Trainable params: 60,192,808\n",
      "Non-trainable params: 0\n",
      "----------------------------------------------------------------\n",
      "Input size (MB): 0.57\n",
      "Forward/backward pass size (MB): 606.59\n",
      "Params size (MB): 229.62\n",
      "Estimated Total Size (MB): 836.78\n",
      "----------------------------------------------------------------\n"
     ]
    }
   ],
   "source": [
    "summary(resnet_pretrained, input_size=(3,224,224))"
   ]
  },
  {
   "cell_type": "markdown",
   "metadata": {},
   "source": [
    "### Model for classification and regression using transfer learning"
   ]
  },
  {
   "cell_type": "code",
   "execution_count": 51,
   "metadata": {
    "ExecuteTime": {
     "end_time": "2022-12-10T21:30:48.597458Z",
     "start_time": "2022-12-10T21:30:48.594264Z"
    }
   },
   "outputs": [],
   "source": [
    "class TransferLearningBackbone(nn.Module):\n",
    "    def __init__(self, pretrained_model):\n",
    "        super(TransferLearningBackbone, self).__init__()\n",
    "        self.features = list(pretrained_model.children())[:-1]\n",
    "        self.features = nn.Sequential(*self.features)\n",
    "        self.pooling = pretrained_model.avgpool\n",
    "        self.flatten = nn.Flatten()\n",
    "\n",
    "    def forward(self, x):\n",
    "        out = self.features(x)\n",
    "        out = self.pooling(out)\n",
    "        out = self.flatten(out)\n",
    "        return out "
   ]
  },
  {
   "cell_type": "code",
   "execution_count": 54,
   "metadata": {
    "ExecuteTime": {
     "end_time": "2022-12-10T01:50:40.076956Z",
     "start_time": "2022-12-10T01:50:39.936805Z"
    },
    "scrolled": true
   },
   "outputs": [
    {
     "name": "stdout",
     "output_type": "stream",
     "text": [
      "----------------------------------------------------------------\n",
      "        Layer (type)               Output Shape         Param #\n",
      "================================================================\n",
      "            Conv2d-1         [-1, 64, 112, 112]           9,408\n",
      "       BatchNorm2d-2         [-1, 64, 112, 112]             128\n",
      "              ReLU-3         [-1, 64, 112, 112]               0\n",
      "         MaxPool2d-4           [-1, 64, 56, 56]               0\n",
      "            Conv2d-5           [-1, 64, 56, 56]           4,096\n",
      "       BatchNorm2d-6           [-1, 64, 56, 56]             128\n",
      "              ReLU-7           [-1, 64, 56, 56]               0\n",
      "            Conv2d-8           [-1, 64, 56, 56]          36,864\n",
      "       BatchNorm2d-9           [-1, 64, 56, 56]             128\n",
      "             ReLU-10           [-1, 64, 56, 56]               0\n",
      "           Conv2d-11          [-1, 256, 56, 56]          16,384\n",
      "      BatchNorm2d-12          [-1, 256, 56, 56]             512\n",
      "           Conv2d-13          [-1, 256, 56, 56]          16,384\n",
      "      BatchNorm2d-14          [-1, 256, 56, 56]             512\n",
      "             ReLU-15          [-1, 256, 56, 56]               0\n",
      "       Bottleneck-16          [-1, 256, 56, 56]               0\n",
      "           Conv2d-17           [-1, 64, 56, 56]          16,384\n",
      "      BatchNorm2d-18           [-1, 64, 56, 56]             128\n",
      "             ReLU-19           [-1, 64, 56, 56]               0\n",
      "           Conv2d-20           [-1, 64, 56, 56]          36,864\n",
      "      BatchNorm2d-21           [-1, 64, 56, 56]             128\n",
      "             ReLU-22           [-1, 64, 56, 56]               0\n",
      "           Conv2d-23          [-1, 256, 56, 56]          16,384\n",
      "      BatchNorm2d-24          [-1, 256, 56, 56]             512\n",
      "             ReLU-25          [-1, 256, 56, 56]               0\n",
      "       Bottleneck-26          [-1, 256, 56, 56]               0\n",
      "           Conv2d-27           [-1, 64, 56, 56]          16,384\n",
      "      BatchNorm2d-28           [-1, 64, 56, 56]             128\n",
      "             ReLU-29           [-1, 64, 56, 56]               0\n",
      "           Conv2d-30           [-1, 64, 56, 56]          36,864\n",
      "      BatchNorm2d-31           [-1, 64, 56, 56]             128\n",
      "             ReLU-32           [-1, 64, 56, 56]               0\n",
      "           Conv2d-33          [-1, 256, 56, 56]          16,384\n",
      "      BatchNorm2d-34          [-1, 256, 56, 56]             512\n",
      "             ReLU-35          [-1, 256, 56, 56]               0\n",
      "       Bottleneck-36          [-1, 256, 56, 56]               0\n",
      "           Conv2d-37          [-1, 128, 56, 56]          32,768\n",
      "      BatchNorm2d-38          [-1, 128, 56, 56]             256\n",
      "             ReLU-39          [-1, 128, 56, 56]               0\n",
      "           Conv2d-40          [-1, 128, 28, 28]         147,456\n",
      "      BatchNorm2d-41          [-1, 128, 28, 28]             256\n",
      "             ReLU-42          [-1, 128, 28, 28]               0\n",
      "           Conv2d-43          [-1, 512, 28, 28]          65,536\n",
      "      BatchNorm2d-44          [-1, 512, 28, 28]           1,024\n",
      "           Conv2d-45          [-1, 512, 28, 28]         131,072\n",
      "      BatchNorm2d-46          [-1, 512, 28, 28]           1,024\n",
      "             ReLU-47          [-1, 512, 28, 28]               0\n",
      "       Bottleneck-48          [-1, 512, 28, 28]               0\n",
      "           Conv2d-49          [-1, 128, 28, 28]          65,536\n",
      "      BatchNorm2d-50          [-1, 128, 28, 28]             256\n",
      "             ReLU-51          [-1, 128, 28, 28]               0\n",
      "           Conv2d-52          [-1, 128, 28, 28]         147,456\n",
      "      BatchNorm2d-53          [-1, 128, 28, 28]             256\n",
      "             ReLU-54          [-1, 128, 28, 28]               0\n",
      "           Conv2d-55          [-1, 512, 28, 28]          65,536\n",
      "      BatchNorm2d-56          [-1, 512, 28, 28]           1,024\n",
      "             ReLU-57          [-1, 512, 28, 28]               0\n",
      "       Bottleneck-58          [-1, 512, 28, 28]               0\n",
      "           Conv2d-59          [-1, 128, 28, 28]          65,536\n",
      "      BatchNorm2d-60          [-1, 128, 28, 28]             256\n",
      "             ReLU-61          [-1, 128, 28, 28]               0\n",
      "           Conv2d-62          [-1, 128, 28, 28]         147,456\n",
      "      BatchNorm2d-63          [-1, 128, 28, 28]             256\n",
      "             ReLU-64          [-1, 128, 28, 28]               0\n",
      "           Conv2d-65          [-1, 512, 28, 28]          65,536\n",
      "      BatchNorm2d-66          [-1, 512, 28, 28]           1,024\n",
      "             ReLU-67          [-1, 512, 28, 28]               0\n",
      "       Bottleneck-68          [-1, 512, 28, 28]               0\n",
      "           Conv2d-69          [-1, 128, 28, 28]          65,536\n",
      "      BatchNorm2d-70          [-1, 128, 28, 28]             256\n",
      "             ReLU-71          [-1, 128, 28, 28]               0\n",
      "           Conv2d-72          [-1, 128, 28, 28]         147,456\n",
      "      BatchNorm2d-73          [-1, 128, 28, 28]             256\n",
      "             ReLU-74          [-1, 128, 28, 28]               0\n",
      "           Conv2d-75          [-1, 512, 28, 28]          65,536\n",
      "      BatchNorm2d-76          [-1, 512, 28, 28]           1,024\n",
      "             ReLU-77          [-1, 512, 28, 28]               0\n",
      "       Bottleneck-78          [-1, 512, 28, 28]               0\n",
      "           Conv2d-79          [-1, 128, 28, 28]          65,536\n",
      "      BatchNorm2d-80          [-1, 128, 28, 28]             256\n",
      "             ReLU-81          [-1, 128, 28, 28]               0\n",
      "           Conv2d-82          [-1, 128, 28, 28]         147,456\n",
      "      BatchNorm2d-83          [-1, 128, 28, 28]             256\n",
      "             ReLU-84          [-1, 128, 28, 28]               0\n",
      "           Conv2d-85          [-1, 512, 28, 28]          65,536\n",
      "      BatchNorm2d-86          [-1, 512, 28, 28]           1,024\n",
      "             ReLU-87          [-1, 512, 28, 28]               0\n",
      "       Bottleneck-88          [-1, 512, 28, 28]               0\n",
      "           Conv2d-89          [-1, 128, 28, 28]          65,536\n",
      "      BatchNorm2d-90          [-1, 128, 28, 28]             256\n",
      "             ReLU-91          [-1, 128, 28, 28]               0\n",
      "           Conv2d-92          [-1, 128, 28, 28]         147,456\n",
      "      BatchNorm2d-93          [-1, 128, 28, 28]             256\n",
      "             ReLU-94          [-1, 128, 28, 28]               0\n",
      "           Conv2d-95          [-1, 512, 28, 28]          65,536\n",
      "      BatchNorm2d-96          [-1, 512, 28, 28]           1,024\n",
      "             ReLU-97          [-1, 512, 28, 28]               0\n",
      "       Bottleneck-98          [-1, 512, 28, 28]               0\n",
      "           Conv2d-99          [-1, 128, 28, 28]          65,536\n",
      "     BatchNorm2d-100          [-1, 128, 28, 28]             256\n",
      "            ReLU-101          [-1, 128, 28, 28]               0\n",
      "          Conv2d-102          [-1, 128, 28, 28]         147,456\n",
      "     BatchNorm2d-103          [-1, 128, 28, 28]             256\n",
      "            ReLU-104          [-1, 128, 28, 28]               0\n",
      "          Conv2d-105          [-1, 512, 28, 28]          65,536\n",
      "     BatchNorm2d-106          [-1, 512, 28, 28]           1,024\n",
      "            ReLU-107          [-1, 512, 28, 28]               0\n",
      "      Bottleneck-108          [-1, 512, 28, 28]               0\n",
      "          Conv2d-109          [-1, 128, 28, 28]          65,536\n",
      "     BatchNorm2d-110          [-1, 128, 28, 28]             256\n",
      "            ReLU-111          [-1, 128, 28, 28]               0\n",
      "          Conv2d-112          [-1, 128, 28, 28]         147,456\n",
      "     BatchNorm2d-113          [-1, 128, 28, 28]             256\n",
      "            ReLU-114          [-1, 128, 28, 28]               0\n",
      "          Conv2d-115          [-1, 512, 28, 28]          65,536\n",
      "     BatchNorm2d-116          [-1, 512, 28, 28]           1,024\n",
      "            ReLU-117          [-1, 512, 28, 28]               0\n",
      "      Bottleneck-118          [-1, 512, 28, 28]               0\n",
      "          Conv2d-119          [-1, 256, 28, 28]         131,072\n",
      "     BatchNorm2d-120          [-1, 256, 28, 28]             512\n",
      "            ReLU-121          [-1, 256, 28, 28]               0\n",
      "          Conv2d-122          [-1, 256, 14, 14]         589,824\n",
      "     BatchNorm2d-123          [-1, 256, 14, 14]             512\n",
      "            ReLU-124          [-1, 256, 14, 14]               0\n",
      "          Conv2d-125         [-1, 1024, 14, 14]         262,144\n",
      "     BatchNorm2d-126         [-1, 1024, 14, 14]           2,048\n",
      "          Conv2d-127         [-1, 1024, 14, 14]         524,288\n",
      "     BatchNorm2d-128         [-1, 1024, 14, 14]           2,048\n",
      "            ReLU-129         [-1, 1024, 14, 14]               0\n",
      "      Bottleneck-130         [-1, 1024, 14, 14]               0\n",
      "          Conv2d-131          [-1, 256, 14, 14]         262,144\n",
      "     BatchNorm2d-132          [-1, 256, 14, 14]             512\n",
      "            ReLU-133          [-1, 256, 14, 14]               0\n",
      "          Conv2d-134          [-1, 256, 14, 14]         589,824\n",
      "     BatchNorm2d-135          [-1, 256, 14, 14]             512\n",
      "            ReLU-136          [-1, 256, 14, 14]               0\n",
      "          Conv2d-137         [-1, 1024, 14, 14]         262,144\n",
      "     BatchNorm2d-138         [-1, 1024, 14, 14]           2,048\n",
      "            ReLU-139         [-1, 1024, 14, 14]               0\n",
      "      Bottleneck-140         [-1, 1024, 14, 14]               0\n",
      "          Conv2d-141          [-1, 256, 14, 14]         262,144\n",
      "     BatchNorm2d-142          [-1, 256, 14, 14]             512\n",
      "            ReLU-143          [-1, 256, 14, 14]               0\n",
      "          Conv2d-144          [-1, 256, 14, 14]         589,824\n",
      "     BatchNorm2d-145          [-1, 256, 14, 14]             512\n",
      "            ReLU-146          [-1, 256, 14, 14]               0\n",
      "          Conv2d-147         [-1, 1024, 14, 14]         262,144\n",
      "     BatchNorm2d-148         [-1, 1024, 14, 14]           2,048\n",
      "            ReLU-149         [-1, 1024, 14, 14]               0\n",
      "      Bottleneck-150         [-1, 1024, 14, 14]               0\n",
      "          Conv2d-151          [-1, 256, 14, 14]         262,144\n",
      "     BatchNorm2d-152          [-1, 256, 14, 14]             512\n",
      "            ReLU-153          [-1, 256, 14, 14]               0\n",
      "          Conv2d-154          [-1, 256, 14, 14]         589,824\n",
      "     BatchNorm2d-155          [-1, 256, 14, 14]             512\n",
      "            ReLU-156          [-1, 256, 14, 14]               0\n",
      "          Conv2d-157         [-1, 1024, 14, 14]         262,144\n",
      "     BatchNorm2d-158         [-1, 1024, 14, 14]           2,048\n",
      "            ReLU-159         [-1, 1024, 14, 14]               0\n",
      "      Bottleneck-160         [-1, 1024, 14, 14]               0\n",
      "          Conv2d-161          [-1, 256, 14, 14]         262,144\n",
      "     BatchNorm2d-162          [-1, 256, 14, 14]             512\n",
      "            ReLU-163          [-1, 256, 14, 14]               0\n",
      "          Conv2d-164          [-1, 256, 14, 14]         589,824\n",
      "     BatchNorm2d-165          [-1, 256, 14, 14]             512\n",
      "            ReLU-166          [-1, 256, 14, 14]               0\n",
      "          Conv2d-167         [-1, 1024, 14, 14]         262,144\n",
      "     BatchNorm2d-168         [-1, 1024, 14, 14]           2,048\n",
      "            ReLU-169         [-1, 1024, 14, 14]               0\n",
      "      Bottleneck-170         [-1, 1024, 14, 14]               0\n",
      "          Conv2d-171          [-1, 256, 14, 14]         262,144\n",
      "     BatchNorm2d-172          [-1, 256, 14, 14]             512\n",
      "            ReLU-173          [-1, 256, 14, 14]               0\n",
      "          Conv2d-174          [-1, 256, 14, 14]         589,824\n",
      "     BatchNorm2d-175          [-1, 256, 14, 14]             512\n",
      "            ReLU-176          [-1, 256, 14, 14]               0\n",
      "          Conv2d-177         [-1, 1024, 14, 14]         262,144\n",
      "     BatchNorm2d-178         [-1, 1024, 14, 14]           2,048\n",
      "            ReLU-179         [-1, 1024, 14, 14]               0\n",
      "      Bottleneck-180         [-1, 1024, 14, 14]               0\n",
      "          Conv2d-181          [-1, 256, 14, 14]         262,144\n",
      "     BatchNorm2d-182          [-1, 256, 14, 14]             512\n",
      "            ReLU-183          [-1, 256, 14, 14]               0\n",
      "          Conv2d-184          [-1, 256, 14, 14]         589,824\n",
      "     BatchNorm2d-185          [-1, 256, 14, 14]             512\n",
      "            ReLU-186          [-1, 256, 14, 14]               0\n",
      "          Conv2d-187         [-1, 1024, 14, 14]         262,144\n",
      "     BatchNorm2d-188         [-1, 1024, 14, 14]           2,048\n",
      "            ReLU-189         [-1, 1024, 14, 14]               0\n",
      "      Bottleneck-190         [-1, 1024, 14, 14]               0\n",
      "          Conv2d-191          [-1, 256, 14, 14]         262,144\n",
      "     BatchNorm2d-192          [-1, 256, 14, 14]             512\n",
      "            ReLU-193          [-1, 256, 14, 14]               0\n",
      "          Conv2d-194          [-1, 256, 14, 14]         589,824\n",
      "     BatchNorm2d-195          [-1, 256, 14, 14]             512\n",
      "            ReLU-196          [-1, 256, 14, 14]               0\n",
      "          Conv2d-197         [-1, 1024, 14, 14]         262,144\n",
      "     BatchNorm2d-198         [-1, 1024, 14, 14]           2,048\n",
      "            ReLU-199         [-1, 1024, 14, 14]               0\n",
      "      Bottleneck-200         [-1, 1024, 14, 14]               0\n",
      "          Conv2d-201          [-1, 256, 14, 14]         262,144\n",
      "     BatchNorm2d-202          [-1, 256, 14, 14]             512\n",
      "            ReLU-203          [-1, 256, 14, 14]               0\n",
      "          Conv2d-204          [-1, 256, 14, 14]         589,824\n",
      "     BatchNorm2d-205          [-1, 256, 14, 14]             512\n",
      "            ReLU-206          [-1, 256, 14, 14]               0\n",
      "          Conv2d-207         [-1, 1024, 14, 14]         262,144\n",
      "     BatchNorm2d-208         [-1, 1024, 14, 14]           2,048\n",
      "            ReLU-209         [-1, 1024, 14, 14]               0\n",
      "      Bottleneck-210         [-1, 1024, 14, 14]               0\n",
      "          Conv2d-211          [-1, 256, 14, 14]         262,144\n",
      "     BatchNorm2d-212          [-1, 256, 14, 14]             512\n",
      "            ReLU-213          [-1, 256, 14, 14]               0\n",
      "          Conv2d-214          [-1, 256, 14, 14]         589,824\n",
      "     BatchNorm2d-215          [-1, 256, 14, 14]             512\n",
      "            ReLU-216          [-1, 256, 14, 14]               0\n",
      "          Conv2d-217         [-1, 1024, 14, 14]         262,144\n",
      "     BatchNorm2d-218         [-1, 1024, 14, 14]           2,048\n",
      "            ReLU-219         [-1, 1024, 14, 14]               0\n",
      "      Bottleneck-220         [-1, 1024, 14, 14]               0\n",
      "          Conv2d-221          [-1, 256, 14, 14]         262,144\n",
      "     BatchNorm2d-222          [-1, 256, 14, 14]             512\n",
      "            ReLU-223          [-1, 256, 14, 14]               0\n",
      "          Conv2d-224          [-1, 256, 14, 14]         589,824\n",
      "     BatchNorm2d-225          [-1, 256, 14, 14]             512\n",
      "            ReLU-226          [-1, 256, 14, 14]               0\n",
      "          Conv2d-227         [-1, 1024, 14, 14]         262,144\n",
      "     BatchNorm2d-228         [-1, 1024, 14, 14]           2,048\n",
      "            ReLU-229         [-1, 1024, 14, 14]               0\n",
      "      Bottleneck-230         [-1, 1024, 14, 14]               0\n",
      "          Conv2d-231          [-1, 256, 14, 14]         262,144\n",
      "     BatchNorm2d-232          [-1, 256, 14, 14]             512\n",
      "            ReLU-233          [-1, 256, 14, 14]               0\n",
      "          Conv2d-234          [-1, 256, 14, 14]         589,824\n",
      "     BatchNorm2d-235          [-1, 256, 14, 14]             512\n",
      "            ReLU-236          [-1, 256, 14, 14]               0\n",
      "          Conv2d-237         [-1, 1024, 14, 14]         262,144\n",
      "     BatchNorm2d-238         [-1, 1024, 14, 14]           2,048\n",
      "            ReLU-239         [-1, 1024, 14, 14]               0\n",
      "      Bottleneck-240         [-1, 1024, 14, 14]               0\n",
      "          Conv2d-241          [-1, 256, 14, 14]         262,144\n",
      "     BatchNorm2d-242          [-1, 256, 14, 14]             512\n",
      "            ReLU-243          [-1, 256, 14, 14]               0\n",
      "          Conv2d-244          [-1, 256, 14, 14]         589,824\n",
      "     BatchNorm2d-245          [-1, 256, 14, 14]             512\n",
      "            ReLU-246          [-1, 256, 14, 14]               0\n",
      "          Conv2d-247         [-1, 1024, 14, 14]         262,144\n",
      "     BatchNorm2d-248         [-1, 1024, 14, 14]           2,048\n",
      "            ReLU-249         [-1, 1024, 14, 14]               0\n",
      "      Bottleneck-250         [-1, 1024, 14, 14]               0\n",
      "          Conv2d-251          [-1, 256, 14, 14]         262,144\n",
      "     BatchNorm2d-252          [-1, 256, 14, 14]             512\n",
      "            ReLU-253          [-1, 256, 14, 14]               0\n",
      "          Conv2d-254          [-1, 256, 14, 14]         589,824\n",
      "     BatchNorm2d-255          [-1, 256, 14, 14]             512\n",
      "            ReLU-256          [-1, 256, 14, 14]               0\n",
      "          Conv2d-257         [-1, 1024, 14, 14]         262,144\n",
      "     BatchNorm2d-258         [-1, 1024, 14, 14]           2,048\n",
      "            ReLU-259         [-1, 1024, 14, 14]               0\n",
      "      Bottleneck-260         [-1, 1024, 14, 14]               0\n",
      "          Conv2d-261          [-1, 256, 14, 14]         262,144\n",
      "     BatchNorm2d-262          [-1, 256, 14, 14]             512\n",
      "            ReLU-263          [-1, 256, 14, 14]               0\n",
      "          Conv2d-264          [-1, 256, 14, 14]         589,824\n",
      "     BatchNorm2d-265          [-1, 256, 14, 14]             512\n",
      "            ReLU-266          [-1, 256, 14, 14]               0\n",
      "          Conv2d-267         [-1, 1024, 14, 14]         262,144\n",
      "     BatchNorm2d-268         [-1, 1024, 14, 14]           2,048\n",
      "            ReLU-269         [-1, 1024, 14, 14]               0\n",
      "      Bottleneck-270         [-1, 1024, 14, 14]               0\n",
      "          Conv2d-271          [-1, 256, 14, 14]         262,144\n",
      "     BatchNorm2d-272          [-1, 256, 14, 14]             512\n",
      "            ReLU-273          [-1, 256, 14, 14]               0\n",
      "          Conv2d-274          [-1, 256, 14, 14]         589,824\n",
      "     BatchNorm2d-275          [-1, 256, 14, 14]             512\n",
      "            ReLU-276          [-1, 256, 14, 14]               0\n",
      "          Conv2d-277         [-1, 1024, 14, 14]         262,144\n",
      "     BatchNorm2d-278         [-1, 1024, 14, 14]           2,048\n",
      "            ReLU-279         [-1, 1024, 14, 14]               0\n",
      "      Bottleneck-280         [-1, 1024, 14, 14]               0\n",
      "          Conv2d-281          [-1, 256, 14, 14]         262,144\n",
      "     BatchNorm2d-282          [-1, 256, 14, 14]             512\n",
      "            ReLU-283          [-1, 256, 14, 14]               0\n",
      "          Conv2d-284          [-1, 256, 14, 14]         589,824\n",
      "     BatchNorm2d-285          [-1, 256, 14, 14]             512\n",
      "            ReLU-286          [-1, 256, 14, 14]               0\n",
      "          Conv2d-287         [-1, 1024, 14, 14]         262,144\n",
      "     BatchNorm2d-288         [-1, 1024, 14, 14]           2,048\n",
      "            ReLU-289         [-1, 1024, 14, 14]               0\n",
      "      Bottleneck-290         [-1, 1024, 14, 14]               0\n",
      "          Conv2d-291          [-1, 256, 14, 14]         262,144\n",
      "     BatchNorm2d-292          [-1, 256, 14, 14]             512\n",
      "            ReLU-293          [-1, 256, 14, 14]               0\n",
      "          Conv2d-294          [-1, 256, 14, 14]         589,824\n",
      "     BatchNorm2d-295          [-1, 256, 14, 14]             512\n",
      "            ReLU-296          [-1, 256, 14, 14]               0\n",
      "          Conv2d-297         [-1, 1024, 14, 14]         262,144\n",
      "     BatchNorm2d-298         [-1, 1024, 14, 14]           2,048\n",
      "            ReLU-299         [-1, 1024, 14, 14]               0\n",
      "      Bottleneck-300         [-1, 1024, 14, 14]               0\n",
      "          Conv2d-301          [-1, 256, 14, 14]         262,144\n",
      "     BatchNorm2d-302          [-1, 256, 14, 14]             512\n",
      "            ReLU-303          [-1, 256, 14, 14]               0\n",
      "          Conv2d-304          [-1, 256, 14, 14]         589,824\n",
      "     BatchNorm2d-305          [-1, 256, 14, 14]             512\n",
      "            ReLU-306          [-1, 256, 14, 14]               0\n",
      "          Conv2d-307         [-1, 1024, 14, 14]         262,144\n",
      "     BatchNorm2d-308         [-1, 1024, 14, 14]           2,048\n",
      "            ReLU-309         [-1, 1024, 14, 14]               0\n",
      "      Bottleneck-310         [-1, 1024, 14, 14]               0\n",
      "          Conv2d-311          [-1, 256, 14, 14]         262,144\n",
      "     BatchNorm2d-312          [-1, 256, 14, 14]             512\n",
      "            ReLU-313          [-1, 256, 14, 14]               0\n",
      "          Conv2d-314          [-1, 256, 14, 14]         589,824\n",
      "     BatchNorm2d-315          [-1, 256, 14, 14]             512\n",
      "            ReLU-316          [-1, 256, 14, 14]               0\n",
      "          Conv2d-317         [-1, 1024, 14, 14]         262,144\n",
      "     BatchNorm2d-318         [-1, 1024, 14, 14]           2,048\n",
      "            ReLU-319         [-1, 1024, 14, 14]               0\n",
      "      Bottleneck-320         [-1, 1024, 14, 14]               0\n",
      "          Conv2d-321          [-1, 256, 14, 14]         262,144\n",
      "     BatchNorm2d-322          [-1, 256, 14, 14]             512\n",
      "            ReLU-323          [-1, 256, 14, 14]               0\n",
      "          Conv2d-324          [-1, 256, 14, 14]         589,824\n",
      "     BatchNorm2d-325          [-1, 256, 14, 14]             512\n",
      "            ReLU-326          [-1, 256, 14, 14]               0\n",
      "          Conv2d-327         [-1, 1024, 14, 14]         262,144\n",
      "     BatchNorm2d-328         [-1, 1024, 14, 14]           2,048\n",
      "            ReLU-329         [-1, 1024, 14, 14]               0\n",
      "      Bottleneck-330         [-1, 1024, 14, 14]               0\n",
      "          Conv2d-331          [-1, 256, 14, 14]         262,144\n",
      "     BatchNorm2d-332          [-1, 256, 14, 14]             512\n",
      "            ReLU-333          [-1, 256, 14, 14]               0\n",
      "          Conv2d-334          [-1, 256, 14, 14]         589,824\n",
      "     BatchNorm2d-335          [-1, 256, 14, 14]             512\n",
      "            ReLU-336          [-1, 256, 14, 14]               0\n",
      "          Conv2d-337         [-1, 1024, 14, 14]         262,144\n",
      "     BatchNorm2d-338         [-1, 1024, 14, 14]           2,048\n",
      "            ReLU-339         [-1, 1024, 14, 14]               0\n",
      "      Bottleneck-340         [-1, 1024, 14, 14]               0\n",
      "          Conv2d-341          [-1, 256, 14, 14]         262,144\n",
      "     BatchNorm2d-342          [-1, 256, 14, 14]             512\n",
      "            ReLU-343          [-1, 256, 14, 14]               0\n",
      "          Conv2d-344          [-1, 256, 14, 14]         589,824\n",
      "     BatchNorm2d-345          [-1, 256, 14, 14]             512\n",
      "            ReLU-346          [-1, 256, 14, 14]               0\n",
      "          Conv2d-347         [-1, 1024, 14, 14]         262,144\n",
      "     BatchNorm2d-348         [-1, 1024, 14, 14]           2,048\n",
      "            ReLU-349         [-1, 1024, 14, 14]               0\n",
      "      Bottleneck-350         [-1, 1024, 14, 14]               0\n",
      "          Conv2d-351          [-1, 256, 14, 14]         262,144\n",
      "     BatchNorm2d-352          [-1, 256, 14, 14]             512\n",
      "            ReLU-353          [-1, 256, 14, 14]               0\n",
      "          Conv2d-354          [-1, 256, 14, 14]         589,824\n",
      "     BatchNorm2d-355          [-1, 256, 14, 14]             512\n",
      "            ReLU-356          [-1, 256, 14, 14]               0\n",
      "          Conv2d-357         [-1, 1024, 14, 14]         262,144\n",
      "     BatchNorm2d-358         [-1, 1024, 14, 14]           2,048\n",
      "            ReLU-359         [-1, 1024, 14, 14]               0\n",
      "      Bottleneck-360         [-1, 1024, 14, 14]               0\n",
      "          Conv2d-361          [-1, 256, 14, 14]         262,144\n",
      "     BatchNorm2d-362          [-1, 256, 14, 14]             512\n",
      "            ReLU-363          [-1, 256, 14, 14]               0\n",
      "          Conv2d-364          [-1, 256, 14, 14]         589,824\n",
      "     BatchNorm2d-365          [-1, 256, 14, 14]             512\n",
      "            ReLU-366          [-1, 256, 14, 14]               0\n",
      "          Conv2d-367         [-1, 1024, 14, 14]         262,144\n",
      "     BatchNorm2d-368         [-1, 1024, 14, 14]           2,048\n",
      "            ReLU-369         [-1, 1024, 14, 14]               0\n",
      "      Bottleneck-370         [-1, 1024, 14, 14]               0\n",
      "          Conv2d-371          [-1, 256, 14, 14]         262,144\n"
     ]
    },
    {
     "name": "stdout",
     "output_type": "stream",
     "text": [
      "     BatchNorm2d-372          [-1, 256, 14, 14]             512\n",
      "            ReLU-373          [-1, 256, 14, 14]               0\n",
      "          Conv2d-374          [-1, 256, 14, 14]         589,824\n",
      "     BatchNorm2d-375          [-1, 256, 14, 14]             512\n",
      "            ReLU-376          [-1, 256, 14, 14]               0\n",
      "          Conv2d-377         [-1, 1024, 14, 14]         262,144\n",
      "     BatchNorm2d-378         [-1, 1024, 14, 14]           2,048\n",
      "            ReLU-379         [-1, 1024, 14, 14]               0\n",
      "      Bottleneck-380         [-1, 1024, 14, 14]               0\n",
      "          Conv2d-381          [-1, 256, 14, 14]         262,144\n",
      "     BatchNorm2d-382          [-1, 256, 14, 14]             512\n",
      "            ReLU-383          [-1, 256, 14, 14]               0\n",
      "          Conv2d-384          [-1, 256, 14, 14]         589,824\n",
      "     BatchNorm2d-385          [-1, 256, 14, 14]             512\n",
      "            ReLU-386          [-1, 256, 14, 14]               0\n",
      "          Conv2d-387         [-1, 1024, 14, 14]         262,144\n",
      "     BatchNorm2d-388         [-1, 1024, 14, 14]           2,048\n",
      "            ReLU-389         [-1, 1024, 14, 14]               0\n",
      "      Bottleneck-390         [-1, 1024, 14, 14]               0\n",
      "          Conv2d-391          [-1, 256, 14, 14]         262,144\n",
      "     BatchNorm2d-392          [-1, 256, 14, 14]             512\n",
      "            ReLU-393          [-1, 256, 14, 14]               0\n",
      "          Conv2d-394          [-1, 256, 14, 14]         589,824\n",
      "     BatchNorm2d-395          [-1, 256, 14, 14]             512\n",
      "            ReLU-396          [-1, 256, 14, 14]               0\n",
      "          Conv2d-397         [-1, 1024, 14, 14]         262,144\n",
      "     BatchNorm2d-398         [-1, 1024, 14, 14]           2,048\n",
      "            ReLU-399         [-1, 1024, 14, 14]               0\n",
      "      Bottleneck-400         [-1, 1024, 14, 14]               0\n",
      "          Conv2d-401          [-1, 256, 14, 14]         262,144\n",
      "     BatchNorm2d-402          [-1, 256, 14, 14]             512\n",
      "            ReLU-403          [-1, 256, 14, 14]               0\n",
      "          Conv2d-404          [-1, 256, 14, 14]         589,824\n",
      "     BatchNorm2d-405          [-1, 256, 14, 14]             512\n",
      "            ReLU-406          [-1, 256, 14, 14]               0\n",
      "          Conv2d-407         [-1, 1024, 14, 14]         262,144\n",
      "     BatchNorm2d-408         [-1, 1024, 14, 14]           2,048\n",
      "            ReLU-409         [-1, 1024, 14, 14]               0\n",
      "      Bottleneck-410         [-1, 1024, 14, 14]               0\n",
      "          Conv2d-411          [-1, 256, 14, 14]         262,144\n",
      "     BatchNorm2d-412          [-1, 256, 14, 14]             512\n",
      "            ReLU-413          [-1, 256, 14, 14]               0\n",
      "          Conv2d-414          [-1, 256, 14, 14]         589,824\n",
      "     BatchNorm2d-415          [-1, 256, 14, 14]             512\n",
      "            ReLU-416          [-1, 256, 14, 14]               0\n",
      "          Conv2d-417         [-1, 1024, 14, 14]         262,144\n",
      "     BatchNorm2d-418         [-1, 1024, 14, 14]           2,048\n",
      "            ReLU-419         [-1, 1024, 14, 14]               0\n",
      "      Bottleneck-420         [-1, 1024, 14, 14]               0\n",
      "          Conv2d-421          [-1, 256, 14, 14]         262,144\n",
      "     BatchNorm2d-422          [-1, 256, 14, 14]             512\n",
      "            ReLU-423          [-1, 256, 14, 14]               0\n",
      "          Conv2d-424          [-1, 256, 14, 14]         589,824\n",
      "     BatchNorm2d-425          [-1, 256, 14, 14]             512\n",
      "            ReLU-426          [-1, 256, 14, 14]               0\n",
      "          Conv2d-427         [-1, 1024, 14, 14]         262,144\n",
      "     BatchNorm2d-428         [-1, 1024, 14, 14]           2,048\n",
      "            ReLU-429         [-1, 1024, 14, 14]               0\n",
      "      Bottleneck-430         [-1, 1024, 14, 14]               0\n",
      "          Conv2d-431          [-1, 256, 14, 14]         262,144\n",
      "     BatchNorm2d-432          [-1, 256, 14, 14]             512\n",
      "            ReLU-433          [-1, 256, 14, 14]               0\n",
      "          Conv2d-434          [-1, 256, 14, 14]         589,824\n",
      "     BatchNorm2d-435          [-1, 256, 14, 14]             512\n",
      "            ReLU-436          [-1, 256, 14, 14]               0\n",
      "          Conv2d-437         [-1, 1024, 14, 14]         262,144\n",
      "     BatchNorm2d-438         [-1, 1024, 14, 14]           2,048\n",
      "            ReLU-439         [-1, 1024, 14, 14]               0\n",
      "      Bottleneck-440         [-1, 1024, 14, 14]               0\n",
      "          Conv2d-441          [-1, 256, 14, 14]         262,144\n",
      "     BatchNorm2d-442          [-1, 256, 14, 14]             512\n",
      "            ReLU-443          [-1, 256, 14, 14]               0\n",
      "          Conv2d-444          [-1, 256, 14, 14]         589,824\n",
      "     BatchNorm2d-445          [-1, 256, 14, 14]             512\n",
      "            ReLU-446          [-1, 256, 14, 14]               0\n",
      "          Conv2d-447         [-1, 1024, 14, 14]         262,144\n",
      "     BatchNorm2d-448         [-1, 1024, 14, 14]           2,048\n",
      "            ReLU-449         [-1, 1024, 14, 14]               0\n",
      "      Bottleneck-450         [-1, 1024, 14, 14]               0\n",
      "          Conv2d-451          [-1, 256, 14, 14]         262,144\n",
      "     BatchNorm2d-452          [-1, 256, 14, 14]             512\n",
      "            ReLU-453          [-1, 256, 14, 14]               0\n",
      "          Conv2d-454          [-1, 256, 14, 14]         589,824\n",
      "     BatchNorm2d-455          [-1, 256, 14, 14]             512\n",
      "            ReLU-456          [-1, 256, 14, 14]               0\n",
      "          Conv2d-457         [-1, 1024, 14, 14]         262,144\n",
      "     BatchNorm2d-458         [-1, 1024, 14, 14]           2,048\n",
      "            ReLU-459         [-1, 1024, 14, 14]               0\n",
      "      Bottleneck-460         [-1, 1024, 14, 14]               0\n",
      "          Conv2d-461          [-1, 256, 14, 14]         262,144\n",
      "     BatchNorm2d-462          [-1, 256, 14, 14]             512\n",
      "            ReLU-463          [-1, 256, 14, 14]               0\n",
      "          Conv2d-464          [-1, 256, 14, 14]         589,824\n",
      "     BatchNorm2d-465          [-1, 256, 14, 14]             512\n",
      "            ReLU-466          [-1, 256, 14, 14]               0\n",
      "          Conv2d-467         [-1, 1024, 14, 14]         262,144\n",
      "     BatchNorm2d-468         [-1, 1024, 14, 14]           2,048\n",
      "            ReLU-469         [-1, 1024, 14, 14]               0\n",
      "      Bottleneck-470         [-1, 1024, 14, 14]               0\n",
      "          Conv2d-471          [-1, 256, 14, 14]         262,144\n",
      "     BatchNorm2d-472          [-1, 256, 14, 14]             512\n",
      "            ReLU-473          [-1, 256, 14, 14]               0\n",
      "          Conv2d-474          [-1, 256, 14, 14]         589,824\n",
      "     BatchNorm2d-475          [-1, 256, 14, 14]             512\n",
      "            ReLU-476          [-1, 256, 14, 14]               0\n",
      "          Conv2d-477         [-1, 1024, 14, 14]         262,144\n",
      "     BatchNorm2d-478         [-1, 1024, 14, 14]           2,048\n",
      "            ReLU-479         [-1, 1024, 14, 14]               0\n",
      "      Bottleneck-480         [-1, 1024, 14, 14]               0\n",
      "          Conv2d-481          [-1, 512, 14, 14]         524,288\n",
      "     BatchNorm2d-482          [-1, 512, 14, 14]           1,024\n",
      "            ReLU-483          [-1, 512, 14, 14]               0\n",
      "          Conv2d-484            [-1, 512, 7, 7]       2,359,296\n",
      "     BatchNorm2d-485            [-1, 512, 7, 7]           1,024\n",
      "            ReLU-486            [-1, 512, 7, 7]               0\n",
      "          Conv2d-487           [-1, 2048, 7, 7]       1,048,576\n",
      "     BatchNorm2d-488           [-1, 2048, 7, 7]           4,096\n",
      "          Conv2d-489           [-1, 2048, 7, 7]       2,097,152\n",
      "     BatchNorm2d-490           [-1, 2048, 7, 7]           4,096\n",
      "            ReLU-491           [-1, 2048, 7, 7]               0\n",
      "      Bottleneck-492           [-1, 2048, 7, 7]               0\n",
      "          Conv2d-493            [-1, 512, 7, 7]       1,048,576\n",
      "     BatchNorm2d-494            [-1, 512, 7, 7]           1,024\n",
      "            ReLU-495            [-1, 512, 7, 7]               0\n",
      "          Conv2d-496            [-1, 512, 7, 7]       2,359,296\n",
      "     BatchNorm2d-497            [-1, 512, 7, 7]           1,024\n",
      "            ReLU-498            [-1, 512, 7, 7]               0\n",
      "          Conv2d-499           [-1, 2048, 7, 7]       1,048,576\n",
      "     BatchNorm2d-500           [-1, 2048, 7, 7]           4,096\n",
      "            ReLU-501           [-1, 2048, 7, 7]               0\n",
      "      Bottleneck-502           [-1, 2048, 7, 7]               0\n",
      "          Conv2d-503            [-1, 512, 7, 7]       1,048,576\n",
      "     BatchNorm2d-504            [-1, 512, 7, 7]           1,024\n",
      "            ReLU-505            [-1, 512, 7, 7]               0\n",
      "          Conv2d-506            [-1, 512, 7, 7]       2,359,296\n",
      "     BatchNorm2d-507            [-1, 512, 7, 7]           1,024\n",
      "            ReLU-508            [-1, 512, 7, 7]               0\n",
      "          Conv2d-509           [-1, 2048, 7, 7]       1,048,576\n",
      "     BatchNorm2d-510           [-1, 2048, 7, 7]           4,096\n",
      "            ReLU-511           [-1, 2048, 7, 7]               0\n",
      "      Bottleneck-512           [-1, 2048, 7, 7]               0\n",
      "AdaptiveAvgPool2d-513           [-1, 2048, 1, 1]               0\n",
      "AdaptiveAvgPool2d-514           [-1, 2048, 1, 1]               0\n",
      "AdaptiveAvgPool2d-515           [-1, 2048, 1, 1]               0\n",
      "AdaptiveAvgPool2d-516           [-1, 2048, 1, 1]               0\n",
      "         Flatten-517                 [-1, 2048]               0\n",
      "================================================================\n",
      "Total params: 58,143,808\n",
      "Trainable params: 58,143,808\n",
      "Non-trainable params: 0\n",
      "----------------------------------------------------------------\n",
      "Input size (MB): 0.57\n",
      "Forward/backward pass size (MB): 606.64\n",
      "Params size (MB): 221.80\n",
      "Estimated Total Size (MB): 829.02\n",
      "----------------------------------------------------------------\n"
     ]
    }
   ],
   "source": [
    "resnet_backbone = TransferLearningBackbone(resnet_pretrained).to(device)\n",
    "summary(resnet_backbone, input_size=(3, 224, 224))"
   ]
  },
  {
   "cell_type": "code",
   "execution_count": 55,
   "metadata": {
    "ExecuteTime": {
     "end_time": "2022-12-10T01:50:40.080359Z",
     "start_time": "2022-12-10T01:50:40.078450Z"
    }
   },
   "outputs": [],
   "source": [
    "resnet_backbone_output_shape = 2048"
   ]
  },
  {
   "cell_type": "code",
   "execution_count": 56,
   "metadata": {
    "ExecuteTime": {
     "end_time": "2022-12-10T01:50:40.084791Z",
     "start_time": "2022-12-10T01:50:40.081571Z"
    }
   },
   "outputs": [],
   "source": [
    "class ResNetClassifier(nn.Module):\n",
    "    def __init__(self, input_size: int, n_classes: int):\n",
    "        super().__init__()\n",
    "        self.input_size = input_size\n",
    "        self.n_classes = n_classes\n",
    "        \n",
    "        self.model = nn.Sequential(\n",
    "            nn.Dropout(0.4),\n",
    "            nn.Linear(in_features = self.input_size, out_features=1024), # Shape transformation: (2.048) -> (1.024)\n",
    "            nn.BatchNorm1d(1024),\n",
    "            nn.Dropout(0.4),\n",
    "            nn.Linear(in_features = 1024, out_features=128), # Shape transformation: (1.024) -> (128)\n",
    "            nn.BatchNorm1d(128),\n",
    "            nn.Dropout(0.4),\n",
    "            nn.Linear(in_features = 128, out_features = self.n_classes), # Shape transformation: (128) -> (10)\n",
    "        )\n",
    "    \n",
    "    def forward(self, x):\n",
    "        return self.model(x)"
   ]
  },
  {
   "cell_type": "code",
   "execution_count": 57,
   "metadata": {
    "ExecuteTime": {
     "end_time": "2022-12-10T01:50:40.100868Z",
     "start_time": "2022-12-10T01:50:40.085932Z"
    }
   },
   "outputs": [
    {
     "name": "stdout",
     "output_type": "stream",
     "text": [
      "----------------------------------------------------------------\n",
      "        Layer (type)               Output Shape         Param #\n",
      "================================================================\n",
      "           Dropout-1                 [-1, 2048]               0\n",
      "            Linear-2                 [-1, 1024]       2,098,176\n",
      "       BatchNorm1d-3                 [-1, 1024]           2,048\n",
      "           Dropout-4                 [-1, 1024]               0\n",
      "            Linear-5                  [-1, 128]         131,200\n",
      "       BatchNorm1d-6                  [-1, 128]             256\n",
      "           Dropout-7                  [-1, 128]               0\n",
      "            Linear-8                   [-1, 10]           1,290\n",
      "================================================================\n",
      "Total params: 2,232,970\n",
      "Trainable params: 2,232,970\n",
      "Non-trainable params: 0\n",
      "----------------------------------------------------------------\n",
      "Input size (MB): 0.01\n",
      "Forward/backward pass size (MB): 0.04\n",
      "Params size (MB): 8.52\n",
      "Estimated Total Size (MB): 8.57\n",
      "----------------------------------------------------------------\n"
     ]
    }
   ],
   "source": [
    "resnet_classifier = ResNetClassifier(input_size=resnet_backbone_output_shape, n_classes=config_dict['num_classes']).to(device)\n",
    "summary(resnet_classifier, input_size=(resnet_backbone_output_shape,))"
   ]
  },
  {
   "cell_type": "code",
   "execution_count": 58,
   "metadata": {
    "ExecuteTime": {
     "end_time": "2022-12-10T01:50:40.106677Z",
     "start_time": "2022-12-10T01:50:40.103193Z"
    }
   },
   "outputs": [],
   "source": [
    "class ResNetRegressor(nn.Module):\n",
    "    def __init__(self, input_size: int):\n",
    "        super().__init__()\n",
    "        self.input_size = input_size\n",
    "        self.model = nn.Sequential(\n",
    "            nn.Linear(in_features = self.input_size, out_features=1024), # Shape transformation: (2048) -> (1024)\n",
    "            nn.BatchNorm1d(1024),\n",
    "            # nn.Dropout(0.4),\n",
    "            nn.Linear(in_features = 1024, out_features=512), # Shape transformation: (1024) -> (512)\n",
    "            nn.BatchNorm1d(512),\n",
    "            # nn.Dropout(0.4),\n",
    "            nn.Linear(in_features = 512, out_features=256), # Shape transformation: (512) -> (256)\n",
    "            nn.BatchNorm1d(256),\n",
    "            # nn.Dropout(0.4),\n",
    "            nn.Linear(in_features = 256, out_features=128), # Shape transformation: (256) -> (128)\n",
    "            nn.BatchNorm1d(128),\n",
    "            # nn.Dropout(0.4),\n",
    "            nn.Linear(in_features = 128, out_features = 4), # Shape transformation: (128) -> (4)\n",
    "        )\n",
    "    \n",
    "    def forward(self, x):\n",
    "        return self.model(x)"
   ]
  },
  {
   "cell_type": "code",
   "execution_count": 59,
   "metadata": {
    "ExecuteTime": {
     "end_time": "2022-12-10T01:50:40.126656Z",
     "start_time": "2022-12-10T01:50:40.108008Z"
    },
    "scrolled": true
   },
   "outputs": [
    {
     "name": "stdout",
     "output_type": "stream",
     "text": [
      "----------------------------------------------------------------\n",
      "        Layer (type)               Output Shape         Param #\n",
      "================================================================\n",
      "           Dropout-1                 [-1, 2048]               0\n",
      "            Linear-2                 [-1, 1024]       2,098,176\n",
      "       BatchNorm1d-3                 [-1, 1024]           2,048\n",
      "           Dropout-4                 [-1, 1024]               0\n",
      "            Linear-5                  [-1, 128]         131,200\n",
      "       BatchNorm1d-6                  [-1, 128]             256\n",
      "           Dropout-7                  [-1, 128]               0\n",
      "            Linear-8                   [-1, 10]           1,290\n",
      "================================================================\n",
      "Total params: 2,232,970\n",
      "Trainable params: 2,232,970\n",
      "Non-trainable params: 0\n",
      "----------------------------------------------------------------\n",
      "Input size (MB): 0.01\n",
      "Forward/backward pass size (MB): 0.04\n",
      "Params size (MB): 8.52\n",
      "Estimated Total Size (MB): 8.57\n",
      "----------------------------------------------------------------\n"
     ]
    }
   ],
   "source": [
    "resnet_regressor = ResNetRegressor(input_size=resnet_backbone_output_shape).to(device)\n",
    "summary(resnet_classifier, input_size=(resnet_backbone_output_shape,))"
   ]
  },
  {
   "cell_type": "markdown",
   "metadata": {
    "ExecuteTime": {
     "end_time": "2022-12-09T23:02:36.376480Z",
     "start_time": "2022-12-09T23:02:36.373097Z"
    }
   },
   "source": [
    "Definimos nuestro modelo para la clasificación y la regresion"
   ]
  },
  {
   "cell_type": "code",
   "execution_count": 60,
   "metadata": {
    "ExecuteTime": {
     "end_time": "2022-12-10T01:50:40.258800Z",
     "start_time": "2022-12-10T01:50:40.127718Z"
    },
    "scrolled": true
   },
   "outputs": [
    {
     "name": "stdout",
     "output_type": "stream",
     "text": [
      "----------------------------------------------------------------\n",
      "        Layer (type)               Output Shape         Param #\n",
      "================================================================\n",
      "            Conv2d-1         [-1, 64, 112, 112]           9,408\n",
      "       BatchNorm2d-2         [-1, 64, 112, 112]             128\n",
      "              ReLU-3         [-1, 64, 112, 112]               0\n",
      "         MaxPool2d-4           [-1, 64, 56, 56]               0\n",
      "            Conv2d-5           [-1, 64, 56, 56]           4,096\n",
      "       BatchNorm2d-6           [-1, 64, 56, 56]             128\n",
      "              ReLU-7           [-1, 64, 56, 56]               0\n",
      "            Conv2d-8           [-1, 64, 56, 56]          36,864\n",
      "       BatchNorm2d-9           [-1, 64, 56, 56]             128\n",
      "             ReLU-10           [-1, 64, 56, 56]               0\n",
      "           Conv2d-11          [-1, 256, 56, 56]          16,384\n",
      "      BatchNorm2d-12          [-1, 256, 56, 56]             512\n",
      "           Conv2d-13          [-1, 256, 56, 56]          16,384\n",
      "      BatchNorm2d-14          [-1, 256, 56, 56]             512\n",
      "             ReLU-15          [-1, 256, 56, 56]               0\n",
      "       Bottleneck-16          [-1, 256, 56, 56]               0\n",
      "           Conv2d-17           [-1, 64, 56, 56]          16,384\n",
      "      BatchNorm2d-18           [-1, 64, 56, 56]             128\n",
      "             ReLU-19           [-1, 64, 56, 56]               0\n",
      "           Conv2d-20           [-1, 64, 56, 56]          36,864\n",
      "      BatchNorm2d-21           [-1, 64, 56, 56]             128\n",
      "             ReLU-22           [-1, 64, 56, 56]               0\n",
      "           Conv2d-23          [-1, 256, 56, 56]          16,384\n",
      "      BatchNorm2d-24          [-1, 256, 56, 56]             512\n",
      "             ReLU-25          [-1, 256, 56, 56]               0\n",
      "       Bottleneck-26          [-1, 256, 56, 56]               0\n",
      "           Conv2d-27           [-1, 64, 56, 56]          16,384\n",
      "      BatchNorm2d-28           [-1, 64, 56, 56]             128\n",
      "             ReLU-29           [-1, 64, 56, 56]               0\n",
      "           Conv2d-30           [-1, 64, 56, 56]          36,864\n",
      "      BatchNorm2d-31           [-1, 64, 56, 56]             128\n",
      "             ReLU-32           [-1, 64, 56, 56]               0\n",
      "           Conv2d-33          [-1, 256, 56, 56]          16,384\n",
      "      BatchNorm2d-34          [-1, 256, 56, 56]             512\n",
      "             ReLU-35          [-1, 256, 56, 56]               0\n",
      "       Bottleneck-36          [-1, 256, 56, 56]               0\n",
      "           Conv2d-37          [-1, 128, 56, 56]          32,768\n",
      "      BatchNorm2d-38          [-1, 128, 56, 56]             256\n",
      "             ReLU-39          [-1, 128, 56, 56]               0\n",
      "           Conv2d-40          [-1, 128, 28, 28]         147,456\n",
      "      BatchNorm2d-41          [-1, 128, 28, 28]             256\n",
      "             ReLU-42          [-1, 128, 28, 28]               0\n",
      "           Conv2d-43          [-1, 512, 28, 28]          65,536\n",
      "      BatchNorm2d-44          [-1, 512, 28, 28]           1,024\n",
      "           Conv2d-45          [-1, 512, 28, 28]         131,072\n",
      "      BatchNorm2d-46          [-1, 512, 28, 28]           1,024\n",
      "             ReLU-47          [-1, 512, 28, 28]               0\n",
      "       Bottleneck-48          [-1, 512, 28, 28]               0\n",
      "           Conv2d-49          [-1, 128, 28, 28]          65,536\n",
      "      BatchNorm2d-50          [-1, 128, 28, 28]             256\n",
      "             ReLU-51          [-1, 128, 28, 28]               0\n",
      "           Conv2d-52          [-1, 128, 28, 28]         147,456\n",
      "      BatchNorm2d-53          [-1, 128, 28, 28]             256\n",
      "             ReLU-54          [-1, 128, 28, 28]               0\n",
      "           Conv2d-55          [-1, 512, 28, 28]          65,536\n",
      "      BatchNorm2d-56          [-1, 512, 28, 28]           1,024\n",
      "             ReLU-57          [-1, 512, 28, 28]               0\n",
      "       Bottleneck-58          [-1, 512, 28, 28]               0\n",
      "           Conv2d-59          [-1, 128, 28, 28]          65,536\n",
      "      BatchNorm2d-60          [-1, 128, 28, 28]             256\n",
      "             ReLU-61          [-1, 128, 28, 28]               0\n",
      "           Conv2d-62          [-1, 128, 28, 28]         147,456\n",
      "      BatchNorm2d-63          [-1, 128, 28, 28]             256\n",
      "             ReLU-64          [-1, 128, 28, 28]               0\n",
      "           Conv2d-65          [-1, 512, 28, 28]          65,536\n",
      "      BatchNorm2d-66          [-1, 512, 28, 28]           1,024\n",
      "             ReLU-67          [-1, 512, 28, 28]               0\n",
      "       Bottleneck-68          [-1, 512, 28, 28]               0\n",
      "           Conv2d-69          [-1, 128, 28, 28]          65,536\n",
      "      BatchNorm2d-70          [-1, 128, 28, 28]             256\n",
      "             ReLU-71          [-1, 128, 28, 28]               0\n",
      "           Conv2d-72          [-1, 128, 28, 28]         147,456\n",
      "      BatchNorm2d-73          [-1, 128, 28, 28]             256\n",
      "             ReLU-74          [-1, 128, 28, 28]               0\n",
      "           Conv2d-75          [-1, 512, 28, 28]          65,536\n",
      "      BatchNorm2d-76          [-1, 512, 28, 28]           1,024\n",
      "             ReLU-77          [-1, 512, 28, 28]               0\n",
      "       Bottleneck-78          [-1, 512, 28, 28]               0\n",
      "           Conv2d-79          [-1, 128, 28, 28]          65,536\n",
      "      BatchNorm2d-80          [-1, 128, 28, 28]             256\n",
      "             ReLU-81          [-1, 128, 28, 28]               0\n",
      "           Conv2d-82          [-1, 128, 28, 28]         147,456\n",
      "      BatchNorm2d-83          [-1, 128, 28, 28]             256\n",
      "             ReLU-84          [-1, 128, 28, 28]               0\n",
      "           Conv2d-85          [-1, 512, 28, 28]          65,536\n",
      "      BatchNorm2d-86          [-1, 512, 28, 28]           1,024\n",
      "             ReLU-87          [-1, 512, 28, 28]               0\n",
      "       Bottleneck-88          [-1, 512, 28, 28]               0\n",
      "           Conv2d-89          [-1, 128, 28, 28]          65,536\n",
      "      BatchNorm2d-90          [-1, 128, 28, 28]             256\n",
      "             ReLU-91          [-1, 128, 28, 28]               0\n",
      "           Conv2d-92          [-1, 128, 28, 28]         147,456\n",
      "      BatchNorm2d-93          [-1, 128, 28, 28]             256\n",
      "             ReLU-94          [-1, 128, 28, 28]               0\n",
      "           Conv2d-95          [-1, 512, 28, 28]          65,536\n",
      "      BatchNorm2d-96          [-1, 512, 28, 28]           1,024\n",
      "             ReLU-97          [-1, 512, 28, 28]               0\n",
      "       Bottleneck-98          [-1, 512, 28, 28]               0\n",
      "           Conv2d-99          [-1, 128, 28, 28]          65,536\n",
      "     BatchNorm2d-100          [-1, 128, 28, 28]             256\n",
      "            ReLU-101          [-1, 128, 28, 28]               0\n",
      "          Conv2d-102          [-1, 128, 28, 28]         147,456\n",
      "     BatchNorm2d-103          [-1, 128, 28, 28]             256\n",
      "            ReLU-104          [-1, 128, 28, 28]               0\n",
      "          Conv2d-105          [-1, 512, 28, 28]          65,536\n",
      "     BatchNorm2d-106          [-1, 512, 28, 28]           1,024\n",
      "            ReLU-107          [-1, 512, 28, 28]               0\n",
      "      Bottleneck-108          [-1, 512, 28, 28]               0\n",
      "          Conv2d-109          [-1, 128, 28, 28]          65,536\n",
      "     BatchNorm2d-110          [-1, 128, 28, 28]             256\n",
      "            ReLU-111          [-1, 128, 28, 28]               0\n",
      "          Conv2d-112          [-1, 128, 28, 28]         147,456\n",
      "     BatchNorm2d-113          [-1, 128, 28, 28]             256\n",
      "            ReLU-114          [-1, 128, 28, 28]               0\n",
      "          Conv2d-115          [-1, 512, 28, 28]          65,536\n",
      "     BatchNorm2d-116          [-1, 512, 28, 28]           1,024\n",
      "            ReLU-117          [-1, 512, 28, 28]               0\n",
      "      Bottleneck-118          [-1, 512, 28, 28]               0\n",
      "          Conv2d-119          [-1, 256, 28, 28]         131,072\n",
      "     BatchNorm2d-120          [-1, 256, 28, 28]             512\n",
      "            ReLU-121          [-1, 256, 28, 28]               0\n",
      "          Conv2d-122          [-1, 256, 14, 14]         589,824\n",
      "     BatchNorm2d-123          [-1, 256, 14, 14]             512\n",
      "            ReLU-124          [-1, 256, 14, 14]               0\n",
      "          Conv2d-125         [-1, 1024, 14, 14]         262,144\n",
      "     BatchNorm2d-126         [-1, 1024, 14, 14]           2,048\n",
      "          Conv2d-127         [-1, 1024, 14, 14]         524,288\n",
      "     BatchNorm2d-128         [-1, 1024, 14, 14]           2,048\n",
      "            ReLU-129         [-1, 1024, 14, 14]               0\n",
      "      Bottleneck-130         [-1, 1024, 14, 14]               0\n",
      "          Conv2d-131          [-1, 256, 14, 14]         262,144\n",
      "     BatchNorm2d-132          [-1, 256, 14, 14]             512\n",
      "            ReLU-133          [-1, 256, 14, 14]               0\n",
      "          Conv2d-134          [-1, 256, 14, 14]         589,824\n",
      "     BatchNorm2d-135          [-1, 256, 14, 14]             512\n",
      "            ReLU-136          [-1, 256, 14, 14]               0\n",
      "          Conv2d-137         [-1, 1024, 14, 14]         262,144\n",
      "     BatchNorm2d-138         [-1, 1024, 14, 14]           2,048\n",
      "            ReLU-139         [-1, 1024, 14, 14]               0\n",
      "      Bottleneck-140         [-1, 1024, 14, 14]               0\n",
      "          Conv2d-141          [-1, 256, 14, 14]         262,144\n",
      "     BatchNorm2d-142          [-1, 256, 14, 14]             512\n",
      "            ReLU-143          [-1, 256, 14, 14]               0\n",
      "          Conv2d-144          [-1, 256, 14, 14]         589,824\n",
      "     BatchNorm2d-145          [-1, 256, 14, 14]             512\n",
      "            ReLU-146          [-1, 256, 14, 14]               0\n",
      "          Conv2d-147         [-1, 1024, 14, 14]         262,144\n",
      "     BatchNorm2d-148         [-1, 1024, 14, 14]           2,048\n",
      "            ReLU-149         [-1, 1024, 14, 14]               0\n",
      "      Bottleneck-150         [-1, 1024, 14, 14]               0\n",
      "          Conv2d-151          [-1, 256, 14, 14]         262,144\n",
      "     BatchNorm2d-152          [-1, 256, 14, 14]             512\n",
      "            ReLU-153          [-1, 256, 14, 14]               0\n",
      "          Conv2d-154          [-1, 256, 14, 14]         589,824\n",
      "     BatchNorm2d-155          [-1, 256, 14, 14]             512\n",
      "            ReLU-156          [-1, 256, 14, 14]               0\n",
      "          Conv2d-157         [-1, 1024, 14, 14]         262,144\n"
     ]
    },
    {
     "name": "stdout",
     "output_type": "stream",
     "text": [
      "     BatchNorm2d-158         [-1, 1024, 14, 14]           2,048\n",
      "            ReLU-159         [-1, 1024, 14, 14]               0\n",
      "      Bottleneck-160         [-1, 1024, 14, 14]               0\n",
      "          Conv2d-161          [-1, 256, 14, 14]         262,144\n",
      "     BatchNorm2d-162          [-1, 256, 14, 14]             512\n",
      "            ReLU-163          [-1, 256, 14, 14]               0\n",
      "          Conv2d-164          [-1, 256, 14, 14]         589,824\n",
      "     BatchNorm2d-165          [-1, 256, 14, 14]             512\n",
      "            ReLU-166          [-1, 256, 14, 14]               0\n",
      "          Conv2d-167         [-1, 1024, 14, 14]         262,144\n",
      "     BatchNorm2d-168         [-1, 1024, 14, 14]           2,048\n",
      "            ReLU-169         [-1, 1024, 14, 14]               0\n",
      "      Bottleneck-170         [-1, 1024, 14, 14]               0\n",
      "          Conv2d-171          [-1, 256, 14, 14]         262,144\n",
      "     BatchNorm2d-172          [-1, 256, 14, 14]             512\n",
      "            ReLU-173          [-1, 256, 14, 14]               0\n",
      "          Conv2d-174          [-1, 256, 14, 14]         589,824\n",
      "     BatchNorm2d-175          [-1, 256, 14, 14]             512\n",
      "            ReLU-176          [-1, 256, 14, 14]               0\n",
      "          Conv2d-177         [-1, 1024, 14, 14]         262,144\n",
      "     BatchNorm2d-178         [-1, 1024, 14, 14]           2,048\n",
      "            ReLU-179         [-1, 1024, 14, 14]               0\n",
      "      Bottleneck-180         [-1, 1024, 14, 14]               0\n",
      "          Conv2d-181          [-1, 256, 14, 14]         262,144\n",
      "     BatchNorm2d-182          [-1, 256, 14, 14]             512\n",
      "            ReLU-183          [-1, 256, 14, 14]               0\n",
      "          Conv2d-184          [-1, 256, 14, 14]         589,824\n",
      "     BatchNorm2d-185          [-1, 256, 14, 14]             512\n",
      "            ReLU-186          [-1, 256, 14, 14]               0\n",
      "          Conv2d-187         [-1, 1024, 14, 14]         262,144\n",
      "     BatchNorm2d-188         [-1, 1024, 14, 14]           2,048\n",
      "            ReLU-189         [-1, 1024, 14, 14]               0\n",
      "      Bottleneck-190         [-1, 1024, 14, 14]               0\n",
      "          Conv2d-191          [-1, 256, 14, 14]         262,144\n",
      "     BatchNorm2d-192          [-1, 256, 14, 14]             512\n",
      "            ReLU-193          [-1, 256, 14, 14]               0\n",
      "          Conv2d-194          [-1, 256, 14, 14]         589,824\n",
      "     BatchNorm2d-195          [-1, 256, 14, 14]             512\n",
      "            ReLU-196          [-1, 256, 14, 14]               0\n",
      "          Conv2d-197         [-1, 1024, 14, 14]         262,144\n",
      "     BatchNorm2d-198         [-1, 1024, 14, 14]           2,048\n",
      "            ReLU-199         [-1, 1024, 14, 14]               0\n",
      "      Bottleneck-200         [-1, 1024, 14, 14]               0\n",
      "          Conv2d-201          [-1, 256, 14, 14]         262,144\n",
      "     BatchNorm2d-202          [-1, 256, 14, 14]             512\n",
      "            ReLU-203          [-1, 256, 14, 14]               0\n",
      "          Conv2d-204          [-1, 256, 14, 14]         589,824\n",
      "     BatchNorm2d-205          [-1, 256, 14, 14]             512\n",
      "            ReLU-206          [-1, 256, 14, 14]               0\n",
      "          Conv2d-207         [-1, 1024, 14, 14]         262,144\n",
      "     BatchNorm2d-208         [-1, 1024, 14, 14]           2,048\n",
      "            ReLU-209         [-1, 1024, 14, 14]               0\n",
      "      Bottleneck-210         [-1, 1024, 14, 14]               0\n",
      "          Conv2d-211          [-1, 256, 14, 14]         262,144\n",
      "     BatchNorm2d-212          [-1, 256, 14, 14]             512\n",
      "            ReLU-213          [-1, 256, 14, 14]               0\n",
      "          Conv2d-214          [-1, 256, 14, 14]         589,824\n",
      "     BatchNorm2d-215          [-1, 256, 14, 14]             512\n",
      "            ReLU-216          [-1, 256, 14, 14]               0\n",
      "          Conv2d-217         [-1, 1024, 14, 14]         262,144\n",
      "     BatchNorm2d-218         [-1, 1024, 14, 14]           2,048\n",
      "            ReLU-219         [-1, 1024, 14, 14]               0\n",
      "      Bottleneck-220         [-1, 1024, 14, 14]               0\n",
      "          Conv2d-221          [-1, 256, 14, 14]         262,144\n",
      "     BatchNorm2d-222          [-1, 256, 14, 14]             512\n",
      "            ReLU-223          [-1, 256, 14, 14]               0\n",
      "          Conv2d-224          [-1, 256, 14, 14]         589,824\n",
      "     BatchNorm2d-225          [-1, 256, 14, 14]             512\n",
      "            ReLU-226          [-1, 256, 14, 14]               0\n",
      "          Conv2d-227         [-1, 1024, 14, 14]         262,144\n",
      "     BatchNorm2d-228         [-1, 1024, 14, 14]           2,048\n",
      "            ReLU-229         [-1, 1024, 14, 14]               0\n",
      "      Bottleneck-230         [-1, 1024, 14, 14]               0\n",
      "          Conv2d-231          [-1, 256, 14, 14]         262,144\n",
      "     BatchNorm2d-232          [-1, 256, 14, 14]             512\n",
      "            ReLU-233          [-1, 256, 14, 14]               0\n",
      "          Conv2d-234          [-1, 256, 14, 14]         589,824\n",
      "     BatchNorm2d-235          [-1, 256, 14, 14]             512\n",
      "            ReLU-236          [-1, 256, 14, 14]               0\n",
      "          Conv2d-237         [-1, 1024, 14, 14]         262,144\n",
      "     BatchNorm2d-238         [-1, 1024, 14, 14]           2,048\n",
      "            ReLU-239         [-1, 1024, 14, 14]               0\n",
      "      Bottleneck-240         [-1, 1024, 14, 14]               0\n",
      "          Conv2d-241          [-1, 256, 14, 14]         262,144\n",
      "     BatchNorm2d-242          [-1, 256, 14, 14]             512\n",
      "            ReLU-243          [-1, 256, 14, 14]               0\n",
      "          Conv2d-244          [-1, 256, 14, 14]         589,824\n",
      "     BatchNorm2d-245          [-1, 256, 14, 14]             512\n",
      "            ReLU-246          [-1, 256, 14, 14]               0\n",
      "          Conv2d-247         [-1, 1024, 14, 14]         262,144\n",
      "     BatchNorm2d-248         [-1, 1024, 14, 14]           2,048\n",
      "            ReLU-249         [-1, 1024, 14, 14]               0\n",
      "      Bottleneck-250         [-1, 1024, 14, 14]               0\n",
      "          Conv2d-251          [-1, 256, 14, 14]         262,144\n",
      "     BatchNorm2d-252          [-1, 256, 14, 14]             512\n",
      "            ReLU-253          [-1, 256, 14, 14]               0\n",
      "          Conv2d-254          [-1, 256, 14, 14]         589,824\n",
      "     BatchNorm2d-255          [-1, 256, 14, 14]             512\n",
      "            ReLU-256          [-1, 256, 14, 14]               0\n",
      "          Conv2d-257         [-1, 1024, 14, 14]         262,144\n",
      "     BatchNorm2d-258         [-1, 1024, 14, 14]           2,048\n",
      "            ReLU-259         [-1, 1024, 14, 14]               0\n",
      "      Bottleneck-260         [-1, 1024, 14, 14]               0\n",
      "          Conv2d-261          [-1, 256, 14, 14]         262,144\n",
      "     BatchNorm2d-262          [-1, 256, 14, 14]             512\n",
      "            ReLU-263          [-1, 256, 14, 14]               0\n",
      "          Conv2d-264          [-1, 256, 14, 14]         589,824\n",
      "     BatchNorm2d-265          [-1, 256, 14, 14]             512\n",
      "            ReLU-266          [-1, 256, 14, 14]               0\n",
      "          Conv2d-267         [-1, 1024, 14, 14]         262,144\n",
      "     BatchNorm2d-268         [-1, 1024, 14, 14]           2,048\n",
      "            ReLU-269         [-1, 1024, 14, 14]               0\n",
      "      Bottleneck-270         [-1, 1024, 14, 14]               0\n",
      "          Conv2d-271          [-1, 256, 14, 14]         262,144\n",
      "     BatchNorm2d-272          [-1, 256, 14, 14]             512\n",
      "            ReLU-273          [-1, 256, 14, 14]               0\n",
      "          Conv2d-274          [-1, 256, 14, 14]         589,824\n",
      "     BatchNorm2d-275          [-1, 256, 14, 14]             512\n",
      "            ReLU-276          [-1, 256, 14, 14]               0\n",
      "          Conv2d-277         [-1, 1024, 14, 14]         262,144\n",
      "     BatchNorm2d-278         [-1, 1024, 14, 14]           2,048\n",
      "            ReLU-279         [-1, 1024, 14, 14]               0\n",
      "      Bottleneck-280         [-1, 1024, 14, 14]               0\n",
      "          Conv2d-281          [-1, 256, 14, 14]         262,144\n",
      "     BatchNorm2d-282          [-1, 256, 14, 14]             512\n",
      "            ReLU-283          [-1, 256, 14, 14]               0\n",
      "          Conv2d-284          [-1, 256, 14, 14]         589,824\n",
      "     BatchNorm2d-285          [-1, 256, 14, 14]             512\n",
      "            ReLU-286          [-1, 256, 14, 14]               0\n",
      "          Conv2d-287         [-1, 1024, 14, 14]         262,144\n",
      "     BatchNorm2d-288         [-1, 1024, 14, 14]           2,048\n",
      "            ReLU-289         [-1, 1024, 14, 14]               0\n",
      "      Bottleneck-290         [-1, 1024, 14, 14]               0\n",
      "          Conv2d-291          [-1, 256, 14, 14]         262,144\n",
      "     BatchNorm2d-292          [-1, 256, 14, 14]             512\n",
      "            ReLU-293          [-1, 256, 14, 14]               0\n",
      "          Conv2d-294          [-1, 256, 14, 14]         589,824\n",
      "     BatchNorm2d-295          [-1, 256, 14, 14]             512\n",
      "            ReLU-296          [-1, 256, 14, 14]               0\n",
      "          Conv2d-297         [-1, 1024, 14, 14]         262,144\n",
      "     BatchNorm2d-298         [-1, 1024, 14, 14]           2,048\n",
      "            ReLU-299         [-1, 1024, 14, 14]               0\n",
      "      Bottleneck-300         [-1, 1024, 14, 14]               0\n",
      "          Conv2d-301          [-1, 256, 14, 14]         262,144\n",
      "     BatchNorm2d-302          [-1, 256, 14, 14]             512\n",
      "            ReLU-303          [-1, 256, 14, 14]               0\n",
      "          Conv2d-304          [-1, 256, 14, 14]         589,824\n",
      "     BatchNorm2d-305          [-1, 256, 14, 14]             512\n",
      "            ReLU-306          [-1, 256, 14, 14]               0\n",
      "          Conv2d-307         [-1, 1024, 14, 14]         262,144\n",
      "     BatchNorm2d-308         [-1, 1024, 14, 14]           2,048\n",
      "            ReLU-309         [-1, 1024, 14, 14]               0\n",
      "      Bottleneck-310         [-1, 1024, 14, 14]               0\n",
      "          Conv2d-311          [-1, 256, 14, 14]         262,144\n",
      "     BatchNorm2d-312          [-1, 256, 14, 14]             512\n",
      "            ReLU-313          [-1, 256, 14, 14]               0\n",
      "          Conv2d-314          [-1, 256, 14, 14]         589,824\n",
      "     BatchNorm2d-315          [-1, 256, 14, 14]             512\n",
      "            ReLU-316          [-1, 256, 14, 14]               0\n",
      "          Conv2d-317         [-1, 1024, 14, 14]         262,144\n",
      "     BatchNorm2d-318         [-1, 1024, 14, 14]           2,048\n",
      "            ReLU-319         [-1, 1024, 14, 14]               0\n",
      "      Bottleneck-320         [-1, 1024, 14, 14]               0\n",
      "          Conv2d-321          [-1, 256, 14, 14]         262,144\n",
      "     BatchNorm2d-322          [-1, 256, 14, 14]             512\n",
      "            ReLU-323          [-1, 256, 14, 14]               0\n",
      "          Conv2d-324          [-1, 256, 14, 14]         589,824\n",
      "     BatchNorm2d-325          [-1, 256, 14, 14]             512\n",
      "            ReLU-326          [-1, 256, 14, 14]               0\n",
      "          Conv2d-327         [-1, 1024, 14, 14]         262,144\n",
      "     BatchNorm2d-328         [-1, 1024, 14, 14]           2,048\n",
      "            ReLU-329         [-1, 1024, 14, 14]               0\n",
      "      Bottleneck-330         [-1, 1024, 14, 14]               0\n",
      "          Conv2d-331          [-1, 256, 14, 14]         262,144\n",
      "     BatchNorm2d-332          [-1, 256, 14, 14]             512\n",
      "            ReLU-333          [-1, 256, 14, 14]               0\n",
      "          Conv2d-334          [-1, 256, 14, 14]         589,824\n",
      "     BatchNorm2d-335          [-1, 256, 14, 14]             512\n",
      "            ReLU-336          [-1, 256, 14, 14]               0\n",
      "          Conv2d-337         [-1, 1024, 14, 14]         262,144\n",
      "     BatchNorm2d-338         [-1, 1024, 14, 14]           2,048\n",
      "            ReLU-339         [-1, 1024, 14, 14]               0\n",
      "      Bottleneck-340         [-1, 1024, 14, 14]               0\n",
      "          Conv2d-341          [-1, 256, 14, 14]         262,144\n",
      "     BatchNorm2d-342          [-1, 256, 14, 14]             512\n",
      "            ReLU-343          [-1, 256, 14, 14]               0\n",
      "          Conv2d-344          [-1, 256, 14, 14]         589,824\n",
      "     BatchNorm2d-345          [-1, 256, 14, 14]             512\n",
      "            ReLU-346          [-1, 256, 14, 14]               0\n",
      "          Conv2d-347         [-1, 1024, 14, 14]         262,144\n",
      "     BatchNorm2d-348         [-1, 1024, 14, 14]           2,048\n",
      "            ReLU-349         [-1, 1024, 14, 14]               0\n",
      "      Bottleneck-350         [-1, 1024, 14, 14]               0\n",
      "          Conv2d-351          [-1, 256, 14, 14]         262,144\n",
      "     BatchNorm2d-352          [-1, 256, 14, 14]             512\n",
      "            ReLU-353          [-1, 256, 14, 14]               0\n",
      "          Conv2d-354          [-1, 256, 14, 14]         589,824\n",
      "     BatchNorm2d-355          [-1, 256, 14, 14]             512\n",
      "            ReLU-356          [-1, 256, 14, 14]               0\n",
      "          Conv2d-357         [-1, 1024, 14, 14]         262,144\n",
      "     BatchNorm2d-358         [-1, 1024, 14, 14]           2,048\n",
      "            ReLU-359         [-1, 1024, 14, 14]               0\n",
      "      Bottleneck-360         [-1, 1024, 14, 14]               0\n",
      "          Conv2d-361          [-1, 256, 14, 14]         262,144\n",
      "     BatchNorm2d-362          [-1, 256, 14, 14]             512\n",
      "            ReLU-363          [-1, 256, 14, 14]               0\n",
      "          Conv2d-364          [-1, 256, 14, 14]         589,824\n",
      "     BatchNorm2d-365          [-1, 256, 14, 14]             512\n",
      "            ReLU-366          [-1, 256, 14, 14]               0\n",
      "          Conv2d-367         [-1, 1024, 14, 14]         262,144\n",
      "     BatchNorm2d-368         [-1, 1024, 14, 14]           2,048\n",
      "            ReLU-369         [-1, 1024, 14, 14]               0\n",
      "      Bottleneck-370         [-1, 1024, 14, 14]               0\n",
      "          Conv2d-371          [-1, 256, 14, 14]         262,144\n",
      "     BatchNorm2d-372          [-1, 256, 14, 14]             512\n",
      "            ReLU-373          [-1, 256, 14, 14]               0\n",
      "          Conv2d-374          [-1, 256, 14, 14]         589,824\n",
      "     BatchNorm2d-375          [-1, 256, 14, 14]             512\n",
      "            ReLU-376          [-1, 256, 14, 14]               0\n",
      "          Conv2d-377         [-1, 1024, 14, 14]         262,144\n",
      "     BatchNorm2d-378         [-1, 1024, 14, 14]           2,048\n",
      "            ReLU-379         [-1, 1024, 14, 14]               0\n",
      "      Bottleneck-380         [-1, 1024, 14, 14]               0\n",
      "          Conv2d-381          [-1, 256, 14, 14]         262,144\n",
      "     BatchNorm2d-382          [-1, 256, 14, 14]             512\n",
      "            ReLU-383          [-1, 256, 14, 14]               0\n",
      "          Conv2d-384          [-1, 256, 14, 14]         589,824\n",
      "     BatchNorm2d-385          [-1, 256, 14, 14]             512\n",
      "            ReLU-386          [-1, 256, 14, 14]               0\n",
      "          Conv2d-387         [-1, 1024, 14, 14]         262,144\n",
      "     BatchNorm2d-388         [-1, 1024, 14, 14]           2,048\n",
      "            ReLU-389         [-1, 1024, 14, 14]               0\n",
      "      Bottleneck-390         [-1, 1024, 14, 14]               0\n",
      "          Conv2d-391          [-1, 256, 14, 14]         262,144\n",
      "     BatchNorm2d-392          [-1, 256, 14, 14]             512\n",
      "            ReLU-393          [-1, 256, 14, 14]               0\n",
      "          Conv2d-394          [-1, 256, 14, 14]         589,824\n",
      "     BatchNorm2d-395          [-1, 256, 14, 14]             512\n",
      "            ReLU-396          [-1, 256, 14, 14]               0\n",
      "          Conv2d-397         [-1, 1024, 14, 14]         262,144\n",
      "     BatchNorm2d-398         [-1, 1024, 14, 14]           2,048\n",
      "            ReLU-399         [-1, 1024, 14, 14]               0\n",
      "      Bottleneck-400         [-1, 1024, 14, 14]               0\n",
      "          Conv2d-401          [-1, 256, 14, 14]         262,144\n",
      "     BatchNorm2d-402          [-1, 256, 14, 14]             512\n",
      "            ReLU-403          [-1, 256, 14, 14]               0\n",
      "          Conv2d-404          [-1, 256, 14, 14]         589,824\n",
      "     BatchNorm2d-405          [-1, 256, 14, 14]             512\n",
      "            ReLU-406          [-1, 256, 14, 14]               0\n",
      "          Conv2d-407         [-1, 1024, 14, 14]         262,144\n",
      "     BatchNorm2d-408         [-1, 1024, 14, 14]           2,048\n",
      "            ReLU-409         [-1, 1024, 14, 14]               0\n",
      "      Bottleneck-410         [-1, 1024, 14, 14]               0\n",
      "          Conv2d-411          [-1, 256, 14, 14]         262,144\n",
      "     BatchNorm2d-412          [-1, 256, 14, 14]             512\n",
      "            ReLU-413          [-1, 256, 14, 14]               0\n",
      "          Conv2d-414          [-1, 256, 14, 14]         589,824\n",
      "     BatchNorm2d-415          [-1, 256, 14, 14]             512\n",
      "            ReLU-416          [-1, 256, 14, 14]               0\n",
      "          Conv2d-417         [-1, 1024, 14, 14]         262,144\n",
      "     BatchNorm2d-418         [-1, 1024, 14, 14]           2,048\n",
      "            ReLU-419         [-1, 1024, 14, 14]               0\n",
      "      Bottleneck-420         [-1, 1024, 14, 14]               0\n",
      "          Conv2d-421          [-1, 256, 14, 14]         262,144\n",
      "     BatchNorm2d-422          [-1, 256, 14, 14]             512\n",
      "            ReLU-423          [-1, 256, 14, 14]               0\n",
      "          Conv2d-424          [-1, 256, 14, 14]         589,824\n",
      "     BatchNorm2d-425          [-1, 256, 14, 14]             512\n",
      "            ReLU-426          [-1, 256, 14, 14]               0\n",
      "          Conv2d-427         [-1, 1024, 14, 14]         262,144\n",
      "     BatchNorm2d-428         [-1, 1024, 14, 14]           2,048\n",
      "            ReLU-429         [-1, 1024, 14, 14]               0\n",
      "      Bottleneck-430         [-1, 1024, 14, 14]               0\n",
      "          Conv2d-431          [-1, 256, 14, 14]         262,144\n",
      "     BatchNorm2d-432          [-1, 256, 14, 14]             512\n",
      "            ReLU-433          [-1, 256, 14, 14]               0\n",
      "          Conv2d-434          [-1, 256, 14, 14]         589,824\n",
      "     BatchNorm2d-435          [-1, 256, 14, 14]             512\n",
      "            ReLU-436          [-1, 256, 14, 14]               0\n",
      "          Conv2d-437         [-1, 1024, 14, 14]         262,144\n",
      "     BatchNorm2d-438         [-1, 1024, 14, 14]           2,048\n",
      "            ReLU-439         [-1, 1024, 14, 14]               0\n",
      "      Bottleneck-440         [-1, 1024, 14, 14]               0\n",
      "          Conv2d-441          [-1, 256, 14, 14]         262,144\n",
      "     BatchNorm2d-442          [-1, 256, 14, 14]             512\n",
      "            ReLU-443          [-1, 256, 14, 14]               0\n",
      "          Conv2d-444          [-1, 256, 14, 14]         589,824\n",
      "     BatchNorm2d-445          [-1, 256, 14, 14]             512\n",
      "            ReLU-446          [-1, 256, 14, 14]               0\n",
      "          Conv2d-447         [-1, 1024, 14, 14]         262,144\n",
      "     BatchNorm2d-448         [-1, 1024, 14, 14]           2,048\n",
      "            ReLU-449         [-1, 1024, 14, 14]               0\n",
      "      Bottleneck-450         [-1, 1024, 14, 14]               0\n",
      "          Conv2d-451          [-1, 256, 14, 14]         262,144\n",
      "     BatchNorm2d-452          [-1, 256, 14, 14]             512\n",
      "            ReLU-453          [-1, 256, 14, 14]               0\n",
      "          Conv2d-454          [-1, 256, 14, 14]         589,824\n",
      "     BatchNorm2d-455          [-1, 256, 14, 14]             512\n",
      "            ReLU-456          [-1, 256, 14, 14]               0\n",
      "          Conv2d-457         [-1, 1024, 14, 14]         262,144\n",
      "     BatchNorm2d-458         [-1, 1024, 14, 14]           2,048\n",
      "            ReLU-459         [-1, 1024, 14, 14]               0\n",
      "      Bottleneck-460         [-1, 1024, 14, 14]               0\n",
      "          Conv2d-461          [-1, 256, 14, 14]         262,144\n",
      "     BatchNorm2d-462          [-1, 256, 14, 14]             512\n",
      "            ReLU-463          [-1, 256, 14, 14]               0\n",
      "          Conv2d-464          [-1, 256, 14, 14]         589,824\n",
      "     BatchNorm2d-465          [-1, 256, 14, 14]             512\n",
      "            ReLU-466          [-1, 256, 14, 14]               0\n",
      "          Conv2d-467         [-1, 1024, 14, 14]         262,144\n",
      "     BatchNorm2d-468         [-1, 1024, 14, 14]           2,048\n",
      "            ReLU-469         [-1, 1024, 14, 14]               0\n",
      "      Bottleneck-470         [-1, 1024, 14, 14]               0\n",
      "          Conv2d-471          [-1, 256, 14, 14]         262,144\n",
      "     BatchNorm2d-472          [-1, 256, 14, 14]             512\n",
      "            ReLU-473          [-1, 256, 14, 14]               0\n",
      "          Conv2d-474          [-1, 256, 14, 14]         589,824\n",
      "     BatchNorm2d-475          [-1, 256, 14, 14]             512\n",
      "            ReLU-476          [-1, 256, 14, 14]               0\n",
      "          Conv2d-477         [-1, 1024, 14, 14]         262,144\n",
      "     BatchNorm2d-478         [-1, 1024, 14, 14]           2,048\n",
      "            ReLU-479         [-1, 1024, 14, 14]               0\n",
      "      Bottleneck-480         [-1, 1024, 14, 14]               0\n",
      "          Conv2d-481          [-1, 512, 14, 14]         524,288\n",
      "     BatchNorm2d-482          [-1, 512, 14, 14]           1,024\n",
      "            ReLU-483          [-1, 512, 14, 14]               0\n",
      "          Conv2d-484            [-1, 512, 7, 7]       2,359,296\n",
      "     BatchNorm2d-485            [-1, 512, 7, 7]           1,024\n",
      "            ReLU-486            [-1, 512, 7, 7]               0\n",
      "          Conv2d-487           [-1, 2048, 7, 7]       1,048,576\n",
      "     BatchNorm2d-488           [-1, 2048, 7, 7]           4,096\n",
      "          Conv2d-489           [-1, 2048, 7, 7]       2,097,152\n",
      "     BatchNorm2d-490           [-1, 2048, 7, 7]           4,096\n",
      "            ReLU-491           [-1, 2048, 7, 7]               0\n",
      "      Bottleneck-492           [-1, 2048, 7, 7]               0\n",
      "          Conv2d-493            [-1, 512, 7, 7]       1,048,576\n",
      "     BatchNorm2d-494            [-1, 512, 7, 7]           1,024\n",
      "            ReLU-495            [-1, 512, 7, 7]               0\n",
      "          Conv2d-496            [-1, 512, 7, 7]       2,359,296\n",
      "     BatchNorm2d-497            [-1, 512, 7, 7]           1,024\n",
      "            ReLU-498            [-1, 512, 7, 7]               0\n",
      "          Conv2d-499           [-1, 2048, 7, 7]       1,048,576\n",
      "     BatchNorm2d-500           [-1, 2048, 7, 7]           4,096\n",
      "            ReLU-501           [-1, 2048, 7, 7]               0\n",
      "      Bottleneck-502           [-1, 2048, 7, 7]               0\n",
      "          Conv2d-503            [-1, 512, 7, 7]       1,048,576\n",
      "     BatchNorm2d-504            [-1, 512, 7, 7]           1,024\n",
      "            ReLU-505            [-1, 512, 7, 7]               0\n",
      "          Conv2d-506            [-1, 512, 7, 7]       2,359,296\n",
      "     BatchNorm2d-507            [-1, 512, 7, 7]           1,024\n",
      "            ReLU-508            [-1, 512, 7, 7]               0\n",
      "          Conv2d-509           [-1, 2048, 7, 7]       1,048,576\n",
      "     BatchNorm2d-510           [-1, 2048, 7, 7]           4,096\n",
      "            ReLU-511           [-1, 2048, 7, 7]               0\n",
      "      Bottleneck-512           [-1, 2048, 7, 7]               0\n",
      "AdaptiveAvgPool2d-513           [-1, 2048, 1, 1]               0\n",
      "AdaptiveAvgPool2d-514           [-1, 2048, 1, 1]               0\n",
      "AdaptiveAvgPool2d-515           [-1, 2048, 1, 1]               0\n",
      "AdaptiveAvgPool2d-516           [-1, 2048, 1, 1]               0\n",
      "         Flatten-517                 [-1, 2048]               0\n",
      "TransferLearningBackbone-518                 [-1, 2048]               0\n",
      "         Dropout-519                 [-1, 2048]               0\n",
      "          Linear-520                 [-1, 1024]       2,098,176\n",
      "     BatchNorm1d-521                 [-1, 1024]           2,048\n",
      "         Dropout-522                 [-1, 1024]               0\n",
      "          Linear-523                  [-1, 128]         131,200\n",
      "     BatchNorm1d-524                  [-1, 128]             256\n",
      "         Dropout-525                  [-1, 128]               0\n",
      "          Linear-526                   [-1, 10]           1,290\n",
      "ResNetClassifier-527                   [-1, 10]               0\n",
      "          Linear-528                 [-1, 1024]       2,098,176\n"
     ]
    },
    {
     "name": "stdout",
     "output_type": "stream",
     "text": [
      "     BatchNorm1d-529                 [-1, 1024]           2,048\n",
      "          Linear-530                  [-1, 512]         524,800\n",
      "     BatchNorm1d-531                  [-1, 512]           1,024\n",
      "          Linear-532                  [-1, 256]         131,328\n",
      "     BatchNorm1d-533                  [-1, 256]             512\n",
      "          Linear-534                  [-1, 128]          32,896\n",
      "     BatchNorm1d-535                  [-1, 128]             256\n",
      "          Linear-536                    [-1, 4]             516\n",
      " ResNetRegressor-537                    [-1, 4]               0\n",
      "================================================================\n",
      "Total params: 63,168,334\n",
      "Trainable params: 63,168,334\n",
      "Non-trainable params: 0\n",
      "----------------------------------------------------------------\n",
      "Input size (MB): 0.57\n",
      "Forward/backward pass size (MB): 606.73\n",
      "Params size (MB): 240.97\n",
      "Estimated Total Size (MB): 848.27\n",
      "----------------------------------------------------------------\n"
     ]
    }
   ],
   "source": [
    "restnet_model = Model(backbone=resnet_backbone, classifier=resnet_classifier, regressor=resnet_regressor).to(device)\n",
    "summary(restnet_model, input_size=(3, 224, 224))"
   ]
  },
  {
   "cell_type": "markdown",
   "metadata": {},
   "source": [
    "### Train Model"
   ]
  },
  {
   "cell_type": "code",
   "execution_count": null,
   "metadata": {},
   "outputs": [],
   "source": [
    "train_ds = MNISTDataset(train_df, gray=False, root_dir=config_dict['train_images_dir'], transform=train_transforms)\n",
    "test_ds = MNISTDataset(test_df, gray=False, root_dir=config_dict['train_images_dir'], transform=eval_transforms)\n",
    "\n",
    "train_data = DataLoader(train_ds, batch_size=config_dict['batch_size'], shuffle=True, num_workers=cpu_count())\n",
    "test_data = DataLoader(test_ds, batch_size=config_dict['batch_size'], num_workers=cpu_count())"
   ]
  },
  {
   "cell_type": "code",
   "execution_count": null,
   "metadata": {},
   "outputs": [],
   "source": [
    "train_result = train(\n",
    "    restnet_model,\n",
    "    optimizer,\n",
    "    train_data,\n",
    "    eval_datasets=[('val', test_data)],\n",
    "    loss_fn=loss_fn,\n",
    "    metrics={\n",
    "        'bbox': [('iou', iou)],\n",
    "        'class_id': [('accuracy', accuracy)]\n",
    "    },\n",
    "    callbacks=[printer],\n",
    "    device=device,\n",
    "    train_steps=config_dict['num_epochs'],\n",
    "    eval_steps=5,\n",
    ")\n",
    "\n",
    "model = train_result['model']"
   ]
  },
  {
   "cell_type": "markdown",
   "metadata": {},
   "source": [
    "### AlexNet"
   ]
  },
  {
   "cell_type": "code",
   "execution_count": 47,
   "metadata": {
    "ExecuteTime": {
     "end_time": "2022-12-10T21:29:52.842761Z",
     "start_time": "2022-12-10T21:29:35.244077Z"
    }
   },
   "outputs": [
    {
     "name": "stderr",
     "output_type": "stream",
     "text": [
      "Downloading: \"https://download.pytorch.org/models/alexnet-owt-7be5be79.pth\" to /root/.cache/torch/hub/checkpoints/alexnet-owt-7be5be79.pth\n"
     ]
    },
    {
     "data": {
      "application/vnd.jupyter.widget-view+json": {
       "model_id": "112657d47da0446bb394594800f491f0",
       "version_major": 2,
       "version_minor": 0
      },
      "text/plain": [
       "  0%|          | 0.00/233M [00:00<?, ?B/s]"
      ]
     },
     "metadata": {},
     "output_type": "display_data"
    }
   ],
   "source": [
    "alexnet_pretrained = alexnet(pretrained=True, progress=True).to(device)"
   ]
  },
  {
   "cell_type": "code",
   "execution_count": 48,
   "metadata": {
    "ExecuteTime": {
     "end_time": "2022-12-10T21:29:52.890785Z",
     "start_time": "2022-12-10T21:29:52.867533Z"
    },
    "scrolled": true
   },
   "outputs": [
    {
     "name": "stdout",
     "output_type": "stream",
     "text": [
      "----------------------------------------------------------------\n",
      "        Layer (type)               Output Shape         Param #\n",
      "================================================================\n",
      "            Conv2d-1           [-1, 64, 55, 55]          23,296\n",
      "              ReLU-2           [-1, 64, 55, 55]               0\n",
      "         MaxPool2d-3           [-1, 64, 27, 27]               0\n",
      "            Conv2d-4          [-1, 192, 27, 27]         307,392\n",
      "              ReLU-5          [-1, 192, 27, 27]               0\n",
      "         MaxPool2d-6          [-1, 192, 13, 13]               0\n",
      "            Conv2d-7          [-1, 384, 13, 13]         663,936\n",
      "              ReLU-8          [-1, 384, 13, 13]               0\n",
      "            Conv2d-9          [-1, 256, 13, 13]         884,992\n",
      "             ReLU-10          [-1, 256, 13, 13]               0\n",
      "           Conv2d-11          [-1, 256, 13, 13]         590,080\n",
      "             ReLU-12          [-1, 256, 13, 13]               0\n",
      "        MaxPool2d-13            [-1, 256, 6, 6]               0\n",
      "AdaptiveAvgPool2d-14            [-1, 256, 6, 6]               0\n",
      "          Dropout-15                 [-1, 9216]               0\n",
      "           Linear-16                 [-1, 4096]      37,752,832\n",
      "             ReLU-17                 [-1, 4096]               0\n",
      "          Dropout-18                 [-1, 4096]               0\n",
      "           Linear-19                 [-1, 4096]      16,781,312\n",
      "             ReLU-20                 [-1, 4096]               0\n",
      "           Linear-21                 [-1, 1000]       4,097,000\n",
      "================================================================\n",
      "Total params: 61,100,840\n",
      "Trainable params: 61,100,840\n",
      "Non-trainable params: 0\n",
      "----------------------------------------------------------------\n",
      "Input size (MB): 0.57\n",
      "Forward/backward pass size (MB): 8.38\n",
      "Params size (MB): 233.08\n",
      "Estimated Total Size (MB): 242.03\n",
      "----------------------------------------------------------------\n"
     ]
    }
   ],
   "source": [
    "summary(alexnet_pretrained, input_size=(3,224,224))"
   ]
  },
  {
   "cell_type": "markdown",
   "metadata": {},
   "source": [
    "### Model for classification and regression using transfer learning"
   ]
  },
  {
   "cell_type": "code",
   "execution_count": 53,
   "metadata": {
    "ExecuteTime": {
     "end_time": "2022-12-10T21:32:24.675231Z",
     "start_time": "2022-12-10T21:32:24.665027Z"
    }
   },
   "outputs": [
    {
     "name": "stdout",
     "output_type": "stream",
     "text": [
      "----------------------------------------------------------------\n",
      "        Layer (type)               Output Shape         Param #\n",
      "================================================================\n",
      "            Conv2d-1           [-1, 64, 55, 55]          23,296\n",
      "              ReLU-2           [-1, 64, 55, 55]               0\n",
      "         MaxPool2d-3           [-1, 64, 27, 27]               0\n",
      "            Conv2d-4          [-1, 192, 27, 27]         307,392\n",
      "              ReLU-5          [-1, 192, 27, 27]               0\n",
      "         MaxPool2d-6          [-1, 192, 13, 13]               0\n",
      "            Conv2d-7          [-1, 384, 13, 13]         663,936\n",
      "              ReLU-8          [-1, 384, 13, 13]               0\n",
      "            Conv2d-9          [-1, 256, 13, 13]         884,992\n",
      "             ReLU-10          [-1, 256, 13, 13]               0\n",
      "           Conv2d-11          [-1, 256, 13, 13]         590,080\n",
      "             ReLU-12          [-1, 256, 13, 13]               0\n",
      "        MaxPool2d-13            [-1, 256, 6, 6]               0\n",
      "AdaptiveAvgPool2d-14            [-1, 256, 6, 6]               0\n",
      "AdaptiveAvgPool2d-15            [-1, 256, 6, 6]               0\n",
      "AdaptiveAvgPool2d-16            [-1, 256, 6, 6]               0\n",
      "AdaptiveAvgPool2d-17            [-1, 256, 6, 6]               0\n",
      "          Flatten-18                 [-1, 9216]               0\n",
      "================================================================\n",
      "Total params: 2,469,696\n",
      "Trainable params: 2,469,696\n",
      "Non-trainable params: 0\n",
      "----------------------------------------------------------------\n",
      "Input size (MB): 0.57\n",
      "Forward/backward pass size (MB): 8.43\n",
      "Params size (MB): 9.42\n",
      "Estimated Total Size (MB): 18.42\n",
      "----------------------------------------------------------------\n"
     ]
    }
   ],
   "source": [
    "alexnet_backbone = TransferLearningBackbone(alexnet_pretrained).to(device)\n",
    "summary(alexnet_backbone, input_size=(3, 224, 224))"
   ]
  },
  {
   "cell_type": "code",
   "execution_count": 56,
   "metadata": {
    "ExecuteTime": {
     "end_time": "2022-12-10T21:37:12.407522Z",
     "start_time": "2022-12-10T21:37:12.405743Z"
    }
   },
   "outputs": [],
   "source": [
    "alexnet_backbone_output_shape = 9216"
   ]
  },
  {
   "cell_type": "code",
   "execution_count": 58,
   "metadata": {
    "ExecuteTime": {
     "end_time": "2022-12-10T21:37:29.671243Z",
     "start_time": "2022-12-10T21:37:29.667383Z"
    }
   },
   "outputs": [],
   "source": [
    "class AlexNetClassifier(nn.Module):\n",
    "    def __init__(self, input_size: int, n_classes: int):\n",
    "        super().__init__()\n",
    "        self.input_size = input_size\n",
    "        self.n_classes = n_classes\n",
    "        \n",
    "        self.model = nn.Sequential(\n",
    "            nn.Dropout(0.4),\n",
    "            nn.Linear(in_features = self.input_size, out_features=4096), # Shape transformation: (9216) -> (4096)\n",
    "            nn.BatchNorm1d(4096),\n",
    "            nn.Dropout(0.4),\n",
    "            nn.Linear(in_features = 4096, out_features=2048), # Shape transformation: (4096) -> (2048)\n",
    "            nn.BatchNorm1d(2048),\n",
    "            nn.Dropout(0.4),\n",
    "            nn.Linear(in_features = 2048, out_features=1024), # Shape transformation: (2048) -> (1024)\n",
    "            nn.BatchNorm1d(1024),\n",
    "            nn.Dropout(0.4),\n",
    "            nn.Linear(in_features = 1024, out_features=512), # Shape transformation: (1024) -> (512)\n",
    "            nn.BatchNorm1d(512),\n",
    "            nn.Dropout(0.4),\n",
    "            nn.Linear(in_features = 512, out_features=256), # Shape transformation: (512) -> (256)\n",
    "            nn.BatchNorm1d(256),\n",
    "            nn.Dropout(0.4),\n",
    "            nn.Linear(in_features = 256, out_features=128), # Shape transformation: (256) -> (128)\n",
    "            nn.BatchNorm1d(128),\n",
    "            nn.Dropout(0.4),\n",
    "            nn.Linear(in_features = 128, out_features = self.n_classes), # Shape transformation: (128) -> (10)\n",
    "        )\n",
    "    \n",
    "    def forward(self, x):\n",
    "        return self.model(x)"
   ]
  },
  {
   "cell_type": "code",
   "execution_count": 59,
   "metadata": {
    "ExecuteTime": {
     "end_time": "2022-12-10T21:37:30.938478Z",
     "start_time": "2022-12-10T21:37:30.751254Z"
    }
   },
   "outputs": [
    {
     "name": "stdout",
     "output_type": "stream",
     "text": [
      "----------------------------------------------------------------\n",
      "        Layer (type)               Output Shape         Param #\n",
      "================================================================\n",
      "           Dropout-1                 [-1, 9216]               0\n",
      "            Linear-2                 [-1, 4096]      37,752,832\n",
      "       BatchNorm1d-3                 [-1, 4096]           8,192\n",
      "           Dropout-4                 [-1, 4096]               0\n",
      "            Linear-5                 [-1, 2048]       8,390,656\n",
      "       BatchNorm1d-6                 [-1, 2048]           4,096\n",
      "           Dropout-7                 [-1, 2048]               0\n",
      "            Linear-8                 [-1, 1024]       2,098,176\n",
      "       BatchNorm1d-9                 [-1, 1024]           2,048\n",
      "          Dropout-10                 [-1, 1024]               0\n",
      "           Linear-11                  [-1, 512]         524,800\n",
      "      BatchNorm1d-12                  [-1, 512]           1,024\n",
      "          Dropout-13                  [-1, 512]               0\n",
      "           Linear-14                  [-1, 256]         131,328\n",
      "      BatchNorm1d-15                  [-1, 256]             512\n",
      "          Dropout-16                  [-1, 256]               0\n",
      "           Linear-17                  [-1, 128]          32,896\n",
      "      BatchNorm1d-18                  [-1, 128]             256\n",
      "          Dropout-19                  [-1, 128]               0\n",
      "           Linear-20                   [-1, 10]           1,290\n",
      "================================================================\n",
      "Total params: 48,948,106\n",
      "Trainable params: 48,948,106\n",
      "Non-trainable params: 0\n",
      "----------------------------------------------------------------\n",
      "Input size (MB): 0.04\n",
      "Forward/backward pass size (MB): 0.25\n",
      "Params size (MB): 186.72\n",
      "Estimated Total Size (MB): 187.01\n",
      "----------------------------------------------------------------\n"
     ]
    }
   ],
   "source": [
    "alexnet_classifier = AlexNetClassifier(input_size=alexnet_backbone_output_shape, n_classes=config_dict['num_classes']).to(device)\n",
    "summary(alexnet_classifier, input_size=(alexnet_backbone_output_shape,))"
   ]
  },
  {
   "cell_type": "code",
   "execution_count": 60,
   "metadata": {
    "ExecuteTime": {
     "end_time": "2022-12-10T21:39:02.701696Z",
     "start_time": "2022-12-10T21:39:02.697912Z"
    }
   },
   "outputs": [],
   "source": [
    "class AlexNetRegressor(nn.Module):\n",
    "    def __init__(self, input_size: int):\n",
    "        super().__init__()\n",
    "        self.input_size = input_size\n",
    "        self.model = nn.Sequential(\n",
    "            nn.Linear(in_features = self.input_size, out_features=2048), # Shape transformation: (9.216) -> (4.096)\n",
    "            nn.BatchNorm1d(2048),\n",
    "            nn.Linear(in_features = 2048, out_features=1024), # Shape transformation: (9.216) -> (4.096)\n",
    "            nn.BatchNorm1d(1024),\n",
    "            # nn.Dropout(0.4),\n",
    "            nn.Linear(in_features = 1024, out_features=512), # Shape transformation: (4.096) -> (2.048)\n",
    "            nn.BatchNorm1d(512),\n",
    "            # nn.Dropout(0.4),\n",
    "            nn.Linear(in_features = 512, out_features=256), # Shape transformation: (2.048) -> (1.024)\n",
    "            nn.BatchNorm1d(256),\n",
    "            # nn.Dropout(0.4),\n",
    "            nn.Linear(in_features = 256, out_features=128), # Shape transformation: (1.024) -> (128)\n",
    "            nn.BatchNorm1d(128),\n",
    "            # nn.Dropout(0.4),\n",
    "            nn.Linear(in_features = 128, out_features = 4), # Shape transformation: (128) -> (4)\n",
    "        )\n",
    "    \n",
    "    def forward(self, x):\n",
    "        return self.model(x)"
   ]
  },
  {
   "cell_type": "code",
   "execution_count": 62,
   "metadata": {
    "ExecuteTime": {
     "end_time": "2022-12-10T21:39:14.701399Z",
     "start_time": "2022-12-10T21:39:14.582133Z"
    },
    "scrolled": true
   },
   "outputs": [
    {
     "name": "stdout",
     "output_type": "stream",
     "text": [
      "----------------------------------------------------------------\n",
      "        Layer (type)               Output Shape         Param #\n",
      "================================================================\n",
      "            Linear-1                 [-1, 2048]      18,876,416\n",
      "       BatchNorm1d-2                 [-1, 2048]           4,096\n",
      "            Linear-3                 [-1, 1024]       2,098,176\n",
      "       BatchNorm1d-4                 [-1, 1024]           2,048\n",
      "            Linear-5                  [-1, 512]         524,800\n",
      "       BatchNorm1d-6                  [-1, 512]           1,024\n",
      "            Linear-7                  [-1, 256]         131,328\n",
      "       BatchNorm1d-8                  [-1, 256]             512\n",
      "            Linear-9                  [-1, 128]          32,896\n",
      "      BatchNorm1d-10                  [-1, 128]             256\n",
      "           Linear-11                    [-1, 4]             516\n",
      "================================================================\n",
      "Total params: 21,672,068\n",
      "Trainable params: 21,672,068\n",
      "Non-trainable params: 0\n",
      "----------------------------------------------------------------\n",
      "Input size (MB): 0.04\n",
      "Forward/backward pass size (MB): 0.06\n",
      "Params size (MB): 82.67\n",
      "Estimated Total Size (MB): 82.77\n",
      "----------------------------------------------------------------\n"
     ]
    }
   ],
   "source": [
    "alexnet_regressor = AlexNetRegressor(input_size=alexnet_backbone_output_shape).to(device)\n",
    "summary(alexnet_regressor, input_size=(alexnet_backbone_output_shape,))"
   ]
  },
  {
   "cell_type": "markdown",
   "metadata": {
    "ExecuteTime": {
     "end_time": "2022-12-09T23:02:36.376480Z",
     "start_time": "2022-12-09T23:02:36.373097Z"
    }
   },
   "source": [
    "Definimos nuestro modelo para la clasificación y la regresion"
   ]
  },
  {
   "cell_type": "code",
   "execution_count": 63,
   "metadata": {
    "ExecuteTime": {
     "end_time": "2022-12-10T21:39:41.687080Z",
     "start_time": "2022-12-10T21:39:41.669467Z"
    }
   },
   "outputs": [
    {
     "name": "stdout",
     "output_type": "stream",
     "text": [
      "----------------------------------------------------------------\n",
      "        Layer (type)               Output Shape         Param #\n",
      "================================================================\n",
      "            Conv2d-1           [-1, 64, 55, 55]          23,296\n",
      "              ReLU-2           [-1, 64, 55, 55]               0\n",
      "         MaxPool2d-3           [-1, 64, 27, 27]               0\n",
      "            Conv2d-4          [-1, 192, 27, 27]         307,392\n",
      "              ReLU-5          [-1, 192, 27, 27]               0\n",
      "         MaxPool2d-6          [-1, 192, 13, 13]               0\n",
      "            Conv2d-7          [-1, 384, 13, 13]         663,936\n",
      "              ReLU-8          [-1, 384, 13, 13]               0\n",
      "            Conv2d-9          [-1, 256, 13, 13]         884,992\n",
      "             ReLU-10          [-1, 256, 13, 13]               0\n",
      "           Conv2d-11          [-1, 256, 13, 13]         590,080\n",
      "             ReLU-12          [-1, 256, 13, 13]               0\n",
      "        MaxPool2d-13            [-1, 256, 6, 6]               0\n",
      "AdaptiveAvgPool2d-14            [-1, 256, 6, 6]               0\n",
      "AdaptiveAvgPool2d-15            [-1, 256, 6, 6]               0\n",
      "AdaptiveAvgPool2d-16            [-1, 256, 6, 6]               0\n",
      "AdaptiveAvgPool2d-17            [-1, 256, 6, 6]               0\n",
      "          Flatten-18                 [-1, 9216]               0\n",
      "TransferLearningBackbone-19                 [-1, 9216]               0\n",
      "          Dropout-20                 [-1, 9216]               0\n",
      "           Linear-21                 [-1, 4096]      37,752,832\n",
      "      BatchNorm1d-22                 [-1, 4096]           8,192\n",
      "          Dropout-23                 [-1, 4096]               0\n",
      "           Linear-24                 [-1, 2048]       8,390,656\n",
      "      BatchNorm1d-25                 [-1, 2048]           4,096\n",
      "          Dropout-26                 [-1, 2048]               0\n",
      "           Linear-27                 [-1, 1024]       2,098,176\n",
      "      BatchNorm1d-28                 [-1, 1024]           2,048\n",
      "          Dropout-29                 [-1, 1024]               0\n",
      "           Linear-30                  [-1, 512]         524,800\n",
      "      BatchNorm1d-31                  [-1, 512]           1,024\n",
      "          Dropout-32                  [-1, 512]               0\n",
      "           Linear-33                  [-1, 256]         131,328\n",
      "      BatchNorm1d-34                  [-1, 256]             512\n",
      "          Dropout-35                  [-1, 256]               0\n",
      "           Linear-36                  [-1, 128]          32,896\n",
      "      BatchNorm1d-37                  [-1, 128]             256\n",
      "          Dropout-38                  [-1, 128]               0\n",
      "           Linear-39                   [-1, 10]           1,290\n",
      "AlexNetClassifier-40                   [-1, 10]               0\n",
      "           Linear-41                 [-1, 2048]      18,876,416\n",
      "      BatchNorm1d-42                 [-1, 2048]           4,096\n",
      "           Linear-43                 [-1, 1024]       2,098,176\n",
      "      BatchNorm1d-44                 [-1, 1024]           2,048\n",
      "           Linear-45                  [-1, 512]         524,800\n",
      "      BatchNorm1d-46                  [-1, 512]           1,024\n",
      "           Linear-47                  [-1, 256]         131,328\n",
      "      BatchNorm1d-48                  [-1, 256]             512\n",
      "           Linear-49                  [-1, 128]          32,896\n",
      "      BatchNorm1d-50                  [-1, 128]             256\n",
      "           Linear-51                    [-1, 4]             516\n",
      " AlexNetRegressor-52                    [-1, 4]               0\n",
      "================================================================\n",
      "Total params: 73,089,870\n",
      "Trainable params: 73,089,870\n",
      "Non-trainable params: 0\n",
      "----------------------------------------------------------------\n",
      "Input size (MB): 0.57\n",
      "Forward/backward pass size (MB): 8.81\n",
      "Params size (MB): 278.82\n",
      "Estimated Total Size (MB): 288.20\n",
      "----------------------------------------------------------------\n"
     ]
    }
   ],
   "source": [
    "alexnet_model = Model(backbone=alexnet_backbone, classifier=alexnet_classifier, regressor=alexnet_regressor).to(device)\n",
    "summary(alexnet_model, input_size=(3, 224, 224))"
   ]
  },
  {
   "cell_type": "markdown",
   "metadata": {},
   "source": [
    "### Train Model"
   ]
  },
  {
   "cell_type": "code",
   "execution_count": 64,
   "metadata": {
    "ExecuteTime": {
     "end_time": "2022-12-10T21:39:51.413327Z",
     "start_time": "2022-12-10T21:39:51.410283Z"
    }
   },
   "outputs": [
    {
     "name": "stderr",
     "output_type": "stream",
     "text": [
      "/opt/conda/lib/python3.8/site-packages/torch/utils/data/dataloader.py:478: UserWarning: This DataLoader will create 24 worker processes in total. Our suggested max number of worker in current system is 1, which is smaller than what this DataLoader is going to create. Please be aware that excessive worker creation might get DataLoader running slow or even freeze, lower the worker number to avoid potential slowness/freeze if necessary.\n",
      "  warnings.warn(_create_warning_msg(\n"
     ]
    }
   ],
   "source": [
    "train_ds = MNISTDataset(train_df, gray=False, root_dir=config_dict['train_images_dir'], transform=train_transforms)\n",
    "test_ds = MNISTDataset(test_df, gray=False, root_dir=config_dict['train_images_dir'], transform=eval_transforms)\n",
    "\n",
    "train_data = DataLoader(train_ds, batch_size=config_dict['batch_size'], shuffle=True, num_workers=cpu_count())\n",
    "test_data = DataLoader(test_ds, batch_size=config_dict['batch_size'], num_workers=cpu_count())"
   ]
  },
  {
   "cell_type": "code",
   "execution_count": 65,
   "metadata": {
    "ExecuteTime": {
     "end_time": "2022-12-10T21:40:02.535897Z",
     "start_time": "2022-12-10T21:40:02.533458Z"
    }
   },
   "outputs": [],
   "source": [
    "torch.cuda.empty_cache()"
   ]
  },
  {
   "cell_type": "code",
   "execution_count": 66,
   "metadata": {
    "ExecuteTime": {
     "end_time": "2022-12-10T21:47:38.401041Z",
     "start_time": "2022-12-10T21:40:15.928434Z"
    },
    "scrolled": true
   },
   "outputs": [
    {
     "name": "stderr",
     "output_type": "stream",
     "text": [
      "/opt/conda/lib/python3.8/site-packages/torch/utils/data/dataloader.py:478: UserWarning: This DataLoader will create 24 worker processes in total. Our suggested max number of worker in current system is 1, which is smaller than what this DataLoader is going to create. Please be aware that excessive worker creation might get DataLoader running slow or even freeze, lower the worker number to avoid potential slowness/freeze if necessary.\n",
      "  warnings.warn(_create_warning_msg(\n"
     ]
    },
    {
     "name": "stdout",
     "output_type": "stream",
     "text": [
      "Iteration #:  0\n",
      "\talpha = 0.5\n",
      "\ttrain_loss = 17.216299057006836\n",
      "\ttrain_reg_loss = 32.0\n",
      "\ttrain_cls_loss = 2.4326999187469482\n",
      "\ttrain_iou = 0.0\n",
      "\ttrain_accuracy = 0.125\n",
      "\tval_loss = 9.079400062561035\n",
      "\tval_reg_loss = 15.864800453186035\n",
      "\tval_cls_loss = 2.2939999103546143\n",
      "\tval_iou = 0.0085\n",
      "\tval_accuracy = 0.125\n",
      "\n",
      "Iteration #:  5\n",
      "\talpha = 0.519\n",
      "\ttrain_loss = 17.72879981994629\n",
      "\ttrain_reg_loss = 31.768299102783203\n",
      "\ttrain_cls_loss = 2.5773000717163086\n",
      "\ttrain_iou = 0.0072\n",
      "\ttrain_accuracy = 0.0625\n",
      "\tval_loss = 9.37559986114502\n",
      "\tval_reg_loss = 15.934000015258789\n",
      "\tval_cls_loss = 2.2976999282836914\n",
      "\tval_iou = 0.0041\n",
      "\tval_accuracy = 0.125\n",
      "\n",
      "Iteration #:  10\n",
      "\talpha = 0.5364\n",
      "\ttrain_loss = 18.29680061340332\n",
      "\ttrain_reg_loss = 31.99650001525879\n",
      "\ttrain_cls_loss = 2.4481000900268555\n",
      "\ttrain_iou = 0.0001\n",
      "\ttrain_accuracy = 0.0625\n",
      "\tval_loss = 9.553600311279297\n",
      "\tval_reg_loss = 15.834500312805176\n",
      "\tval_cls_loss = 2.287400007247925\n",
      "\tval_iou = 0.0103\n",
      "\tval_accuracy = 0.125\n",
      "\n",
      "Iteration #:  15\n",
      "\talpha = 0.5522\n",
      "\ttrain_loss = 18.66629981994629\n",
      "\ttrain_reg_loss = 31.857200622558594\n",
      "\ttrain_cls_loss = 2.4017999172210693\n",
      "\ttrain_iou = 0.0045\n",
      "\ttrain_accuracy = 0.15620000660419464\n",
      "\tval_loss = 9.790499687194824\n",
      "\tval_reg_loss = 15.86970043182373\n",
      "\tval_cls_loss = 2.2948999404907227\n",
      "\tval_iou = 0.0081\n",
      "\tval_accuracy = 0.1875\n",
      "\n",
      "Iteration #:  20\n",
      "\talpha = 0.5667\n",
      "\ttrain_loss = 19.260000228881836\n",
      "\ttrain_reg_loss = 32.0\n",
      "\ttrain_cls_loss = 2.5999999046325684\n",
      "\ttrain_iou = 0.0\n",
      "\ttrain_accuracy = 0.125\n",
      "\tval_loss = 10.040200233459473\n",
      "\tval_reg_loss = 15.96150016784668\n",
      "\tval_cls_loss = 2.2969000339508057\n",
      "\tval_iou = 0.0024\n",
      "\tval_accuracy = 0.1875\n",
      "\n",
      "Iteration #:  25\n",
      "\talpha = 0.58\n",
      "\ttrain_loss = 19.70490074157715\n",
      "\ttrain_reg_loss = 32.0\n",
      "\ttrain_cls_loss = 2.7260000705718994\n",
      "\ttrain_iou = 0.0\n",
      "\ttrain_accuracy = 0.0625\n",
      "\tval_loss = 10.246700286865234\n",
      "\tval_reg_loss = 16.0\n",
      "\tval_cls_loss = 2.301500082015991\n",
      "\tval_iou = 0.0\n",
      "\tval_accuracy = 0.1875\n",
      "\n",
      "Iteration #:  30\n",
      "\talpha = 0.5923\n",
      "\ttrain_loss = 19.948699951171875\n",
      "\ttrain_reg_loss = 32.0\n",
      "\ttrain_cls_loss = 2.440200090408325\n",
      "\ttrain_iou = 0.0\n",
      "\ttrain_accuracy = 0.125\n",
      "\tval_loss = 10.413999557495117\n",
      "\tval_reg_loss = 16.0\n",
      "\tval_cls_loss = 2.2985000610351562\n",
      "\tval_iou = 0.0\n",
      "\tval_accuracy = 0.125\n",
      "\n",
      "Iteration #:  35\n",
      "\talpha = 0.6037\n",
      "\ttrain_loss = 20.237300872802734\n",
      "\ttrain_reg_loss = 31.962799072265625\n",
      "\ttrain_cls_loss = 2.3750998973846436\n",
      "\ttrain_iou = 0.0012\n",
      "\ttrain_accuracy = 0.125\n",
      "\tval_loss = 10.572400093078613\n",
      "\tval_reg_loss = 16.0\n",
      "\tval_cls_loss = 2.3041999340057373\n",
      "\tval_iou = 0.0\n",
      "\tval_accuracy = 0.125\n",
      "\n",
      "Iteration #:  40\n",
      "\talpha = 0.6143\n",
      "\ttrain_loss = 20.46649932861328\n",
      "\ttrain_reg_loss = 31.778900146484375\n",
      "\ttrain_cls_loss = 2.450500011444092\n",
      "\ttrain_iou = 0.0069\n",
      "\ttrain_accuracy = 0.125\n",
      "\tval_loss = 10.705599784851074\n",
      "\tval_reg_loss = 15.980600357055664\n",
      "\tval_cls_loss = 2.304800033569336\n",
      "\tval_iou = 0.0012\n",
      "\tval_accuracy = 0.125\n",
      "\n",
      "Iteration #:  45\n",
      "\talpha = 0.6241\n",
      "\ttrain_loss = 20.776899337768555\n",
      "\ttrain_reg_loss = 31.701499938964844\n",
      "\ttrain_cls_loss = 2.6359000205993652\n",
      "\ttrain_iou = 0.0093\n",
      "\ttrain_accuracy = 0.0625\n",
      "\tval_loss = 10.853099822998047\n",
      "\tval_reg_loss = 16.0\n",
      "\tval_cls_loss = 2.30649995803833\n",
      "\tval_iou = 0.0\n",
      "\tval_accuracy = 0.1875\n",
      "\n",
      "Iteration #:  50\n",
      "\talpha = 0.6333\n",
      "\ttrain_loss = 21.16790008544922\n",
      "\ttrain_reg_loss = 32.0\n",
      "\ttrain_cls_loss = 2.4579999446868896\n",
      "\ttrain_iou = 0.0\n",
      "\ttrain_accuracy = 0.125\n",
      "\tval_loss = 10.981300354003906\n",
      "\tval_reg_loss = 16.0\n",
      "\tval_cls_loss = 2.3125998973846436\n",
      "\tval_iou = 0.0\n",
      "\tval_accuracy = 0.125\n",
      "\n",
      "Iteration #:  55\n",
      "\talpha = 0.6419\n",
      "\ttrain_loss = 21.192800521850586\n",
      "\ttrain_reg_loss = 31.68239974975586\n",
      "\ttrain_cls_loss = 2.38700008392334\n",
      "\ttrain_iou = 0.0099\n",
      "\ttrain_accuracy = 0.15620000660419464\n",
      "\tval_loss = 11.098699569702148\n",
      "\tval_reg_loss = 16.0\n",
      "\tval_cls_loss = 2.3115999698638916\n",
      "\tval_iou = 0.0\n",
      "\tval_accuracy = 0.125\n",
      "\n",
      "Iteration #:  60\n",
      "\talpha = 0.65\n",
      "\ttrain_loss = 21.573400497436523\n",
      "\ttrain_reg_loss = 31.87299919128418\n",
      "\ttrain_cls_loss = 2.4453999996185303\n",
      "\ttrain_iou = 0.004\n",
      "\ttrain_accuracy = 0.125\n",
      "\tval_loss = 11.208499908447266\n",
      "\tval_reg_loss = 16.0\n",
      "\tval_cls_loss = 2.3099000453948975\n",
      "\tval_iou = 0.0\n",
      "\tval_accuracy = 0.1875\n",
      "\n",
      "Iteration #:  65\n",
      "\talpha = 0.6576\n",
      "\ttrain_loss = 21.768800735473633\n",
      "\ttrain_reg_loss = 31.889999389648438\n",
      "\ttrain_cls_loss = 2.3324999809265137\n",
      "\ttrain_iou = 0.0034\n",
      "\ttrain_accuracy = 0.125\n",
      "\tval_loss = 11.312299728393555\n",
      "\tval_reg_loss = 16.0\n",
      "\tval_cls_loss = 2.31030011177063\n",
      "\tval_iou = 0.0\n",
      "\tval_accuracy = 0.1875\n",
      "\n",
      "Iteration #:  70\n",
      "\talpha = 0.6647\n",
      "\ttrain_loss = 22.141300201416016\n",
      "\ttrain_reg_loss = 32.0\n",
      "\ttrain_cls_loss = 2.5968000888824463\n",
      "\ttrain_iou = 0.0\n",
      "\ttrain_accuracy = 0.09380000084638596\n",
      "\tval_loss = 11.40880012512207\n",
      "\tval_reg_loss = 16.0\n",
      "\tval_cls_loss = 2.306999921798706\n",
      "\tval_iou = 0.0\n",
      "\tval_accuracy = 0.1875\n",
      "\n",
      "Iteration #:  75\n",
      "\talpha = 0.6714\n",
      "\ttrain_loss = 22.28969955444336\n",
      "\ttrain_reg_loss = 31.909500122070312\n",
      "\ttrain_cls_loss = 2.631999969482422\n",
      "\ttrain_iou = 0.0028\n",
      "\ttrain_accuracy = 0.09380000084638596\n",
      "\tval_loss = 11.50100040435791\n",
      "\tval_reg_loss = 16.0\n",
      "\tval_cls_loss = 2.307300090789795\n",
      "\tval_iou = 0.0\n",
      "\tval_accuracy = 0.1875\n",
      "\n",
      "Iteration #:  80\n",
      "\talpha = 0.6778\n",
      "\ttrain_loss = 22.37929916381836\n",
      "\ttrain_reg_loss = 31.83489990234375\n",
      "\ttrain_cls_loss = 2.490000009536743\n",
      "\ttrain_iou = 0.0052\n",
      "\ttrain_accuracy = 0.09380000084638596\n",
      "\tval_loss = 11.585100173950195\n",
      "\tval_reg_loss = 16.0\n",
      "\tval_cls_loss = 2.2987000942230225\n",
      "\tval_iou = 0.0\n",
      "\tval_accuracy = 0.25\n",
      "\n",
      "Iteration #:  85\n",
      "\talpha = 0.6838\n",
      "\ttrain_loss = 22.634700775146484\n",
      "\ttrain_reg_loss = 31.87700080871582\n",
      "\ttrain_cls_loss = 2.6493000984191895\n",
      "\ttrain_iou = 0.0038\n",
      "\ttrain_accuracy = 0.09380000084638596\n",
      "\tval_loss = 11.653499603271484\n",
      "\tval_reg_loss = 15.97819995880127\n",
      "\tval_cls_loss = 2.302000045776367\n",
      "\tval_iou = 0.0014\n",
      "\tval_accuracy = 0.1875\n",
      "\n",
      "Iteration #:  90\n",
      "\talpha = 0.6895\n",
      "\ttrain_loss = 22.7632999420166\n",
      "\ttrain_reg_loss = 31.84980010986328\n",
      "\ttrain_cls_loss = 2.5880000591278076\n",
      "\ttrain_iou = 0.0047\n",
      "\ttrain_accuracy = 0.09380000084638596\n",
      "\tval_loss = 11.745599746704102\n",
      "\tval_reg_loss = 16.0\n",
      "\tval_cls_loss = 2.299299955368042\n",
      "\tval_iou = 0.0\n",
      "\tval_accuracy = 0.25\n",
      "\n",
      "Iteration #:  95\n",
      "\talpha = 0.6949\n",
      "\ttrain_loss = 22.612499237060547\n",
      "\ttrain_reg_loss = 31.400999069213867\n",
      "\ttrain_cls_loss = 2.5982000827789307\n",
      "\ttrain_iou = 0.0187\n",
      "\ttrain_accuracy = 0.15620000660419464\n",
      "\tval_loss = 11.816499710083008\n",
      "\tval_reg_loss = 16.0\n",
      "\tval_cls_loss = 2.289400100708008\n",
      "\tval_iou = 0.0\n",
      "\tval_accuracy = 0.25\n",
      "\n",
      "Iteration #:  100\n",
      "\talpha = 0.7\n",
      "\ttrain_loss = 23.133399963378906\n",
      "\ttrain_reg_loss = 32.0\n",
      "\ttrain_cls_loss = 2.4447999000549316\n",
      "\ttrain_iou = 0.0\n",
      "\ttrain_accuracy = 0.125\n",
      "\tval_loss = 11.885000228881836\n",
      "\tval_reg_loss = 15.996800422668457\n",
      "\tval_cls_loss = 2.2906999588012695\n",
      "\tval_iou = 0.0002\n",
      "\tval_accuracy = 0.125\n",
      "\n",
      "Iteration #:  105\n",
      "\talpha = 0.7049\n",
      "\ttrain_loss = 23.153799057006836\n",
      "\ttrain_reg_loss = 31.710599899291992\n",
      "\ttrain_cls_loss = 2.7167000770568848\n",
      "\ttrain_iou = 0.009\n",
      "\ttrain_accuracy = 0.09380000084638596\n",
      "\tval_loss = 11.939299583435059\n",
      "\tval_reg_loss = 15.976900100708008\n",
      "\tval_cls_loss = 2.2959001064300537\n",
      "\tval_iou = 0.0014\n",
      "\tval_accuracy = 0.125\n",
      "\n",
      "Iteration #:  110\n",
      "\talpha = 0.7095\n",
      "\ttrain_loss = 23.42840003967285\n",
      "\ttrain_reg_loss = 31.935300827026367\n",
      "\ttrain_cls_loss = 2.649199962615967\n",
      "\ttrain_iou = 0.002\n",
      "\ttrain_accuracy = 0.09380000084638596\n",
      "\tval_loss = 12.022000312805176\n",
      "\tval_reg_loss = 16.0\n",
      "\tval_cls_loss = 2.3050999641418457\n",
      "\tval_iou = 0.0\n",
      "\tval_accuracy = 0.125\n",
      "\n",
      "Iteration #:  115\n",
      "\talpha = 0.714\n",
      "\ttrain_loss = 23.621200561523438\n",
      "\ttrain_reg_loss = 32.0\n",
      "\ttrain_cls_loss = 2.7083001136779785\n",
      "\ttrain_iou = 0.0\n",
      "\ttrain_accuracy = 0.031199999153614044\n",
      "\tval_loss = 12.077799797058105\n",
      "\tval_reg_loss = 15.991900444030762\n",
      "\tval_cls_loss = 2.308500051498413\n",
      "\tval_iou = 0.0005\n",
      "\tval_accuracy = 0.1875\n",
      "\n",
      "Iteration #:  120\n",
      "\talpha = 0.7182\n",
      "\ttrain_loss = 23.486799240112305\n",
      "\ttrain_reg_loss = 31.831199645996094\n",
      "\ttrain_cls_loss = 2.2221999168395996\n",
      "\ttrain_iou = 0.0053\n",
      "\ttrain_accuracy = 0.15620000660419464\n",
      "\tval_loss = 12.07960033416748\n",
      "\tval_reg_loss = 15.91759967803955\n",
      "\tval_cls_loss = 2.2985999584198\n",
      "\tval_iou = 0.0051\n",
      "\tval_accuracy = 0.1875\n",
      "\n",
      "Iteration #:  125\n",
      "\talpha = 0.7222\n",
      "\ttrain_loss = 23.164600372314453\n",
      "\ttrain_reg_loss = 31.053300857543945\n",
      "\ttrain_cls_loss = 2.6538000106811523\n",
      "\ttrain_iou = 0.0296\n",
      "\ttrain_accuracy = 0.125\n",
      "\tval_loss = 12.115900039672852\n",
      "\tval_reg_loss = 15.892000198364258\n",
      "\tval_cls_loss = 2.2978999614715576\n",
      "\tval_iou = 0.0067\n",
      "\tval_accuracy = 0.25\n",
      "\n"
     ]
    },
    {
     "name": "stdout",
     "output_type": "stream",
     "text": [
      "Iteration #:  130\n",
      "\talpha = 0.7261\n",
      "\ttrain_loss = 23.673999786376953\n",
      "\ttrain_reg_loss = 31.628799438476562\n",
      "\ttrain_cls_loss = 2.5876998901367188\n",
      "\ttrain_iou = 0.0116\n",
      "\ttrain_accuracy = 0.09380000084638596\n",
      "\tval_loss = 12.199299812316895\n",
      "\tval_reg_loss = 15.933699607849121\n",
      "\tval_cls_loss = 2.2999000549316406\n",
      "\tval_iou = 0.0041\n",
      "\tval_accuracy = 0.1875\n",
      "\n",
      "Iteration #:  135\n",
      "\talpha = 0.7298\n",
      "\ttrain_loss = 23.944700241088867\n",
      "\ttrain_reg_loss = 31.854400634765625\n",
      "\ttrain_cls_loss = 2.5820000171661377\n",
      "\ttrain_iou = 0.0045\n",
      "\ttrain_accuracy = 0.15620000660419464\n",
      "\tval_loss = 12.2923002243042\n",
      "\tval_reg_loss = 15.992500305175781\n",
      "\tval_cls_loss = 2.2988998889923096\n",
      "\tval_iou = 0.0005\n",
      "\tval_accuracy = 0.1875\n",
      "\n",
      "Iteration #:  140\n",
      "\talpha = 0.7333\n",
      "\ttrain_loss = 24.110599517822266\n",
      "\ttrain_reg_loss = 31.926799774169922\n",
      "\ttrain_cls_loss = 2.6161999702453613\n",
      "\ttrain_iou = 0.0023\n",
      "\ttrain_accuracy = 0.09380000084638596\n",
      "\tval_loss = 12.309300422668457\n",
      "\tval_reg_loss = 15.949899673461914\n",
      "\tval_cls_loss = 2.2980000972747803\n",
      "\tval_iou = 0.0031\n",
      "\tval_accuracy = 0.125\n",
      "\n",
      "Iteration #:  145\n",
      "\talpha = 0.7367\n",
      "\ttrain_loss = 24.16830062866211\n",
      "\ttrain_reg_loss = 31.904699325561523\n",
      "\ttrain_cls_loss = 2.5185000896453857\n",
      "\ttrain_iou = 0.003\n",
      "\ttrain_accuracy = 0.15620000660419464\n",
      "\tval_loss = 12.390899658203125\n",
      "\tval_reg_loss = 16.0\n",
      "\tval_cls_loss = 2.291100025177002\n",
      "\tval_iou = 0.0\n",
      "\tval_accuracy = 0.125\n",
      "\n",
      "Iteration #:  150\n",
      "\talpha = 0.74\n",
      "\ttrain_loss = 24.125\n",
      "\ttrain_reg_loss = 31.729799270629883\n",
      "\ttrain_cls_loss = 2.480799913406372\n",
      "\ttrain_iou = 0.0084\n",
      "\ttrain_accuracy = 0.15620000660419464\n",
      "\tval_loss = 12.437000274658203\n",
      "\tval_reg_loss = 16.0\n",
      "\tval_cls_loss = 2.2962000370025635\n",
      "\tval_iou = 0.0\n",
      "\tval_accuracy = 0.1875\n",
      "\n",
      "Iteration #:  155\n",
      "\talpha = 0.7431\n",
      "\ttrain_loss = 24.32740020751953\n",
      "\ttrain_reg_loss = 31.853900909423828\n",
      "\ttrain_cls_loss = 2.5522000789642334\n",
      "\ttrain_iou = 0.0046\n",
      "\ttrain_accuracy = 0.125\n",
      "\tval_loss = 12.480600357055664\n",
      "\tval_reg_loss = 16.0\n",
      "\tval_cls_loss = 2.2985000610351562\n",
      "\tval_iou = 0.0\n",
      "\tval_accuracy = 0.1875\n",
      "\n",
      "Iteration #:  160\n",
      "\talpha = 0.7462\n",
      "\ttrain_loss = 24.402700424194336\n",
      "\ttrain_reg_loss = 31.80470085144043\n",
      "\ttrain_cls_loss = 2.6452999114990234\n",
      "\ttrain_iou = 0.0061\n",
      "\ttrain_accuracy = 0.125\n",
      "\tval_loss = 12.522500038146973\n",
      "\tval_reg_loss = 16.0\n",
      "\tval_cls_loss = 2.300800085067749\n",
      "\tval_iou = 0.0\n",
      "\tval_accuracy = 0.125\n",
      "\n",
      "Iteration #:  165\n",
      "\talpha = 0.7491\n",
      "\ttrain_loss = 24.489500045776367\n",
      "\ttrain_reg_loss = 31.880699157714844\n",
      "\ttrain_cls_loss = 2.427000045776367\n",
      "\ttrain_iou = 0.0037\n",
      "\ttrain_accuracy = 0.125\n",
      "\tval_loss = 12.562299728393555\n",
      "\tval_reg_loss = 16.0\n",
      "\tval_cls_loss = 2.3010001182556152\n",
      "\tval_iou = 0.0\n",
      "\tval_accuracy = 0.125\n",
      "\n",
      "Iteration #:  170\n",
      "\talpha = 0.7519\n",
      "\ttrain_loss = 24.590900421142578\n",
      "\ttrain_reg_loss = 31.8700008392334\n",
      "\ttrain_cls_loss = 2.536400079727173\n",
      "\ttrain_iou = 0.0041\n",
      "\ttrain_accuracy = 0.031199999153614044\n",
      "\tval_loss = 12.600299835205078\n",
      "\tval_reg_loss = 16.0\n",
      "\tval_cls_loss = 2.2995998859405518\n",
      "\tval_iou = 0.0\n",
      "\tval_accuracy = 0.125\n",
      "\n",
      "Iteration #:  175\n",
      "\talpha = 0.7545\n",
      "\ttrain_loss = 24.588499069213867\n",
      "\ttrain_reg_loss = 31.822099685668945\n",
      "\ttrain_cls_loss = 2.3517000675201416\n",
      "\ttrain_iou = 0.0056\n",
      "\ttrain_accuracy = 0.15620000660419464\n",
      "\tval_loss = 12.637200355529785\n",
      "\tval_reg_loss = 16.0\n",
      "\tval_cls_loss = 2.299799919128418\n",
      "\tval_iou = 0.0\n",
      "\tval_accuracy = 0.125\n",
      "\n",
      "Iteration #:  180\n",
      "\talpha = 0.7571\n",
      "\ttrain_loss = 24.82469940185547\n",
      "\ttrain_reg_loss = 31.922100067138672\n",
      "\ttrain_cls_loss = 2.697499990463257\n",
      "\ttrain_iou = 0.0024\n",
      "\ttrain_accuracy = 0.09380000084638596\n",
      "\tval_loss = 12.672800064086914\n",
      "\tval_reg_loss = 16.0\n",
      "\tval_cls_loss = 2.2997000217437744\n",
      "\tval_iou = 0.0\n",
      "\tval_accuracy = 0.125\n",
      "\n",
      "Iteration #:  185\n",
      "\talpha = 0.7596\n",
      "\ttrain_loss = 24.802200317382812\n",
      "\ttrain_reg_loss = 31.803800582885742\n",
      "\ttrain_cls_loss = 2.673099994659424\n",
      "\ttrain_iou = 0.0061\n",
      "\ttrain_accuracy = 0.125\n",
      "\tval_loss = 12.706500053405762\n",
      "\tval_reg_loss = 16.0\n",
      "\tval_cls_loss = 2.296999931335449\n",
      "\tval_iou = 0.0\n",
      "\tval_accuracy = 0.125\n",
      "\n",
      "Iteration #:  190\n",
      "\talpha = 0.7621\n",
      "\ttrain_loss = 24.78860092163086\n",
      "\ttrain_reg_loss = 31.748899459838867\n",
      "\ttrain_cls_loss = 2.495300054550171\n",
      "\ttrain_iou = 0.0078\n",
      "\ttrain_accuracy = 0.125\n",
      "\tval_loss = 12.729700088500977\n",
      "\tval_reg_loss = 15.98740005493164\n",
      "\tval_cls_loss = 2.2957000732421875\n",
      "\tval_iou = 0.0008\n",
      "\tval_accuracy = 0.1875\n",
      "\n",
      "Iteration #:  195\n",
      "\talpha = 0.7644\n",
      "\ttrain_loss = 24.81879997253418\n",
      "\ttrain_reg_loss = 31.606800079345703\n",
      "\ttrain_cls_loss = 2.794600009918213\n",
      "\ttrain_iou = 0.0123\n",
      "\ttrain_accuracy = 0.0625\n",
      "\tval_loss = 12.772000312805176\n",
      "\tval_reg_loss = 16.0\n",
      "\tval_cls_loss = 2.2983999252319336\n",
      "\tval_iou = 0.0\n",
      "\tval_accuracy = 0.125\n",
      "\n",
      "Iteration #:  200\n",
      "\talpha = 0.7667\n",
      "\ttrain_loss = 24.9512996673584\n",
      "\ttrain_reg_loss = 31.80109977722168\n",
      "\ttrain_cls_loss = 2.4446001052856445\n",
      "\ttrain_iou = 0.0062\n",
      "\ttrain_accuracy = 0.0625\n",
      "\tval_loss = 12.802900314331055\n",
      "\tval_reg_loss = 16.0\n",
      "\tval_cls_loss = 2.29830002784729\n",
      "\tval_iou = 0.0\n",
      "\tval_accuracy = 0.125\n",
      "\n"
     ]
    }
   ],
   "source": [
    "train_result = train(\n",
    "    alexnet_model,\n",
    "    optimizer,\n",
    "    train_data,\n",
    "    eval_datasets=[('val', test_data)],\n",
    "    loss_fn=loss_fn,\n",
    "    metrics={\n",
    "        'bbox': [('iou', iou)],\n",
    "        'class_id': [('accuracy', accuracy)]\n",
    "    },\n",
    "    callbacks=[printer],\n",
    "    device=device,\n",
    "    train_steps=config_dict['num_epochs'],\n",
    "    eval_steps=5,\n",
    ")\n",
    "\n",
    "model = train_result['model']"
   ]
  },
  {
   "cell_type": "markdown",
   "metadata": {},
   "source": [
    "## Data Augmentation"
   ]
  },
  {
   "cell_type": "markdown",
   "metadata": {},
   "source": [
    "Realizaremos data augmentation con el fin de mejorar los resultados de los modelos, al tener un dataset mucho más grande."
   ]
  },
  {
   "cell_type": "markdown",
   "metadata": {},
   "source": [
    "### AlbumentationsWrapper"
   ]
  },
  {
   "cell_type": "code",
   "execution_count": 69,
   "metadata": {
    "ExecuteTime": {
     "end_time": "2022-12-10T22:12:21.152184Z",
     "start_time": "2022-12-10T22:12:21.149390Z"
    }
   },
   "outputs": [],
   "source": [
    "class AlbumentationsWrapper(object):\n",
    "    \n",
    "    def __init__(self, transform):\n",
    "        self.transform = transform\n",
    "    \n",
    "    def __call__(self, sample):\n",
    "        transformed = self.transform(\n",
    "            image=sample['image'], \n",
    "            bboxes=sample['bbox'],\n",
    "            category=sample['class_id']\n",
    "        )\n",
    "        sample['image'] = transformed['image']\n",
    "        sample['bbox'] = np.array(transformed['bboxes'])\n",
    "        return sample"
   ]
  },
  {
   "cell_type": "markdown",
   "metadata": {},
   "source": [
    "### Train data augmentation"
   ]
  },
  {
   "cell_type": "code",
   "execution_count": 72,
   "metadata": {
    "ExecuteTime": {
     "end_time": "2022-12-10T22:15:36.938243Z",
     "start_time": "2022-12-10T22:15:36.935305Z"
    }
   },
   "outputs": [],
   "source": [
    "train_data_augmentations = A.Compose([\n",
    "        A.RandomScale(scale_limit=0.01, p=1),\n",
    "        A.ImageCompression(p=1),\n",
    "        A.Superpixels(p=1, n_segments=30, max_size=None),\n",
    "        A.Rotate(limit=(-20, 20), p=1),\n",
    "        A.Resize(height=config_dict['img_size'], width=config_dict['img_size'], p=1) # p=1 means always apply\n",
    "    ],\n",
    "    bbox_params=A.BboxParams(\n",
    "        format='albumentations', \n",
    "        label_fields=['category'],\n",
    "    )\n",
    ")\n",
    "\n",
    "train_transforms_da = torchvision.transforms.Compose(\n",
    "    [\n",
    "        AlbumentationsWrapper(train_data_augmentations),\n",
    "    ] + common_transforms\n",
    ")"
   ]
  },
  {
   "cell_type": "markdown",
   "metadata": {},
   "source": [
    "## Train Models with Data augmentation"
   ]
  },
  {
   "cell_type": "code",
   "execution_count": 73,
   "metadata": {
    "ExecuteTime": {
     "end_time": "2022-12-10T22:15:39.500427Z",
     "start_time": "2022-12-10T22:15:39.497399Z"
    },
    "scrolled": true
   },
   "outputs": [
    {
     "name": "stderr",
     "output_type": "stream",
     "text": [
      "/opt/conda/lib/python3.8/site-packages/torch/utils/data/dataloader.py:478: UserWarning: This DataLoader will create 24 worker processes in total. Our suggested max number of worker in current system is 1, which is smaller than what this DataLoader is going to create. Please be aware that excessive worker creation might get DataLoader running slow or even freeze, lower the worker number to avoid potential slowness/freeze if necessary.\n",
      "  warnings.warn(_create_warning_msg(\n"
     ]
    }
   ],
   "source": [
    "train_ds = MNISTDataset(train_df, gray=False, root_dir=config_dict['train_images_dir'], transform=train_transforms_da)\n",
    "test_ds = MNISTDataset(test_df, gray=False, root_dir=config_dict['train_images_dir'], transform=eval_transforms)\n",
    "\n",
    "train_data = DataLoader(train_ds, batch_size=config_dict['batch_size'], shuffle=True, num_workers=cpu_count())\n",
    "test_data = DataLoader(test_ds, batch_size=config_dict['batch_size'], num_workers=cpu_count())"
   ]
  },
  {
   "cell_type": "code",
   "execution_count": 74,
   "metadata": {
    "ExecuteTime": {
     "end_time": "2022-12-10T22:16:11.572572Z",
     "start_time": "2022-12-10T22:16:11.565395Z"
    }
   },
   "outputs": [],
   "source": [
    "torch.cuda.empty_cache()"
   ]
  },
  {
   "cell_type": "code",
   "execution_count": 75,
   "metadata": {
    "ExecuteTime": {
     "end_time": "2022-12-10T22:24:05.406215Z",
     "start_time": "2022-12-10T22:16:14.066656Z"
    },
    "scrolled": false
   },
   "outputs": [
    {
     "name": "stderr",
     "output_type": "stream",
     "text": [
      "/opt/conda/lib/python3.8/site-packages/torch/utils/data/dataloader.py:478: UserWarning: This DataLoader will create 24 worker processes in total. Our suggested max number of worker in current system is 1, which is smaller than what this DataLoader is going to create. Please be aware that excessive worker creation might get DataLoader running slow or even freeze, lower the worker number to avoid potential slowness/freeze if necessary.\n",
      "  warnings.warn(_create_warning_msg(\n",
      "/opt/conda/lib/python3.8/site-packages/albumentations/augmentations/functional.py:1232: FutureWarning: skimage.measure.label's indexing starts from 0. In future version it will start from 1. To disable this warning, explicitely set the `start_label` parameter to 1.\n",
      "  segments = skimage.segmentation.slic(image, n_segments=n_segments, compactness=10)\n",
      "/opt/conda/lib/python3.8/site-packages/albumentations/augmentations/functional.py:1232: FutureWarning: skimage.measure.label's indexing starts from 0. In future version it will start from 1. To disable this warning, explicitely set the `start_label` parameter to 1.\n",
      "  segments = skimage.segmentation.slic(image, n_segments=n_segments, compactness=10)\n",
      "/opt/conda/lib/python3.8/site-packages/albumentations/augmentations/functional.py:1232: FutureWarning: skimage.measure.label's indexing starts from 0. In future version it will start from 1. To disable this warning, explicitely set the `start_label` parameter to 1.\n",
      "  segments = skimage.segmentation.slic(image, n_segments=n_segments, compactness=10)\n",
      "/opt/conda/lib/python3.8/site-packages/albumentations/augmentations/functional.py:1232: FutureWarning: skimage.measure.label's indexing starts from 0. In future version it will start from 1. To disable this warning, explicitely set the `start_label` parameter to 1.\n",
      "  segments = skimage.segmentation.slic(image, n_segments=n_segments, compactness=10)\n",
      "/opt/conda/lib/python3.8/site-packages/albumentations/augmentations/functional.py:1232: FutureWarning: skimage.measure.label's indexing starts from 0. In future version it will start from 1. To disable this warning, explicitely set the `start_label` parameter to 1.\n",
      "  segments = skimage.segmentation.slic(image, n_segments=n_segments, compactness=10)\n",
      "/opt/conda/lib/python3.8/site-packages/albumentations/augmentations/functional.py:1232: FutureWarning: skimage.measure.label's indexing starts from 0. In future version it will start from 1. To disable this warning, explicitely set the `start_label` parameter to 1.\n",
      "  segments = skimage.segmentation.slic(image, n_segments=n_segments, compactness=10)\n",
      "/opt/conda/lib/python3.8/site-packages/albumentations/augmentations/functional.py:1232: FutureWarning: skimage.measure.label's indexing starts from 0. In future version it will start from 1. To disable this warning, explicitely set the `start_label` parameter to 1.\n",
      "  segments = skimage.segmentation.slic(image, n_segments=n_segments, compactness=10)\n",
      "/opt/conda/lib/python3.8/site-packages/albumentations/augmentations/functional.py:1232: FutureWarning: skimage.measure.label's indexing starts from 0. In future version it will start from 1. To disable this warning, explicitely set the `start_label` parameter to 1.\n",
      "  segments = skimage.segmentation.slic(image, n_segments=n_segments, compactness=10)\n",
      "/opt/conda/lib/python3.8/site-packages/albumentations/augmentations/functional.py:1232: FutureWarning: skimage.measure.label's indexing starts from 0. In future version it will start from 1. To disable this warning, explicitely set the `start_label` parameter to 1.\n",
      "  segments = skimage.segmentation.slic(image, n_segments=n_segments, compactness=10)\n",
      "/opt/conda/lib/python3.8/site-packages/albumentations/augmentations/functional.py:1232: FutureWarning: skimage.measure.label's indexing starts from 0. In future version it will start from 1. To disable this warning, explicitely set the `start_label` parameter to 1.\n",
      "  segments = skimage.segmentation.slic(image, n_segments=n_segments, compactness=10)\n",
      "/opt/conda/lib/python3.8/site-packages/albumentations/augmentations/functional.py:1232: FutureWarning: skimage.measure.label's indexing starts from 0. In future version it will start from 1. To disable this warning, explicitely set the `start_label` parameter to 1.\n",
      "  segments = skimage.segmentation.slic(image, n_segments=n_segments, compactness=10)\n",
      "/opt/conda/lib/python3.8/site-packages/albumentations/augmentations/functional.py:1232: FutureWarning: skimage.measure.label's indexing starts from 0. In future version it will start from 1. To disable this warning, explicitely set the `start_label` parameter to 1.\n",
      "  segments = skimage.segmentation.slic(image, n_segments=n_segments, compactness=10)\n",
      "/opt/conda/lib/python3.8/site-packages/albumentations/augmentations/functional.py:1232: FutureWarning: skimage.measure.label's indexing starts from 0. In future version it will start from 1. To disable this warning, explicitely set the `start_label` parameter to 1.\n",
      "  segments = skimage.segmentation.slic(image, n_segments=n_segments, compactness=10)\n",
      "/opt/conda/lib/python3.8/site-packages/albumentations/augmentations/functional.py:1232: FutureWarning: skimage.measure.label's indexing starts from 0. In future version it will start from 1. To disable this warning, explicitely set the `start_label` parameter to 1.\n",
      "  segments = skimage.segmentation.slic(image, n_segments=n_segments, compactness=10)\n",
      "/opt/conda/lib/python3.8/site-packages/albumentations/augmentations/functional.py:1232: FutureWarning: skimage.measure.label's indexing starts from 0. In future version it will start from 1. To disable this warning, explicitely set the `start_label` parameter to 1.\n",
      "  segments = skimage.segmentation.slic(image, n_segments=n_segments, compactness=10)\n",
      "/opt/conda/lib/python3.8/site-packages/albumentations/augmentations/functional.py:1232: FutureWarning: skimage.measure.label's indexing starts from 0. In future version it will start from 1. To disable this warning, explicitely set the `start_label` parameter to 1.\n",
      "  segments = skimage.segmentation.slic(image, n_segments=n_segments, compactness=10)\n",
      "/opt/conda/lib/python3.8/site-packages/albumentations/augmentations/functional.py:1232: FutureWarning: skimage.measure.label's indexing starts from 0. In future version it will start from 1. To disable this warning, explicitely set the `start_label` parameter to 1.\n",
      "  segments = skimage.segmentation.slic(image, n_segments=n_segments, compactness=10)\n",
      "/opt/conda/lib/python3.8/site-packages/albumentations/augmentations/functional.py:1232: FutureWarning: skimage.measure.label's indexing starts from 0. In future version it will start from 1. To disable this warning, explicitely set the `start_label` parameter to 1.\n",
      "  segments = skimage.segmentation.slic(image, n_segments=n_segments, compactness=10)\n",
      "/opt/conda/lib/python3.8/site-packages/albumentations/augmentations/functional.py:1232: FutureWarning: skimage.measure.label's indexing starts from 0. In future version it will start from 1. To disable this warning, explicitely set the `start_label` parameter to 1.\n",
      "  segments = skimage.segmentation.slic(image, n_segments=n_segments, compactness=10)\n",
      "/opt/conda/lib/python3.8/site-packages/albumentations/augmentations/functional.py:1232: FutureWarning: skimage.measure.label's indexing starts from 0. In future version it will start from 1. To disable this warning, explicitely set the `start_label` parameter to 1.\n",
      "  segments = skimage.segmentation.slic(image, n_segments=n_segments, compactness=10)\n",
      "/opt/conda/lib/python3.8/site-packages/albumentations/augmentations/functional.py:1232: FutureWarning: skimage.measure.label's indexing starts from 0. In future version it will start from 1. To disable this warning, explicitely set the `start_label` parameter to 1.\n",
      "  segments = skimage.segmentation.slic(image, n_segments=n_segments, compactness=10)\n",
      "/opt/conda/lib/python3.8/site-packages/albumentations/augmentations/functional.py:1232: FutureWarning: skimage.measure.label's indexing starts from 0. In future version it will start from 1. To disable this warning, explicitely set the `start_label` parameter to 1.\n",
      "  segments = skimage.segmentation.slic(image, n_segments=n_segments, compactness=10)\n"
     ]
    },
    {
     "name": "stderr",
     "output_type": "stream",
     "text": [
      "/opt/conda/lib/python3.8/site-packages/albumentations/augmentations/functional.py:1232: FutureWarning: skimage.measure.label's indexing starts from 0. In future version it will start from 1. To disable this warning, explicitely set the `start_label` parameter to 1.\n",
      "  segments = skimage.segmentation.slic(image, n_segments=n_segments, compactness=10)\n",
      "/opt/conda/lib/python3.8/site-packages/albumentations/augmentations/functional.py:1232: FutureWarning: skimage.measure.label's indexing starts from 0. In future version it will start from 1. To disable this warning, explicitely set the `start_label` parameter to 1.\n",
      "  segments = skimage.segmentation.slic(image, n_segments=n_segments, compactness=10)\n"
     ]
    },
    {
     "name": "stdout",
     "output_type": "stream",
     "text": [
      "Iteration #:  0\n",
      "\talpha = 0.5\n",
      "\ttrain_loss = 17.10420036315918\n",
      "\ttrain_reg_loss = 31.66510009765625\n",
      "\ttrain_cls_loss = 2.5434000492095947\n",
      "\ttrain_iou = 0.0105\n",
      "\ttrain_accuracy = 0.125\n",
      "\tval_loss = 9.150899887084961\n",
      "\tval_reg_loss = 16.0\n",
      "\tval_cls_loss = 2.301800012588501\n",
      "\tval_iou = 0.0\n",
      "\tval_accuracy = 0.125\n",
      "\n",
      "Iteration #:  5\n",
      "\talpha = 0.519\n",
      "\ttrain_loss = 17.797000885009766\n",
      "\ttrain_reg_loss = 31.975400924682617\n",
      "\ttrain_cls_loss = 2.495500087738037\n",
      "\ttrain_iou = 0.0008\n",
      "\ttrain_accuracy = 0.125\n",
      "\tval_loss = 9.413299560546875\n",
      "\tval_reg_loss = 16.0\n",
      "\tval_cls_loss = 2.304800033569336\n",
      "\tval_iou = 0.0\n",
      "\tval_accuracy = 0.125\n",
      "\n",
      "Iteration #:  10\n",
      "\talpha = 0.5364\n",
      "\ttrain_loss = 18.24090003967285\n",
      "\ttrain_reg_loss = 31.811199188232422\n",
      "\ttrain_cls_loss = 2.5420000553131104\n",
      "\ttrain_iou = 0.0059\n",
      "\ttrain_accuracy = 0.125\n",
      "\tval_loss = 9.635299682617188\n",
      "\tval_reg_loss = 15.978300094604492\n",
      "\tval_cls_loss = 2.297300100326538\n",
      "\tval_iou = 0.0014\n",
      "\tval_accuracy = 0.125\n",
      "\n",
      "Iteration #:  15\n",
      "\talpha = 0.5522\n",
      "\ttrain_loss = 18.81920051574707\n",
      "\ttrain_reg_loss = 31.9955997467041\n",
      "\ttrain_cls_loss = 2.5724000930786133\n",
      "\ttrain_iou = 0.0001\n",
      "\ttrain_accuracy = 0.0625\n",
      "\tval_loss = 9.864899635314941\n",
      "\tval_reg_loss = 16.0\n",
      "\tval_cls_loss = 2.300299882888794\n",
      "\tval_iou = 0.0\n",
      "\tval_accuracy = 0.125\n",
      "\n",
      "Iteration #:  20\n",
      "\talpha = 0.5667\n",
      "\ttrain_loss = 19.218399047851562\n",
      "\ttrain_reg_loss = 31.80590057373047\n",
      "\ttrain_cls_loss = 2.7578999996185303\n",
      "\ttrain_iou = 0.0061\n",
      "\ttrain_accuracy = 0.031199999153614044\n",
      "\tval_loss = 10.067999839782715\n",
      "\tval_reg_loss = 16.0\n",
      "\tval_cls_loss = 2.310800075531006\n",
      "\tval_iou = 0.0\n",
      "\tval_accuracy = 0.1875\n",
      "\n",
      "Iteration #:  25\n",
      "\talpha = 0.58\n",
      "\ttrain_loss = 19.639999389648438\n",
      "\ttrain_reg_loss = 31.906400680541992\n",
      "\ttrain_cls_loss = 2.700700044631958\n",
      "\ttrain_iou = 0.0029\n",
      "\ttrain_accuracy = 0.15620000660419464\n",
      "\tval_loss = 10.247099876403809\n",
      "\tval_reg_loss = 15.997900009155273\n",
      "\tval_cls_loss = 2.3055999279022217\n",
      "\tval_iou = 0.0001\n",
      "\tval_accuracy = 0.1875\n",
      "\n",
      "Iteration #:  30\n",
      "\talpha = 0.5923\n",
      "\ttrain_loss = 19.9060001373291\n",
      "\ttrain_reg_loss = 31.814300537109375\n",
      "\ttrain_cls_loss = 2.6054000854492188\n",
      "\ttrain_iou = 0.0058\n",
      "\ttrain_accuracy = 0.15620000660419464\n",
      "\tval_loss = 10.419400215148926\n",
      "\tval_reg_loss = 16.0\n",
      "\tval_cls_loss = 2.3115999698638916\n",
      "\tval_iou = 0.0\n",
      "\tval_accuracy = 0.1875\n",
      "\n",
      "Iteration #:  35\n",
      "\talpha = 0.6037\n",
      "\ttrain_loss = 20.224700927734375\n",
      "\ttrain_reg_loss = 31.940799713134766\n",
      "\ttrain_cls_loss = 2.376800060272217\n",
      "\ttrain_iou = 0.0018\n",
      "\ttrain_accuracy = 0.125\n",
      "\tval_loss = 10.574199676513672\n",
      "\tval_reg_loss = 16.0\n",
      "\tval_cls_loss = 2.3087000846862793\n",
      "\tval_iou = 0.0\n",
      "\tval_accuracy = 0.1875\n",
      "\n",
      "Iteration #:  40\n",
      "\talpha = 0.6143\n",
      "\ttrain_loss = 20.407800674438477\n",
      "\ttrain_reg_loss = 31.71579933166504\n",
      "\ttrain_cls_loss = 2.3987998962402344\n",
      "\ttrain_iou = 0.0089\n",
      "\ttrain_accuracy = 0.0625\n",
      "\tval_loss = 10.697699546813965\n",
      "\tval_reg_loss = 15.965999603271484\n",
      "\tval_cls_loss = 2.307300090789795\n",
      "\tval_iou = 0.0021\n",
      "\tval_accuracy = 0.1875\n",
      "\n",
      "Iteration #:  45\n",
      "\talpha = 0.6241\n",
      "\ttrain_loss = 20.811899185180664\n",
      "\ttrain_reg_loss = 31.825300216674805\n",
      "\ttrain_cls_loss = 2.5234999656677246\n",
      "\ttrain_iou = 0.0055\n",
      "\ttrain_accuracy = 0.1875\n",
      "\tval_loss = 10.850600242614746\n",
      "\tval_reg_loss = 16.0\n",
      "\tval_cls_loss = 2.299799919128418\n",
      "\tval_iou = 0.0\n",
      "\tval_accuracy = 0.1875\n",
      "\n",
      "Iteration #:  50\n",
      "\talpha = 0.6333\n",
      "\ttrain_loss = 21.265399932861328\n",
      "\ttrain_reg_loss = 31.977699279785156\n",
      "\ttrain_cls_loss = 2.7623000144958496\n",
      "\ttrain_iou = 0.0007\n",
      "\ttrain_accuracy = 0.031199999153614044\n",
      "\tval_loss = 10.977800369262695\n",
      "\tval_reg_loss = 16.0\n",
      "\tval_cls_loss = 2.303100109100342\n",
      "\tval_iou = 0.0\n",
      "\tval_accuracy = 0.1875\n",
      "\n",
      "Iteration #:  55\n",
      "\talpha = 0.6419\n",
      "\ttrain_loss = 21.33099937438965\n",
      "\ttrain_reg_loss = 31.92770004272461\n",
      "\ttrain_cls_loss = 2.3331000804901123\n",
      "\ttrain_iou = 0.0023\n",
      "\ttrain_accuracy = 0.15620000660419464\n",
      "\tval_loss = 11.075799942016602\n",
      "\tval_reg_loss = 15.967900276184082\n",
      "\tval_cls_loss = 2.305299997329712\n",
      "\tval_iou = 0.002\n",
      "\tval_accuracy = 0.1875\n",
      "\n",
      "Iteration #:  60\n",
      "\talpha = 0.65\n",
      "\ttrain_loss = 21.544300079345703\n",
      "\ttrain_reg_loss = 31.68079948425293\n",
      "\ttrain_cls_loss = 2.7195000648498535\n",
      "\ttrain_iou = 0.01\n",
      "\ttrain_accuracy = 0.031199999153614044\n",
      "\tval_loss = 11.206299781799316\n",
      "\tval_reg_loss = 16.0\n",
      "\tval_cls_loss = 2.3036000728607178\n",
      "\tval_iou = 0.0\n",
      "\tval_accuracy = 0.1875\n",
      "\n",
      "Iteration #:  65\n",
      "\talpha = 0.6576\n",
      "\ttrain_loss = 21.5137996673584\n",
      "\ttrain_reg_loss = 31.42300033569336\n",
      "\ttrain_cls_loss = 2.4846999645233154\n",
      "\ttrain_iou = 0.018\n",
      "\ttrain_accuracy = 0.125\n",
      "\tval_loss = 11.307700157165527\n",
      "\tval_reg_loss = 16.0\n",
      "\tval_cls_loss = 2.2967000007629395\n",
      "\tval_iou = 0.0\n",
      "\tval_accuracy = 0.1875\n",
      "\n",
      "Iteration #:  70\n",
      "\talpha = 0.6647\n",
      "\ttrain_loss = 22.184900283813477\n",
      "\ttrain_reg_loss = 31.992900848388672\n",
      "\ttrain_cls_loss = 2.740799903869629\n",
      "\ttrain_iou = 0.0002\n",
      "\ttrain_accuracy = 0.0625\n",
      "\tval_loss = 11.40410041809082\n",
      "\tval_reg_loss = 16.0\n",
      "\tval_cls_loss = 2.2929999828338623\n",
      "\tval_iou = 0.0\n",
      "\tval_accuracy = 0.1875\n",
      "\n",
      "Iteration #:  75\n",
      "\talpha = 0.6714\n",
      "\ttrain_loss = 22.24449920654297\n",
      "\ttrain_reg_loss = 31.901100158691406\n",
      "\ttrain_cls_loss = 2.511399984359741\n",
      "\ttrain_iou = 0.0031\n",
      "\ttrain_accuracy = 0.15620000660419464\n",
      "\tval_loss = 11.497300148010254\n",
      "\tval_reg_loss = 16.0\n",
      "\tval_cls_loss = 2.296299934387207\n",
      "\tval_iou = 0.0\n",
      "\tval_accuracy = 0.1875\n",
      "\n",
      "Iteration #:  80\n",
      "\talpha = 0.6778\n",
      "\ttrain_loss = 22.503799438476562\n",
      "\ttrain_reg_loss = 32.0\n",
      "\ttrain_cls_loss = 2.5290000438690186\n",
      "\ttrain_iou = 0.0\n",
      "\ttrain_accuracy = 0.09380000084638596\n",
      "\tval_loss = 11.586999893188477\n",
      "\tval_reg_loss = 16.0\n",
      "\tval_cls_loss = 2.3046000003814697\n",
      "\tval_iou = 0.0\n",
      "\tval_accuracy = 0.1875\n",
      "\n",
      "Iteration #:  85\n",
      "\talpha = 0.6838\n",
      "\ttrain_loss = 22.720199584960938\n",
      "\ttrain_reg_loss = 32.0\n",
      "\ttrain_cls_loss = 2.6535000801086426\n",
      "\ttrain_iou = 0.0\n",
      "\ttrain_accuracy = 0.031199999153614044\n",
      "\tval_loss = 11.667099952697754\n",
      "\tval_reg_loss = 16.0\n",
      "\tval_cls_loss = 2.297800064086914\n",
      "\tval_iou = 0.0\n",
      "\tval_accuracy = 0.1875\n",
      "\n",
      "Iteration #:  90\n",
      "\talpha = 0.6895\n",
      "\ttrain_loss = 22.861299514770508\n",
      "\ttrain_reg_loss = 32.0\n",
      "\ttrain_cls_loss = 2.5703999996185303\n",
      "\ttrain_iou = 0.0\n",
      "\ttrain_accuracy = 0.0625\n",
      "\tval_loss = 11.745599746704102\n",
      "\tval_reg_loss = 16.0\n",
      "\tval_cls_loss = 2.2992000579833984\n",
      "\tval_iou = 0.0\n",
      "\tval_accuracy = 0.125\n",
      "\n",
      "Iteration #:  95\n",
      "\talpha = 0.6949\n",
      "\ttrain_loss = 22.408300399780273\n",
      "\ttrain_reg_loss = 31.2539005279541\n",
      "\ttrain_cls_loss = 2.2639999389648438\n",
      "\ttrain_iou = 0.0233\n",
      "\ttrain_accuracy = 0.125\n",
      "\tval_loss = 11.818599700927734\n",
      "\tval_reg_loss = 16.0\n",
      "\tval_cls_loss = 2.296099901199341\n",
      "\tval_iou = 0.0\n",
      "\tval_accuracy = 0.1875\n",
      "\n",
      "Iteration #:  100\n",
      "\talpha = 0.7\n",
      "\ttrain_loss = 23.107799530029297\n",
      "\ttrain_reg_loss = 31.914400100708008\n",
      "\ttrain_cls_loss = 2.559000015258789\n",
      "\ttrain_iou = 0.0027\n",
      "\ttrain_accuracy = 0.125\n",
      "\tval_loss = 11.859800338745117\n",
      "\tval_reg_loss = 15.958499908447266\n",
      "\tval_cls_loss = 2.296299934387207\n",
      "\tval_iou = 0.0026\n",
      "\tval_accuracy = 0.1875\n",
      "\n",
      "Iteration #:  105\n",
      "\talpha = 0.7049\n",
      "\ttrain_loss = 23.192699432373047\n",
      "\ttrain_reg_loss = 31.773799896240234\n",
      "\ttrain_cls_loss = 2.697499990463257\n",
      "\ttrain_iou = 0.0071\n",
      "\ttrain_accuracy = 0.031199999153614044\n",
      "\tval_loss = 11.95110034942627\n",
      "\tval_reg_loss = 15.993599891662598\n",
      "\tval_cls_loss = 2.295799970626831\n",
      "\tval_iou = 0.0004\n",
      "\tval_accuracy = 0.1875\n",
      "\n",
      "Iteration #:  110\n",
      "\talpha = 0.7095\n",
      "\ttrain_loss = 23.353500366210938\n",
      "\ttrain_reg_loss = 31.916200637817383\n",
      "\ttrain_cls_loss = 2.4379000663757324\n",
      "\ttrain_iou = 0.0026\n",
      "\ttrain_accuracy = 0.0625\n",
      "\tval_loss = 11.989899635314941\n",
      "\tval_reg_loss = 15.959799766540527\n",
      "\tval_cls_loss = 2.2927000522613525\n",
      "\tval_iou = 0.0025\n",
      "\tval_accuracy = 0.1875\n",
      "\n",
      "Iteration #:  115\n",
      "\talpha = 0.714\n",
      "\ttrain_loss = 23.41659927368164\n",
      "\ttrain_reg_loss = 31.766000747680664\n",
      "\ttrain_cls_loss = 2.5771000385284424\n",
      "\ttrain_iou = 0.0073\n",
      "\ttrain_accuracy = 0.09380000084638596\n",
      "\tval_loss = 12.082099914550781\n",
      "\tval_reg_loss = 16.0\n",
      "\tval_cls_loss = 2.3032000064849854\n",
      "\tval_iou = 0.0\n",
      "\tval_accuracy = 0.1875\n",
      "\n",
      "Iteration #:  120\n",
      "\talpha = 0.7182\n",
      "\ttrain_loss = 23.537799835205078\n",
      "\ttrain_reg_loss = 31.733699798583984\n",
      "\ttrain_cls_loss = 2.651700019836426\n",
      "\ttrain_iou = 0.0083\n",
      "\ttrain_accuracy = 0.0625\n",
      "\tval_loss = 12.14050006866455\n",
      "\tval_reg_loss = 16.0\n",
      "\tval_cls_loss = 2.3048999309539795\n",
      "\tval_iou = 0.0\n",
      "\tval_accuracy = 0.1875\n",
      "\n",
      "Iteration #:  125\n",
      "\talpha = 0.7222\n",
      "\ttrain_loss = 23.495399475097656\n",
      "\ttrain_reg_loss = 31.5674991607666\n",
      "\ttrain_cls_loss = 2.5078999996185303\n",
      "\ttrain_iou = 0.0135\n",
      "\ttrain_accuracy = 0.1875\n",
      "\tval_loss = 12.196000099182129\n",
      "\tval_reg_loss = 16.0\n",
      "\tval_cls_loss = 2.3055999279022217\n",
      "\tval_iou = 0.0\n",
      "\tval_accuracy = 0.1875\n",
      "\n"
     ]
    },
    {
     "name": "stdout",
     "output_type": "stream",
     "text": [
      "Iteration #:  130\n",
      "\talpha = 0.7261\n",
      "\ttrain_loss = 23.54599952697754\n",
      "\ttrain_reg_loss = 31.466699600219727\n",
      "\ttrain_cls_loss = 2.550100088119507\n",
      "\ttrain_iou = 0.0167\n",
      "\ttrain_accuracy = 0.031199999153614044\n",
      "\tval_loss = 12.250300407409668\n",
      "\tval_reg_loss = 16.0\n",
      "\tval_cls_loss = 2.310699939727783\n",
      "\tval_iou = 0.0\n",
      "\tval_accuracy = 0.125\n",
      "\n",
      "Iteration #:  135\n",
      "\talpha = 0.7298\n",
      "\ttrain_loss = 23.875200271606445\n",
      "\ttrain_reg_loss = 31.804000854492188\n",
      "\ttrain_cls_loss = 2.4612998962402344\n",
      "\ttrain_iou = 0.0061\n",
      "\ttrain_accuracy = 0.09380000084638596\n",
      "\tval_loss = 12.30049991607666\n",
      "\tval_reg_loss = 16.0\n",
      "\tval_cls_loss = 2.309000015258789\n",
      "\tval_iou = 0.0\n",
      "\tval_accuracy = 0.1875\n",
      "\n",
      "Iteration #:  140\n",
      "\talpha = 0.7333\n",
      "\ttrain_loss = 23.939599990844727\n",
      "\ttrain_reg_loss = 31.729400634765625\n",
      "\ttrain_cls_loss = 2.517699956893921\n",
      "\ttrain_iou = 0.0085\n",
      "\ttrain_accuracy = 0.1875\n",
      "\tval_loss = 12.349300384521484\n",
      "\tval_reg_loss = 16.0\n",
      "\tval_cls_loss = 2.3099000453948975\n",
      "\tval_iou = 0.0\n",
      "\tval_accuracy = 0.1875\n",
      "\n",
      "Iteration #:  145\n",
      "\talpha = 0.7367\n",
      "\ttrain_loss = 24.031299591064453\n",
      "\ttrain_reg_loss = 31.741300582885742\n",
      "\ttrain_cls_loss = 2.4553000926971436\n",
      "\ttrain_iou = 0.0081\n",
      "\ttrain_accuracy = 0.031199999153614044\n",
      "\tval_loss = 12.393899917602539\n",
      "\tval_reg_loss = 16.0\n",
      "\tval_cls_loss = 2.302500009536743\n",
      "\tval_iou = 0.0\n",
      "\tval_accuracy = 0.1875\n",
      "\n",
      "Iteration #:  150\n",
      "\talpha = 0.74\n",
      "\ttrain_loss = 24.160900115966797\n",
      "\ttrain_reg_loss = 31.755599975585938\n",
      "\ttrain_cls_loss = 2.5453999042510986\n",
      "\ttrain_iou = 0.0076\n",
      "\ttrain_accuracy = 0.031199999153614044\n",
      "\tval_loss = 12.43649959564209\n",
      "\tval_reg_loss = 16.0\n",
      "\tval_cls_loss = 2.2943999767303467\n",
      "\tval_iou = 0.0\n",
      "\tval_accuracy = 0.1875\n",
      "\n",
      "Iteration #:  155\n",
      "\talpha = 0.7431\n",
      "\ttrain_loss = 24.31279945373535\n",
      "\ttrain_reg_loss = 31.861600875854492\n",
      "\ttrain_cls_loss = 2.472899913787842\n",
      "\ttrain_iou = 0.0043\n",
      "\ttrain_accuracy = 0.031199999153614044\n",
      "\tval_loss = 12.478500366210938\n",
      "\tval_reg_loss = 16.0\n",
      "\tval_cls_loss = 2.290299892425537\n",
      "\tval_iou = 0.0\n",
      "\tval_accuracy = 0.25\n",
      "\n",
      "Iteration #:  160\n",
      "\talpha = 0.7462\n",
      "\ttrain_loss = 24.362699508666992\n",
      "\ttrain_reg_loss = 31.761999130249023\n",
      "\ttrain_cls_loss = 2.6135001182556152\n",
      "\ttrain_iou = 0.0074\n",
      "\ttrain_accuracy = 0.09380000084638596\n",
      "\tval_loss = 12.520700454711914\n",
      "\tval_reg_loss = 16.0\n",
      "\tval_cls_loss = 2.293800115585327\n",
      "\tval_iou = 0.0\n",
      "\tval_accuracy = 0.125\n",
      "\n",
      "Iteration #:  165\n",
      "\talpha = 0.7491\n",
      "\ttrain_loss = 24.436599731445312\n",
      "\ttrain_reg_loss = 31.803300857543945\n",
      "\ttrain_cls_loss = 2.4470999240875244\n",
      "\ttrain_iou = 0.0061\n",
      "\ttrain_accuracy = 0.0625\n",
      "\tval_loss = 12.560600280761719\n",
      "\tval_reg_loss = 16.0\n",
      "\tval_cls_loss = 2.2941999435424805\n",
      "\tval_iou = 0.0\n",
      "\tval_accuracy = 0.1875\n",
      "\n",
      "Iteration #:  170\n",
      "\talpha = 0.7519\n",
      "\ttrain_loss = 24.52239990234375\n",
      "\ttrain_reg_loss = 31.80940055847168\n",
      "\ttrain_cls_loss = 2.4439001083374023\n",
      "\ttrain_iou = 0.006\n",
      "\ttrain_accuracy = 0.15620000660419464\n",
      "\tval_loss = 12.600600242614746\n",
      "\tval_reg_loss = 16.0\n",
      "\tval_cls_loss = 2.3010001182556152\n",
      "\tval_iou = 0.0\n",
      "\tval_accuracy = 0.1875\n",
      "\n",
      "Iteration #:  175\n",
      "\talpha = 0.7545\n",
      "\ttrain_loss = 24.368600845336914\n",
      "\ttrain_reg_loss = 31.44099998474121\n",
      "\ttrain_cls_loss = 2.6275999546051025\n",
      "\ttrain_iou = 0.0175\n",
      "\ttrain_accuracy = 0.09380000084638596\n",
      "\tval_loss = 12.638299942016602\n",
      "\tval_reg_loss = 16.0\n",
      "\tval_cls_loss = 2.30430006980896\n",
      "\tval_iou = 0.0\n",
      "\tval_accuracy = 0.125\n",
      "\n",
      "Iteration #:  180\n",
      "\talpha = 0.7571\n",
      "\ttrain_loss = 24.635700225830078\n",
      "\ttrain_reg_loss = 31.696300506591797\n",
      "\ttrain_cls_loss = 2.6231000423431396\n",
      "\ttrain_iou = 0.0095\n",
      "\ttrain_accuracy = 0.09380000084638596\n",
      "\tval_loss = 12.674099922180176\n",
      "\tval_reg_loss = 16.0\n",
      "\tval_cls_loss = 2.3052000999450684\n",
      "\tval_iou = 0.0\n",
      "\tval_accuracy = 0.125\n",
      "\n",
      "Iteration #:  185\n",
      "\talpha = 0.7596\n",
      "\ttrain_loss = 24.625900268554688\n",
      "\ttrain_reg_loss = 31.637699127197266\n",
      "\ttrain_cls_loss = 2.464600086212158\n",
      "\ttrain_iou = 0.0113\n",
      "\ttrain_accuracy = 0.1875\n",
      "\tval_loss = 12.708700180053711\n",
      "\tval_reg_loss = 16.0\n",
      "\tval_cls_loss = 2.306299924850464\n",
      "\tval_iou = 0.0\n",
      "\tval_accuracy = 0.125\n",
      "\n",
      "Iteration #:  190\n",
      "\talpha = 0.7621\n",
      "\ttrain_loss = 24.8705997467041\n",
      "\ttrain_reg_loss = 31.915700912475586\n",
      "\ttrain_cls_loss = 2.305799961090088\n",
      "\ttrain_iou = 0.0026\n",
      "\ttrain_accuracy = 0.1875\n",
      "\tval_loss = 12.743000030517578\n",
      "\tval_reg_loss = 16.0\n",
      "\tval_cls_loss = 2.3111000061035156\n",
      "\tval_iou = 0.0\n",
      "\tval_accuracy = 0.1875\n",
      "\n",
      "Iteration #:  195\n",
      "\talpha = 0.7644\n",
      "\ttrain_loss = 25.023099899291992\n",
      "\ttrain_reg_loss = 31.943700790405273\n",
      "\ttrain_cls_loss = 2.5683999061584473\n",
      "\ttrain_iou = 0.0018\n",
      "\ttrain_accuracy = 0.09380000084638596\n",
      "\tval_loss = 12.74940013885498\n",
      "\tval_reg_loss = 15.969200134277344\n",
      "\tval_cls_loss = 2.3022000789642334\n",
      "\tval_iou = 0.0019\n",
      "\tval_accuracy = 0.1875\n",
      "\n",
      "Iteration #:  200\n",
      "\talpha = 0.7667\n",
      "\ttrain_loss = 25.052600860595703\n",
      "\ttrain_reg_loss = 31.880699157714844\n",
      "\ttrain_cls_loss = 2.617300033569336\n",
      "\ttrain_iou = 0.0037\n",
      "\ttrain_accuracy = 0.125\n",
      "\tval_loss = 12.757499694824219\n",
      "\tval_reg_loss = 15.943499565124512\n",
      "\tval_cls_loss = 2.289099931716919\n",
      "\tval_iou = 0.0035\n",
      "\tval_accuracy = 0.1875\n",
      "\n"
     ]
    }
   ],
   "source": [
    "train_result = train(\n",
    "    alexnet_model,\n",
    "    optimizer,\n",
    "    train_data,\n",
    "    eval_datasets=[('val', test_data)],\n",
    "    loss_fn=loss_fn,\n",
    "    metrics={\n",
    "        'bbox': [('iou', iou)],\n",
    "        'class_id': [('accuracy', accuracy)]\n",
    "    },\n",
    "    callbacks=[printer],\n",
    "    device=device,\n",
    "    train_steps=config_dict['num_epochs'],\n",
    "    eval_steps=5,\n",
    ")\n",
    "\n",
    "model = train_result['model']"
   ]
  },
  {
   "cell_type": "code",
   "execution_count": null,
   "metadata": {},
   "outputs": [],
   "source": []
  },
  {
   "cell_type": "code",
   "execution_count": null,
   "metadata": {},
   "outputs": [],
   "source": []
  },
  {
   "cell_type": "code",
   "execution_count": null,
   "metadata": {},
   "outputs": [],
   "source": []
  },
  {
   "cell_type": "code",
   "execution_count": null,
   "metadata": {},
   "outputs": [],
   "source": []
  },
  {
   "cell_type": "code",
   "execution_count": null,
   "metadata": {},
   "outputs": [],
   "source": []
  },
  {
   "cell_type": "code",
   "execution_count": null,
   "metadata": {},
   "outputs": [],
   "source": []
  },
  {
   "cell_type": "code",
   "execution_count": null,
   "metadata": {},
   "outputs": [],
   "source": []
  },
  {
   "cell_type": "code",
   "execution_count": null,
   "metadata": {},
   "outputs": [],
   "source": []
  },
  {
   "cell_type": "code",
   "execution_count": null,
   "metadata": {},
   "outputs": [],
   "source": []
  },
  {
   "cell_type": "code",
   "execution_count": null,
   "metadata": {},
   "outputs": [],
   "source": []
  },
  {
   "cell_type": "code",
   "execution_count": null,
   "metadata": {
    "ExecuteTime": {
     "start_time": "2022-12-09T18:29:27.927Z"
    }
   },
   "outputs": [],
   "source": [
    "# Data\n",
    "train_ds = MNISTDataset(train_df, root_dir=config_dict['train_images_dir'], transform=train_transforms)\n",
    "test_ds = MNISTDataset(test_df, root_dir=config_dict['train_images_dir'], transform=eval_transforms)\n",
    "\n",
    "train_data = DataLoader(train_ds, batch_size=config_dict['batch_size'], shuffle=True, num_workers=cpu_count())\n",
    "test_data = DataLoader(test_ds, batch_size=config_dict['batch_size'], num_workers=cpu_count())\n",
    "\n",
    "# # Model\n",
    "# model = Model(feature_extractor_model, classifier, regressor).to(device)\n",
    "# summary(model, input_size=(3, config_dict['img_size'], config_dict['img_size']))"
   ]
  },
  {
   "cell_type": "code",
   "execution_count": null,
   "metadata": {
    "ExecuteTime": {
     "end_time": "2022-12-08T05:54:57.437122Z",
     "start_time": "2022-12-08T05:54:57.374020Z"
    },
    "scrolled": false
   },
   "outputs": [],
   "source": []
  },
  {
   "cell_type": "markdown",
   "metadata": {},
   "source": [
    "## Image To Tensor"
   ]
  },
  {
   "cell_type": "markdown",
   "metadata": {},
   "source": [
    "### Image normalization"
   ]
  },
  {
   "cell_type": "code",
   "execution_count": null,
   "metadata": {
    "ExecuteTime": {
     "start_time": "2022-12-09T18:29:27.961Z"
    }
   },
   "outputs": [],
   "source": [
    "train_ds = MNISTDataset(train_df, root_dir=config_dict['train_images_dir'])\n",
    "\n",
    "means = None \n",
    "stds = None\n",
    "\n",
    "if means is None and stds is None:\n",
    "    means, stds = [], []\n",
    "    pixel_values = [\n",
    "        [], # R, size = H * W * num_images \n",
    "        [], # G size = H * W * num_images\n",
    "        [], # B size = H * W * num_images\n",
    "    ]\n",
    "\n",
    "    for x in train_ds:\n",
    "        img = x['image']\n",
    "\n",
    "        for channel in range(config_dict['num_channels']):\n",
    "            channel_pixel_values = list(img[..., channel].flatten())\n",
    "            pixel_values[channel].extend(channel_pixel_values)\n",
    "\n",
    "    for channel in range(config_dict['num_channels']):\n",
    "        means.append(np.mean(pixel_values[channel]))\n",
    "        stds.append(np.std(pixel_values[channel]))\n",
    "    \n",
    "    del pixel_values\n"
   ]
  },
  {
   "cell_type": "code",
   "execution_count": null,
   "metadata": {
    "ExecuteTime": {
     "start_time": "2022-12-09T18:29:27.986Z"
    }
   },
   "outputs": [],
   "source": [
    "example_img = cv2.imread(config_dict['train_images_dir']+train_df.iloc[0].filename)\n",
    "example_img = cv2.cvtColor(example_img, cv2.COLOR_BGR2RGB)\n",
    "\n",
    "print(example_img.shape)\n",
    "example_img[..., 0] = 0\n",
    "example_img[..., 2] = 0\n",
    "\n",
    "plt.imshow(example_img)"
   ]
  },
  {
   "cell_type": "markdown",
   "metadata": {},
   "source": [
    "Definimos el transformador que convertirá una imagen en un tensor."
   ]
  },
  {
   "cell_type": "code",
   "execution_count": null,
   "metadata": {
    "ExecuteTime": {
     "end_time": "2022-12-06T20:36:22.305769Z",
     "start_time": "2022-12-06T20:36:22.302812Z"
    }
   },
   "outputs": [],
   "source": []
  },
  {
   "cell_type": "code",
   "execution_count": null,
   "metadata": {
    "ExecuteTime": {
     "start_time": "2022-12-09T18:29:28.024Z"
    }
   },
   "outputs": [],
   "source": []
  },
  {
   "cell_type": "code",
   "execution_count": null,
   "metadata": {
    "ExecuteTime": {
     "start_time": "2022-12-09T18:29:28.044Z"
    }
   },
   "outputs": [],
   "source": [
    "class TVTransformWrapper(object):\n",
    "    \"\"\"Torch Vision Transform Wrapper\n",
    "    \"\"\"\n",
    "    def __init__(self, transform: torch.nn.Module):\n",
    "        self.transform = transform\n",
    "        \n",
    "    def __call__(self, sample):\n",
    "        sample['image'] = self.transform(sample['image'])\n",
    "        return sample"
   ]
  },
  {
   "cell_type": "code",
   "execution_count": null,
   "metadata": {
    "ExecuteTime": {
     "start_time": "2022-12-09T18:29:28.059Z"
    }
   },
   "outputs": [],
   "source": [
    "class AlbumentationsWrapper(object):\n",
    "    \n",
    "    def __init__(self, transform):\n",
    "        self.transform = transform\n",
    "    \n",
    "    def __call__(self, sample):\n",
    "        transformed = self.transform(\n",
    "            image=sample['image'], \n",
    "            bboxes=sample['bbox']\n",
    "        )\n",
    "        sample['image'] = transformed['image']\n",
    "        sample['bbox'] = np.array(transformed['bboxes'])\n",
    "        return sample"
   ]
  },
  {
   "cell_type": "code",
   "execution_count": null,
   "metadata": {
    "ExecuteTime": {
     "start_time": "2022-12-09T18:29:28.078Z"
    }
   },
   "outputs": [],
   "source": [
    "common_transforms = [\n",
    "    Normalizer(\n",
    "        means=means,\n",
    "        stds=stds,\n",
    "    ),\n",
    "    ToTensor(img_size=config_dict['img_size']),\n",
    "]"
   ]
  },
  {
   "cell_type": "markdown",
   "metadata": {},
   "source": [
    "### Data augmentations "
   ]
  },
  {
   "cell_type": "code",
   "execution_count": null,
   "metadata": {
    "ExecuteTime": {
     "start_time": "2022-12-09T18:29:28.093Z"
    }
   },
   "outputs": [],
   "source": []
  },
  {
   "cell_type": "code",
   "execution_count": null,
   "metadata": {
    "ExecuteTime": {
     "start_time": "2022-12-09T18:29:28.110Z"
    }
   },
   "outputs": [],
   "source": []
  },
  {
   "cell_type": "code",
   "execution_count": null,
   "metadata": {
    "ExecuteTime": {
     "start_time": "2022-12-09T18:29:28.125Z"
    }
   },
   "outputs": [],
   "source": []
  },
  {
   "cell_type": "code",
   "execution_count": null,
   "metadata": {
    "ExecuteTime": {
     "start_time": "2022-12-09T18:29:28.139Z"
    }
   },
   "outputs": [],
   "source": [
    "train_ds = MNISTDataset(train_df, root_dir=config_dict['train_images_dir'])\n",
    "\n",
    "x = next(iter(train_ds))\n",
    "x_transformed = copy.deepcopy(x)\n",
    "x_transformed = train_transforms(x_transformed)"
   ]
  },
  {
   "cell_type": "code",
   "execution_count": null,
   "metadata": {
    "ExecuteTime": {
     "start_time": "2022-12-09T18:29:28.155Z"
    }
   },
   "outputs": [],
   "source": [
    "# def draw_bbox_transformed(img, bbox, color):\n",
    "#     \"\"\"\n",
    "#     Draw the bounding box on the image.\n",
    "\n",
    "#     Source: https://www.kaggle.com/code/sebastingarcaacosta/tutoria-1\n",
    "\n",
    "#     Args:\n",
    "#         img (list): List of images.\n",
    "#         bbox (list): List of bouding boxes.\n",
    "#         color (list): List of colors.\n",
    "\n",
    "#     Returns:\n",
    "#         img (list): List of images with the bounding box.\n",
    "#     \"\"\"\n",
    "#     xmin, ymin, xmax, ymax = bbox\n",
    "#     img = cv2.cvtColor(img, cv2.COLOR_BGR2RGB) \n",
    "#     img = cv2.rectangle(img, (xmin, ymin), (xmax, ymax), color, 2)\n",
    "#     return img"
   ]
  },
  {
   "cell_type": "code",
   "execution_count": null,
   "metadata": {
    "ExecuteTime": {
     "start_time": "2022-12-09T18:29:28.172Z"
    },
    "scrolled": true
   },
   "outputs": [],
   "source": [
    "# original_img = x['image']\n",
    "# transformed_img = x_transformed['image'].numpy().transpose(1, 2, 0)\n",
    "\n",
    "# original_img = draw_bbox(\n",
    "#     original_img,\n",
    "#     normalize_bbox(x['bbox'].squeeze()),\n",
    "#     (0, 255, 0)\n",
    "# )\n",
    "\n",
    "# transformed_img = draw_bbox_transformed(\n",
    "#     transformed_img,\n",
    "#     normalize_bbox(x_transformed['bbox'].squeeze()),\n",
    "#     (0, 255, 0)\n",
    "# )\n",
    "\n",
    "# fig, axes = plt.subplots(nrows=1, ncols=2, figsize=(10, 5))\n",
    "\n",
    "# axes[0].imshow(original_img)\n",
    "# axes[0].set_title('Original digit')\n",
    "\n",
    "# axes[1].imshow(transformed_img)\n",
    "# axes[1].set_title('Transformed digit')\n",
    "\n",
    "# plt.show()"
   ]
  },
  {
   "cell_type": "code",
   "execution_count": null,
   "metadata": {
    "ExecuteTime": {
     "end_time": "2022-12-06T20:36:42.052169Z",
     "start_time": "2022-12-06T20:36:41.866679Z"
    }
   },
   "outputs": [],
   "source": []
  },
  {
   "cell_type": "markdown",
   "metadata": {
    "ExecuteTime": {
     "end_time": "2022-12-05T04:23:09.551458Z",
     "start_time": "2022-12-05T04:23:09.532874Z"
    }
   },
   "source": []
  },
  {
   "cell_type": "code",
   "execution_count": null,
   "metadata": {
    "ExecuteTime": {
     "end_time": "2022-12-06T20:36:43.329812Z",
     "start_time": "2022-12-06T20:36:43.327038Z"
    }
   },
   "outputs": [],
   "source": []
  },
  {
   "cell_type": "markdown",
   "metadata": {},
   "source": []
  },
  {
   "cell_type": "code",
   "execution_count": null,
   "metadata": {
    "ExecuteTime": {
     "end_time": "2022-12-06T20:36:44.165035Z",
     "start_time": "2022-12-06T20:36:44.162070Z"
    }
   },
   "outputs": [],
   "source": []
  },
  {
   "cell_type": "markdown",
   "metadata": {},
   "source": [
    "## Model for classification and objects location"
   ]
  },
  {
   "cell_type": "code",
   "execution_count": null,
   "metadata": {
    "ExecuteTime": {
     "start_time": "2022-12-09T18:29:28.224Z"
    }
   },
   "outputs": [],
   "source": [
    "def get_output_shape(model: nn.Sequential, image_dim: ty.Tuple[int, int, int]):\n",
    "    return model(torch.rand(*(image_dim)).to(device)).data.shape"
   ]
  },
  {
   "cell_type": "code",
   "execution_count": null,
   "metadata": {
    "ExecuteTime": {
     "end_time": "2022-12-06T20:36:45.113233Z",
     "start_time": "2022-12-06T20:36:45.110224Z"
    }
   },
   "outputs": [],
   "source": []
  },
  {
   "cell_type": "code",
   "execution_count": null,
   "metadata": {
    "ExecuteTime": {
     "start_time": "2022-12-09T18:29:28.279Z"
    }
   },
   "outputs": [],
   "source": [
    "torch.cuda.empty_cache()"
   ]
  },
  {
   "cell_type": "code",
   "execution_count": null,
   "metadata": {
    "ExecuteTime": {
     "end_time": "2022-12-06T20:36:45.717927Z",
     "start_time": "2022-12-06T20:36:45.675379Z"
    }
   },
   "outputs": [],
   "source": []
  },
  {
   "cell_type": "code",
   "execution_count": null,
   "metadata": {
    "ExecuteTime": {
     "end_time": "2022-12-06T20:36:45.971209Z",
     "start_time": "2022-12-06T20:36:45.930931Z"
    }
   },
   "outputs": [],
   "source": []
  },
  {
   "cell_type": "code",
   "execution_count": null,
   "metadata": {
    "ExecuteTime": {
     "end_time": "2022-12-06T20:36:46.216308Z",
     "start_time": "2022-12-06T20:36:46.205769Z"
    }
   },
   "outputs": [],
   "source": []
  },
  {
   "cell_type": "code",
   "execution_count": null,
   "metadata": {
    "ExecuteTime": {
     "end_time": "2022-12-06T20:36:46.878172Z",
     "start_time": "2022-12-06T20:36:46.835801Z"
    }
   },
   "outputs": [],
   "source": []
  },
  {
   "cell_type": "code",
   "execution_count": null,
   "metadata": {
    "ExecuteTime": {
     "start_time": "2022-12-09T18:29:28.369Z"
    }
   },
   "outputs": [],
   "source": [
    "print('image', x['image'].size())"
   ]
  },
  {
   "cell_type": "code",
   "execution_count": null,
   "metadata": {
    "ExecuteTime": {
     "start_time": "2022-12-09T18:29:28.381Z"
    }
   },
   "outputs": [],
   "source": [
    "x['image'] = x['image'].to(device)\n",
    "preds = model(x['image'])\n",
    "preds"
   ]
  },
  {
   "cell_type": "markdown",
   "metadata": {},
   "source": [
    "## Metrics"
   ]
  },
  {
   "cell_type": "code",
   "execution_count": null,
   "metadata": {
    "ExecuteTime": {
     "end_time": "2022-12-06T20:36:48.864849Z",
     "start_time": "2022-12-06T20:36:48.862559Z"
    }
   },
   "outputs": [],
   "source": []
  },
  {
   "cell_type": "code",
   "execution_count": null,
   "metadata": {
    "ExecuteTime": {
     "end_time": "2022-12-06T20:36:49.276700Z",
     "start_time": "2022-12-06T20:36:49.274273Z"
    }
   },
   "outputs": [],
   "source": []
  },
  {
   "cell_type": "code",
   "execution_count": null,
   "metadata": {
    "ExecuteTime": {
     "end_time": "2022-12-06T20:39:00.887004Z",
     "start_time": "2022-12-06T20:39:00.883484Z"
    }
   },
   "outputs": [],
   "source": []
  },
  {
   "cell_type": "markdown",
   "metadata": {},
   "source": [
    "## Callbacks\n"
   ]
  },
  {
   "cell_type": "code",
   "execution_count": null,
   "metadata": {
    "ExecuteTime": {
     "end_time": "2022-12-06T20:39:01.518062Z",
     "start_time": "2022-12-06T20:39:01.514667Z"
    }
   },
   "outputs": [],
   "source": []
  },
  {
   "cell_type": "markdown",
   "metadata": {},
   "source": [
    "## Training loop"
   ]
  },
  {
   "cell_type": "code",
   "execution_count": null,
   "metadata": {
    "ExecuteTime": {
     "start_time": "2022-12-09T18:29:28.444Z"
    }
   },
   "outputs": [],
   "source": [
    "def evaluate(\n",
    "    logs: ty.Dict[str, ty.Any], \n",
    "    labels: ty.Dict[str, Tensor],\n",
    "    preds: ty.Dict[str, Tensor],\n",
    "    eval_set: str,\n",
    "    metrics: ty.Dict[str, ty.Callable[[Tensor, Tensor], Tensor]],\n",
    "    losses: ty.Optional[ty.Dict[str, Tensor]] = None,\n",
    ") -> ty.Dict[str, ty.Any]:\n",
    "    \n",
    "    if losses is not None:\n",
    "        for loss_name, loss_value in losses.items():\n",
    "            logs[f'{eval_set}_{loss_name}'] = loss_value\n",
    "    \n",
    "    for task_name, label in labels.items():\n",
    "        for metric_name, metric in metrics[task_name]:\n",
    "            value = metric(label, preds[task_name])\n",
    "            logs[f'{eval_set}_{metric_name}'] = value\n",
    "            \n",
    "    return logs\n",
    "\n",
    "def step(\n",
    "    model: Model, \n",
    "    optimizer: Optimizer, \n",
    "    batch: MNISTDataset,\n",
    "    loss_fn: ty.Callable[[ty.Dict[str, torch.Tensor]], torch.Tensor],\n",
    "    device: str,\n",
    "    train: bool = False,\n",
    ") -> ty.Tuple[ty.Dict[str, Tensor], ty.Dict[str, Tensor]]:\n",
    "    \n",
    "    if train:\n",
    "        optimizer.zero_grad()\n",
    "    \n",
    "    img = batch.pop('image').to(device)\n",
    "    \n",
    "    for k in list(batch.keys()):\n",
    "        batch[k] = batch[k].to(device)\n",
    "    \n",
    "    preds = model(img.float())\n",
    "    losses = loss_fn(batch, preds)\n",
    "    final_loss = losses['loss']\n",
    "    if train:\n",
    "        final_loss.backward()\n",
    "        optimizer.step()\n",
    "    \n",
    "    return losses, preds\n",
    "\n",
    "\n",
    "def train(\n",
    "    model: Model, \n",
    "    optimizer: Optimizer, \n",
    "    dataset: DataLoader,\n",
    "    eval_datasets: ty.List[ty.Tuple[str, DataLoader]],\n",
    "    loss_fn: ty.Callable[[ty.Dict[str, torch.Tensor]], torch.Tensor],\n",
    "    metrics: ty.Dict[str, ty.Callable[[Tensor, Tensor], Tensor]],\n",
    "    callbacks: ty.List[ty.Callable[[ty.Dict[ty.Any, ty.Any]], None]],\n",
    "    device: str,\n",
    "    train_steps: 100,\n",
    "    eval_steps: 10,\n",
    ") -> Model:\n",
    "    # Send model to device (GPU or CPU)\n",
    "    model = model.to(device)\n",
    "    iters = 0\n",
    "    iterator = iter(dataset)\n",
    "    assert train_steps > eval_steps, 'Train steps should be greater than the eval steps'\n",
    "    \n",
    "    while iters <= train_steps:\n",
    "        logs = dict()\n",
    "        logs['iters'] = iters\n",
    "        try:\n",
    "            batch = next(iterator)\n",
    "        except StopIteration:\n",
    "            iterator = iter(dataset)\n",
    "            batch = next(iterator)\n",
    "        # Send batch to device \n",
    "        losses, preds = step(model, optimizer, batch, loss_fn, device, train=True)\n",
    "        logs = evaluate(logs, batch, preds, 'train', metrics, losses)\n",
    "        \n",
    "        # Eval every eval_steps iterations\n",
    "        if iters % eval_steps == 0:        \n",
    "            # Evaluate\n",
    "            # Deactives layers that only needed to train\n",
    "            # https://discuss.pytorch.org/t/model-eval-vs-with-torch-no-grad/19615\n",
    "            model.eval()\n",
    "            \n",
    "            # Avoids calculating gradients in evaluation dataset. \n",
    "            with torch.no_grad():\n",
    "\n",
    "                for name, dataset in eval_datasets:\n",
    "                    for batch in dataset:\n",
    "                        losses, preds = step(model, optimizer, batch, loss_fn, device, train=False)            \n",
    "                        logs = evaluate(logs, batch, preds, name, metrics, losses)\n",
    "        \n",
    "        for callback in callbacks:\n",
    "            callback(logs)\n",
    "        \n",
    "        iters += 1\n",
    "    \n",
    "    return model"
   ]
  },
  {
   "cell_type": "markdown",
   "metadata": {},
   "source": [
    "## Run"
   ]
  },
  {
   "cell_type": "code",
   "execution_count": null,
   "metadata": {
    "ExecuteTime": {
     "start_time": "2022-12-09T18:29:28.463Z"
    }
   },
   "outputs": [],
   "source": [
    "# Data\n",
    "train_ds = MNISTDataset(train_df, root_dir=config_dict['train_images_dir'], transform=train_transforms)\n",
    "test_ds = MNISTDataset(test_df, root_dir=config_dict['train_images_dir'], transform=eval_transforms)\n",
    "\n",
    "train_data = DataLoader(train_ds, batch_size=config_dict['batch_size'], shuffle=True, num_workers=cpu_count())\n",
    "test_data = DataLoader(test_ds, batch_size=config_dict['batch_size'], num_workers=cpu_count())\n",
    "\n",
    "# Model\n",
    "model = Model(feature_extractor_model, classifier, regressor).to(device)\n",
    "summary(model, input_size=(config_dict['num_channels'], config_dict['img_size'], config_dict['img_size']))"
   ]
  },
  {
   "cell_type": "code",
   "execution_count": null,
   "metadata": {
    "ExecuteTime": {
     "start_time": "2022-12-09T18:29:28.493Z"
    },
    "scrolled": false
   },
   "outputs": [],
   "source": [
    "# Optimizer\n",
    "\n"
   ]
  },
  {
   "cell_type": "markdown",
   "metadata": {
    "ExecuteTime": {
     "end_time": "2022-12-06T00:39:02.880741Z",
     "start_time": "2022-12-06T00:39:02.877571Z"
    }
   },
   "source": [
    "## Predictions visualization"
   ]
  },
  {
   "cell_type": "code",
   "execution_count": null,
   "metadata": {
    "ExecuteTime": {
     "end_time": "2022-12-08T20:03:18.204959Z",
     "start_time": "2022-12-08T20:03:14.994Z"
    }
   },
   "outputs": [],
   "source": []
  },
  {
   "cell_type": "code",
   "execution_count": null,
   "metadata": {
    "ExecuteTime": {
     "end_time": "2022-12-08T20:03:18.205480Z",
     "start_time": "2022-12-08T20:03:14.997Z"
    },
    "scrolled": true
   },
   "outputs": [],
   "source": []
  },
  {
   "cell_type": "markdown",
   "metadata": {},
   "source": [
    "## Save Model"
   ]
  },
  {
   "cell_type": "code",
   "execution_count": null,
   "metadata": {
    "ExecuteTime": {
     "start_time": "2022-12-09T18:29:28.570Z"
    }
   },
   "outputs": [],
   "source": [
    "from datetime import datetime\n",
    "import time\n",
    "from time import localtime"
   ]
  },
  {
   "cell_type": "code",
   "execution_count": null,
   "metadata": {
    "ExecuteTime": {
     "start_time": "2022-12-09T18:29:28.618Z"
    }
   },
   "outputs": [],
   "source": [
    "date = datetime.fromtimestamp(time.time(), tz=None)"
   ]
  },
  {
   "cell_type": "code",
   "execution_count": null,
   "metadata": {
    "ExecuteTime": {
     "start_time": "2022-12-09T18:29:28.653Z"
    }
   },
   "outputs": [],
   "source": [
    "date = date.strftime(\"%Y-%m-%d_%H-%M-%S\")"
   ]
  },
  {
   "cell_type": "code",
   "execution_count": null,
   "metadata": {
    "ExecuteTime": {
     "start_time": "2022-12-09T18:29:28.686Z"
    }
   },
   "outputs": [],
   "source": [
    "torch.save(model, f'models/{date}-pretrained_model.pth')"
   ]
  },
  {
   "cell_type": "markdown",
   "metadata": {},
   "source": [
    "## Submission"
   ]
  },
  {
   "cell_type": "code",
   "execution_count": null,
   "metadata": {
    "ExecuteTime": {
     "start_time": "2022-12-09T18:29:28.709Z"
    }
   },
   "outputs": [],
   "source": [
    "# Perform inference on cpu in order to avoid memory problems \n",
    "device = 'cuda'\n",
    "model = model.to(device)\n",
    "\n",
    "test_df = pd.read_csv('datasets/test.csv')\n",
    "\n",
    "test_ds = MNISTDataset(test_df, root_dir='datasets/images/test/', labeled=False, transform=eval_transforms)\n",
    "test_data = DataLoader(test_ds, batch_size=1, num_workers=cpu_count(), shuffle=False)\n",
    "\n",
    "class_preds = []\n",
    "bbox_preds = []\n",
    "\n",
    "for batch in test_data:\n",
    "    batch_preds = model(batch['image'].float().to(device))\n",
    "    \n",
    "    class_pred = batch_preds['class_id'].argmax(-1).detach().cpu().numpy()\n",
    "    bbox_pred = batch_preds['bbox'].detach().cpu().numpy()\n",
    "    \n",
    "    class_preds.append(class_pred.squeeze())\n",
    "    bbox_preds.append(bbox_pred.squeeze())"
   ]
  },
  {
   "cell_type": "code",
   "execution_count": null,
   "metadata": {
    "ExecuteTime": {
     "start_time": "2022-12-09T18:29:28.726Z"
    }
   },
   "outputs": [],
   "source": [
    "class_preds = np.array(class_preds)\n",
    "bbox_preds = np.array(bbox_preds)"
   ]
  },
  {
   "cell_type": "code",
   "execution_count": null,
   "metadata": {
    "ExecuteTime": {
     "start_time": "2022-12-09T18:29:28.745Z"
    }
   },
   "outputs": [],
   "source": [
    "submission = pd.DataFrame(\n",
    "    index=test_df.filename,\n",
    "    data={\n",
    "        'class': class_preds,\n",
    "        # Descomentar esta línea cuando generen el archivo de submissions final, \n",
    "        # para incluir las predicciones de su modelo para regresión  \n",
    "        #'bbox': bbox_preds\n",
    "    }\n",
    ")\n",
    "submission"
   ]
  },
  {
   "cell_type": "code",
   "execution_count": null,
   "metadata": {
    "ExecuteTime": {
     "start_time": "2022-12-09T18:29:28.768Z"
    }
   },
   "outputs": [],
   "source": [
    "submission.to_csv(f'submissions/{date}_submission.csv')"
   ]
  },
  {
   "cell_type": "code",
   "execution_count": null,
   "metadata": {},
   "outputs": [],
   "source": []
  }
 ],
 "metadata": {
  "kernelspec": {
   "display_name": "Python 3",
   "language": "python",
   "name": "python3"
  },
  "language_info": {
   "codemirror_mode": {
    "name": "ipython",
    "version": 3
   },
   "file_extension": ".py",
   "mimetype": "text/x-python",
   "name": "python",
   "nbconvert_exporter": "python",
   "pygments_lexer": "ipython3",
   "version": "3.8.10"
  },
  "toc": {
   "base_numbering": 1,
   "nav_menu": {},
   "number_sections": true,
   "sideBar": true,
   "skip_h1_title": true,
   "title_cell": "Tabla de Contenido",
   "title_sidebar": "Contenido",
   "toc_cell": true,
   "toc_position": {
    "height": "calc(100% - 180px)",
    "left": "10px",
    "top": "150px",
    "width": "276.634px"
   },
   "toc_section_display": true,
   "toc_window_display": true
  },
  "varInspector": {
   "cols": {
    "lenName": 16,
    "lenType": 16,
    "lenVar": 40
   },
   "kernels_config": {
    "python": {
     "delete_cmd_postfix": "",
     "delete_cmd_prefix": "del ",
     "library": "var_list.py",
     "varRefreshCmd": "print(var_dic_list())"
    },
    "r": {
     "delete_cmd_postfix": ") ",
     "delete_cmd_prefix": "rm(",
     "library": "var_list.r",
     "varRefreshCmd": "cat(var_dic_list()) "
    }
   },
   "types_to_exclude": [
    "module",
    "function",
    "builtin_function_or_method",
    "instance",
    "_Feature"
   ],
   "window_display": false
  }
 },
 "nbformat": 4,
 "nbformat_minor": 4
}
